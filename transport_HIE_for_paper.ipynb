{
 "cells": [
  {
   "cell_type": "markdown",
   "metadata": {},
   "source": [
    "![alt text](./Cerny_logo_1.jpg)"
   ]
  },
  {
   "cell_type": "markdown",
   "metadata": {},
   "source": [
    "# Volume targeted ventilation during neonatal transport\n",
    "\n",
    "Code supplement to this paper: Lantos, L., Berenyi, A., Morley, C., Somogyvari Zs & Belteki G. **Volume guarantee ventilation in neonates treated with hypothermia for hypoxic-ischemic encephalopathy during interhospital transport.** J Perinatol (2020). https://doi.org/10.1038/s41372-020-00823-8\n",
    "\n",
    "**Author: Dr Gusztav Belteki**"
   ]
  },
  {
   "cell_type": "markdown",
   "metadata": {},
   "source": [
    "### Import the required libraries and set options"
   ]
  },
  {
   "cell_type": "code",
   "execution_count": null,
   "metadata": {},
   "outputs": [],
   "source": [
    "import IPython\n",
    "import pandas as pd\n",
    "import numpy as np\n",
    "import scipy as sp\n",
    "import matplotlib\n",
    "import matplotlib.pyplot as plt\n",
    "\n",
    "import os\n",
    "import sys\n",
    "import re\n",
    "import pickle\n",
    "import datetime\n",
    "\n",
    "from scipy import stats\n",
    "from pandas import Series, DataFrame\n",
    "from datetime import datetime, timedelta\n",
    "\n",
    "%matplotlib inline\n",
    "\n",
    "matplotlib.style.use('classic')\n",
    "matplotlib.rcParams['figure.facecolor'] = 'w'\n",
    "\n",
    "pd.set_option('display.max_rows', 300)\n",
    "pd.set_option('display.max_columns', 300)\n",
    "pd.set_option('display.max_colwidth', -1)\n",
    "\n",
    "pd.options.mode.chained_assignment = None  # default='warn'\n",
    "\n",
    "# This suppresses the legend warning\n",
    "import logging\n",
    "logging.getLogger().setLevel(logging.CRITICAL)"
   ]
  },
  {
   "cell_type": "code",
   "execution_count": null,
   "metadata": {},
   "outputs": [],
   "source": [
    "print(\"Python version: {}\".format(sys.version))\n",
    "print(\"pandas version: {}\".format(pd.__version__))\n",
    "print(\"matplotlib version: {}\".format(matplotlib.__version__))\n",
    "print(\"NumPy version: {}\".format(np.__version__))\n",
    "print(\"SciPy version: {}\".format(sp.__version__))\n",
    "print(\"IPython version: {}\".format(IPython.__version__))"
   ]
  },
  {
   "cell_type": "markdown",
   "metadata": {},
   "source": [
    "### List and set the working directory and the directories to export results and graphs"
   ]
  },
  {
   "cell_type": "code",
   "execution_count": null,
   "metadata": {},
   "outputs": [],
   "source": [
    "# Topic of the Notebook which will also be the name of the subfolder containing results\n",
    "TOPIC = 'fabian'\n",
    "\n",
    "# Name of the external hard drive\n",
    "DRIVE = 'GUSZTI'\n",
    "\n",
    "# Directory containing clinical and blood gas data\n",
    "CWD = '/Users/guszti/ventilation_fabian'\n",
    "\n",
    "DIR_WRITE = '%s/%s/%s' % (CWD, 'Analyses', 'Analysis_HIE')\n",
    "if not os.path.isdir(DIR_WRITE):\n",
    "    os.makedirs(DIR_WRITE)\n",
    "\n",
    "# Images and raw data will be written on an external hard drive\n",
    "if not os.path.isdir('/Volumes/%s/data_dump/%s' % (DRIVE, TOPIC)):\n",
    "    os.makedirs('/Volumes/%s/data_dump/%s' % (DRIVE, TOPIC))\n",
    "DATA_DUMP = '/Volumes/%s/data_dump/%s' % (DRIVE, TOPIC)"
   ]
  },
  {
   "cell_type": "markdown",
   "metadata": {},
   "source": [
    "### Import clinical data of the recordings with possible HIE diagnosis\n",
    "\n",
    "As this list was prepared from ICH codes, not all these infants may have had HIE and therapeutic hypothermia"
   ]
  },
  {
   "cell_type": "code",
   "execution_count": null,
   "metadata": {},
   "outputs": [],
   "source": [
    "with open('%s/%s.pickle' % (DATA_DUMP, 'clin_df_HIE'), 'rb') as handle:\n",
    "    clin_df_HIE = pickle.load(handle)"
   ]
  },
  {
   "cell_type": "code",
   "execution_count": null,
   "metadata": {},
   "outputs": [],
   "source": [
    "len(clin_df_HIE)"
   ]
  },
  {
   "cell_type": "code",
   "execution_count": null,
   "metadata": {
    "scrolled": false
   },
   "outputs": [],
   "source": [
    "clin_df_HIE.head()"
   ]
  },
  {
   "cell_type": "markdown",
   "metadata": {},
   "source": [
    "### Identify recordings originating from the same infants"
   ]
  },
  {
   "cell_type": "code",
   "execution_count": null,
   "metadata": {
    "scrolled": false
   },
   "outputs": [],
   "source": [
    "clin_df_HIE[clin_df_HIE.duplicated(subset = ['Date of Birth', 'Gestational Age (weeks)', 'Birth Weight'], \n",
    "                                   keep = False)]"
   ]
  },
  {
   "cell_type": "markdown",
   "metadata": {},
   "source": [
    "### Import ventilator data from pickle archives"
   ]
  },
  {
   "cell_type": "code",
   "execution_count": null,
   "metadata": {},
   "outputs": [],
   "source": [
    "# Import ventilator parameters, settings and alarms\n",
    "\n",
    "with open('%s/%s.pickle' % (DATA_DUMP, 'data_pars_measurements_ventilated_1_300'), 'rb') as handle:\n",
    "    data_pars_measurements_ventilated_1_300 = pickle.load(handle)\n",
    "    \n",
    "with open('%s/%s.pickle' % (DATA_DUMP, 'data_pars_settings_ventilated_1_300'), 'rb') as handle:\n",
    "    data_pars_settings_ventilated_1_300 = pickle.load(handle)\n",
    "    \n",
    "with open('%s/%s.pickle' % (DATA_DUMP, 'data_pars_alarms_ventilated_1_300'), 'rb') as handle:\n",
    "    data_pars_alarms_ventilated_1_300 = pickle.load(handle)\n",
    "    \n",
    "\n",
    "with open('%s/%s.pickle' % (DATA_DUMP, 'data_pars_measurements_ventilated_301_600'), 'rb') as handle:\n",
    "    data_pars_measurements_ventilated_301_600 = pickle.load(handle)\n",
    "    \n",
    "with open('%s/%s.pickle' % (DATA_DUMP, 'data_pars_settings_ventilated_301_600'), 'rb') as handle:\n",
    "    data_pars_settings_ventilated_301_600 = pickle.load(handle)\n",
    "    \n",
    "with open('%s/%s.pickle' % (DATA_DUMP, 'data_pars_alarms_ventilated_301_600'), 'rb') as handle:\n",
    "    data_pars_alarms_ventilated_301_600 = pickle.load(handle)\n",
    "                            \n",
    "\n",
    "with open('%s/%s.pickle' % (DATA_DUMP, 'data_pars_measurements_ventilated_601_665'), 'rb') as handle:\n",
    "    data_pars_measurements_ventilated_601_900 = pickle.load(handle)\n",
    "    \n",
    "with open('%s/%s.pickle' % (DATA_DUMP, 'data_pars_settings_ventilated_601_665'), 'rb') as handle:\n",
    "    data_pars_settings_ventilated_601_900 = pickle.load(handle)\n",
    "    \n",
    "with open('%s/%s.pickle' % (DATA_DUMP, 'data_pars_alarms_ventilated_601_665'), 'rb') as handle:\n",
    "    data_pars_alarms_ventilated_601_900 = pickle.load(handle)\n",
    "    \n",
    "    \n",
    "data_pars_measurements_ventilated = {**data_pars_measurements_ventilated_1_300, \n",
    "                                     **data_pars_measurements_ventilated_301_600,\n",
    "                                     **data_pars_measurements_ventilated_601_900}\n",
    "\n",
    "data_pars_settings_ventilated = {**data_pars_settings_ventilated_1_300, \n",
    "                                 **data_pars_settings_ventilated_301_600,\n",
    "                                 **data_pars_settings_ventilated_601_900}\n",
    "\n",
    "data_pars_alarms_ventilated = {**data_pars_alarms_ventilated_1_300, \n",
    "                               **data_pars_alarms_ventilated_301_600,\n",
    "                               **data_pars_alarms_ventilated_601_900}"
   ]
  },
  {
   "cell_type": "code",
   "execution_count": null,
   "metadata": {},
   "outputs": [],
   "source": [
    "# Import DataFrames with ventilation modes\n",
    "\n",
    "with open('%s/%s.pickle' % (DATA_DUMP, 'vent_modes_ventilated_1_300'), 'rb') as handle:\n",
    "    vent_modes_ventilated_1_300 = pickle.load(handle)\n",
    "\n",
    "with open('%s/%s.pickle' % (DATA_DUMP, 'vent_modes_ventilated_301_600'), 'rb') as handle:\n",
    "    vent_modes_ventilated_301_600 = pickle.load(handle)\n",
    "    \n",
    "with open('%s/%s.pickle' % (DATA_DUMP, 'vent_modes_ventilated_601_665'), 'rb') as handle:\n",
    "    vent_modes_ventilated_601_900 = pickle.load(handle)\n",
    "    \n",
    "vent_modes_ventilated = pd.concat([vent_modes_ventilated_1_300, vent_modes_ventilated_301_600,\n",
    "                                   vent_modes_ventilated_601_900], sort = False)"
   ]
  },
  {
   "cell_type": "code",
   "execution_count": null,
   "metadata": {},
   "outputs": [],
   "source": [
    "len(data_pars_measurements_ventilated), len(vent_modes_ventilated)"
   ]
  },
  {
   "cell_type": "markdown",
   "metadata": {},
   "source": [
    "### Import blood gases"
   ]
  },
  {
   "cell_type": "code",
   "execution_count": null,
   "metadata": {},
   "outputs": [],
   "source": [
    "with open('%s/%s.pickle' % (DATA_DUMP, 'blood_gases_1_665'), 'rb') as handle:\n",
    "    blood_gases = pickle.load(handle)"
   ]
  },
  {
   "cell_type": "markdown",
   "metadata": {},
   "source": [
    "### How many of the selected infants were ventilated for longer than 15 minutes"
   ]
  },
  {
   "cell_type": "code",
   "execution_count": null,
   "metadata": {},
   "outputs": [],
   "source": [
    "# These are the babies who were not ventilated for >15 minutes\n",
    "\n",
    "print(set(clin_df_HIE.index)  - set(vent_modes_ventilated.index))"
   ]
  },
  {
   "cell_type": "code",
   "execution_count": null,
   "metadata": {},
   "outputs": [],
   "source": [
    "recordings = sorted(clin_df_HIE.index & vent_modes_ventilated.index)\n",
    "len(recordings)"
   ]
  },
  {
   "cell_type": "markdown",
   "metadata": {},
   "source": [
    "Select only those recordings which are ventilated for >15 minutes and HIE"
   ]
  },
  {
   "cell_type": "code",
   "execution_count": null,
   "metadata": {},
   "outputs": [],
   "source": [
    "data_pars_measurements_ventilated_HIE = {rec: data_pars_measurements_ventilated[rec] for rec \n",
    "                                         in data_pars_measurements_ventilated if rec in recordings}\n",
    "\n",
    "data_pars_settings_ventilated_HIE = {rec: data_pars_settings_ventilated[rec] for rec \n",
    "                                         in data_pars_settings_ventilated if rec in recordings}\n",
    "\n",
    "data_pars_alarms_ventilated_HIE = {rec : data_pars_alarms_ventilated[rec] for rec \n",
    "                                         in data_pars_alarms_ventilated if rec in recordings}\n",
    "\n",
    "vent_modes_ventilated_HIE = vent_modes_ventilated.reindex(recordings)"
   ]
  },
  {
   "cell_type": "code",
   "execution_count": null,
   "metadata": {},
   "outputs": [],
   "source": [
    "len(data_pars_measurements_ventilated_HIE)"
   ]
  },
  {
   "cell_type": "code",
   "execution_count": null,
   "metadata": {},
   "outputs": [],
   "source": [
    "print(recordings)"
   ]
  },
  {
   "cell_type": "markdown",
   "metadata": {},
   "source": [
    "Trim the clinical recordings to the selected dataset"
   ]
  },
  {
   "cell_type": "code",
   "execution_count": null,
   "metadata": {},
   "outputs": [],
   "source": [
    "clin_df_HIE = clin_df_HIE.loc[recordings]"
   ]
  },
  {
   "cell_type": "code",
   "execution_count": null,
   "metadata": {},
   "outputs": [],
   "source": [
    "len(clin_df_HIE)"
   ]
  },
  {
   "cell_type": "markdown",
   "metadata": {},
   "source": [
    "### Only keep relevant cases"
   ]
  },
  {
   "cell_type": "markdown",
   "metadata": {},
   "source": [
    "Exclude infants born at <36 weeks gestation"
   ]
  },
  {
   "cell_type": "code",
   "execution_count": null,
   "metadata": {},
   "outputs": [],
   "source": [
    "clin_df_HIE = clin_df_HIE[clin_df_HIE['Gestational Age (weeks)'] >= 36]\n",
    "len(clin_df_HIE)"
   ]
  },
  {
   "cell_type": "markdown",
   "metadata": {},
   "source": [
    "Exclude infants who were transferred after the first day of life"
   ]
  },
  {
   "cell_type": "code",
   "execution_count": null,
   "metadata": {
    "scrolled": false
   },
   "outputs": [],
   "source": [
    "clin_df_HIE = clin_df_HIE[clin_df_HIE['Postnatal Age'] < pd.to_timedelta('1D')]\n",
    "len(clin_df_HIE)"
   ]
  },
  {
   "cell_type": "markdown",
   "metadata": {},
   "source": [
    "Exclude infants that have been miscoded and they were not HIE or who did not undergo therapeutic hypothermia This is based on manual inspection of case notes (Lajos Lantos) rather than just parsing ICD codes"
   ]
  },
  {
   "cell_type": "markdown",
   "metadata": {},
   "source": [
    "- AL000056 – Légzészavar. No cooling\n",
    "- AL000188 – Légzészavar. No cooling\n",
    "- AL000219 – Intubálási szövődmény, nem volt asphyxia. No cooling.\n",
    "- AL000277 – No HIE, no criteria met, no cooling\n",
    "- AL000592 – Légzészavar, no cooling      "
   ]
  },
  {
   "cell_type": "code",
   "execution_count": null,
   "metadata": {},
   "outputs": [],
   "source": [
    "clin_df_HIE = clin_df_HIE.drop(['AL000056', 'AL000188', 'AL000219', 'AL000277', 'AL000592',])\n",
    "len(clin_df_HIE)"
   ]
  },
  {
   "cell_type": "markdown",
   "metadata": {},
   "source": [
    "Exclude infants who had major congenital malformations"
   ]
  },
  {
   "cell_type": "code",
   "execution_count": null,
   "metadata": {
    "scrolled": false
   },
   "outputs": [],
   "source": [
    "clin_df_HIE[['Pathology_English']];"
   ]
  },
  {
   "cell_type": "markdown",
   "metadata": {},
   "source": [
    "This list has been manually curated after reviewing the case notes directly (Lajos Lantos) rather than just relying on ICD codes.\n",
    "\n",
    " - AL000030: Polycystic kidney. EXCLUDE\n",
    " - AL000113: anorectal malformation, cleft palate and complex congenital heart disease. EXCLUDE\n",
    " - AL000612: Minor anomalies: polydactilia, syndactilia. No major anomaly. CAN BE INCLUDED"
   ]
  },
  {
   "cell_type": "code",
   "execution_count": null,
   "metadata": {},
   "outputs": [],
   "source": [
    "clin_df_HIE = clin_df_HIE.drop(['AL000030',  'AL000113', ])\n",
    "len(clin_df_HIE)"
   ]
  },
  {
   "cell_type": "markdown",
   "metadata": {},
   "source": [
    "Exclude an atypical case: \"20 órás korban anya mellett leszürkül, cyanotikus, resus needed. Nem a klasszikus HIE. De hűtve volt.\" "
   ]
  },
  {
   "cell_type": "code",
   "execution_count": null,
   "metadata": {},
   "outputs": [],
   "source": [
    "clin_df_HIE = clin_df_HIE.drop(['AL000625',])\n",
    "len(clin_df_HIE)"
   ]
  },
  {
   "cell_type": "code",
   "execution_count": null,
   "metadata": {},
   "outputs": [],
   "source": [
    "recordings = sorted(clin_df_HIE.index)\n",
    "len(recordings)"
   ]
  },
  {
   "cell_type": "markdown",
   "metadata": {},
   "source": [
    "### Combine recordings which are from the same infants\n",
    "\n",
    "`AL000443` and `AL000450` recordings are from the same infant (consecutive recording). Combine them."
   ]
  },
  {
   "cell_type": "code",
   "execution_count": null,
   "metadata": {},
   "outputs": [],
   "source": [
    "data_pars_alarms_ventilated_HIE['AL000443'] = pd.concat([data_pars_alarms_ventilated_HIE['AL000443'],\n",
    "                                                        data_pars_alarms_ventilated_HIE['AL000450']], sort=True)\n",
    "data_pars_measurements_ventilated_HIE['AL000443'] = pd.concat([data_pars_measurements_ventilated_HIE['AL000443'],\n",
    "                                                        data_pars_measurements_ventilated_HIE['AL000450']], sort=True)\n",
    "\n",
    "data_pars_settings_ventilated_HIE['AL000443'] = pd.concat([data_pars_settings_ventilated_HIE['AL000443'],\n",
    "                                                        data_pars_settings_ventilated_HIE['AL000450']], sort=True)\n",
    "\n",
    "del data_pars_measurements_ventilated_HIE['AL000450']\n",
    "del data_pars_settings_ventilated_HIE['AL000450']\n",
    "del data_pars_alarms_ventilated_HIE['AL000450']"
   ]
  },
  {
   "cell_type": "code",
   "execution_count": null,
   "metadata": {},
   "outputs": [],
   "source": [
    "vent_modes_ventilated_HIE.loc[['AL000443', 'AL000450']]"
   ]
  },
  {
   "cell_type": "code",
   "execution_count": null,
   "metadata": {},
   "outputs": [],
   "source": [
    "vent_modes_ventilated_HIE.loc['AL000443', 'SIPPV'] = vent_modes_ventilated_HIE.loc['AL000450']['SIPPV']\n",
    "vent_modes_ventilated_HIE.loc['AL000443', 'VG_on'] += vent_modes_ventilated_HIE.loc['AL000450']['VG_on']\n",
    "vent_modes_ventilated_HIE.loc['AL000443', 'total'] += vent_modes_ventilated_HIE.loc['AL000450']['total']"
   ]
  },
  {
   "cell_type": "code",
   "execution_count": null,
   "metadata": {},
   "outputs": [],
   "source": [
    "vent_modes_ventilated_HIE.loc[['AL000443', 'AL000450']]"
   ]
  },
  {
   "cell_type": "code",
   "execution_count": null,
   "metadata": {},
   "outputs": [],
   "source": [
    "vent_modes_ventilated_HIE.drop('AL000450', inplace = True)\n",
    "recordings.remove('AL000450')"
   ]
  },
  {
   "cell_type": "code",
   "execution_count": null,
   "metadata": {},
   "outputs": [],
   "source": [
    "len(vent_modes_ventilated_HIE)"
   ]
  },
  {
   "cell_type": "code",
   "execution_count": null,
   "metadata": {},
   "outputs": [],
   "source": [
    "vent_modes_ventilated_HIE = vent_modes_ventilated_HIE.reindex(recordings)"
   ]
  },
  {
   "cell_type": "code",
   "execution_count": null,
   "metadata": {},
   "outputs": [],
   "source": [
    "len(vent_modes_ventilated_HIE)"
   ]
  },
  {
   "cell_type": "code",
   "execution_count": null,
   "metadata": {},
   "outputs": [],
   "source": [
    "vent_modes_ventilated_HIE;"
   ]
  },
  {
   "cell_type": "code",
   "execution_count": null,
   "metadata": {},
   "outputs": [],
   "source": [
    "len(recordings)"
   ]
  },
  {
   "cell_type": "markdown",
   "metadata": {},
   "source": [
    "### Only keep the relevant ventilator and clinical data"
   ]
  },
  {
   "cell_type": "code",
   "execution_count": null,
   "metadata": {},
   "outputs": [],
   "source": [
    "data_pars_measurements_ventilated_HIE = {rec: data_pars_measurements_ventilated_HIE[rec] for rec \n",
    "                                         in data_pars_measurements_ventilated_HIE if rec in recordings}\n",
    "\n",
    "data_pars_settings_ventilated_HIE = {rec: data_pars_settings_ventilated_HIE[rec] for rec \n",
    "                                         in data_pars_settings_ventilated_HIE if rec in recordings}\n",
    "\n",
    "data_pars_alarms_ventilated_HIE = {rec : data_pars_alarms_ventilated_HIE[rec] for rec \n",
    "                                         in data_pars_alarms_ventilated_HIE if rec in recordings}\n",
    "\n",
    "vent_modes_ventilated_HIE = vent_modes_ventilated_HIE.reindex(recordings)"
   ]
  },
  {
   "cell_type": "code",
   "execution_count": null,
   "metadata": {},
   "outputs": [],
   "source": [
    "len(data_pars_measurements_ventilated_HIE)"
   ]
  },
  {
   "cell_type": "code",
   "execution_count": null,
   "metadata": {},
   "outputs": [],
   "source": [
    "clin_df_HIE = clin_df_HIE.loc[recordings]"
   ]
  },
  {
   "cell_type": "code",
   "execution_count": null,
   "metadata": {},
   "outputs": [],
   "source": [
    "len(clin_df_HIE)"
   ]
  },
  {
   "cell_type": "markdown",
   "metadata": {},
   "source": [
    "### Correct file type to float when required"
   ]
  },
  {
   "cell_type": "code",
   "execution_count": null,
   "metadata": {},
   "outputs": [],
   "source": [
    "for recording in data_pars_measurements_ventilated_HIE:\n",
    "    for column in data_pars_measurements_ventilated_HIE[recording].columns:\n",
    "        try:\n",
    "            data_pars_measurements_ventilated_HIE[recording][column] = \\\n",
    "                data_pars_measurements_ventilated_HIE[recording][column].astype('float')\n",
    "        except:\n",
    "            continue"
   ]
  },
  {
   "cell_type": "code",
   "execution_count": null,
   "metadata": {},
   "outputs": [],
   "source": [
    "for recording in data_pars_settings_ventilated_HIE:\n",
    "    for column in data_pars_settings_ventilated_HIE[recording].columns:\n",
    "        try:\n",
    "            data_pars_settings_ventilated_HIE[recording][column] = \\\n",
    "                data_pars_settings_ventilated_HIE[recording][column].astype('float')\n",
    "        except:\n",
    "            continue"
   ]
  },
  {
   "cell_type": "markdown",
   "metadata": {},
   "source": [
    "### Statistics on clinical details of these cases\n",
    "\n",
    "This considers all the __46 infants__ irrespective of the ventilator modes used\n",
    "\n",
    "The _postnatal age_ shown in the table is the age at the end of the transfer"
   ]
  },
  {
   "cell_type": "code",
   "execution_count": null,
   "metadata": {},
   "outputs": [],
   "source": [
    "len(clin_df_HIE)"
   ]
  },
  {
   "cell_type": "code",
   "execution_count": null,
   "metadata": {},
   "outputs": [],
   "source": [
    "clin_df_HIE.info()"
   ]
  },
  {
   "cell_type": "code",
   "execution_count": null,
   "metadata": {},
   "outputs": [],
   "source": [
    "clin_df_HIE_stats = round(clin_df_HIE.describe(percentiles = \n",
    "                        [0.01, 0.05, 0.25, 0.5, 0.75, 0.95, 0.99]), 2)\n",
    "clin_df_HIE_stats"
   ]
  },
  {
   "cell_type": "code",
   "execution_count": null,
   "metadata": {},
   "outputs": [],
   "source": [
    "writer = pd.ExcelWriter('%s/%s' % (DIR_WRITE, 'clinical_data_HIE.xlsx'))\n",
    "clin_df_HIE.to_excel(writer, 'HIE_cases')\n",
    "clin_df_HIE_stats.to_excel(writer, 'stats')\n",
    "writer.save()"
   ]
  },
  {
   "cell_type": "markdown",
   "metadata": {},
   "source": [
    "### Boxplots on selected clinical parameters "
   ]
  },
  {
   "cell_type": "code",
   "execution_count": null,
   "metadata": {},
   "outputs": [],
   "source": [
    "fig, ax = plt.subplots(figsize = (3, 4))\n",
    "dpi = 300\n",
    "filetype = 'jpg'\n",
    "xticklabels = ['recording duration']\n",
    "\n",
    "# Define styling for each boxplot component\n",
    "medianprops = {'color': 'black', 'linewidth': 2}\n",
    "meanpointprops = {'marker':'D', 'markeredgecolor':'black', 'markerfacecolor':'black'}\n",
    "boxprops = {'color': 'black', 'linestyle': '-'}\n",
    "whiskerprops = {'color': 'black', 'linestyle': '-'}\n",
    "capprops = {'color': 'black', 'linestyle': '-'}\n",
    "flierprops = {'color': 'black', 'marker': '.'}\n",
    "\n",
    "plt.boxplot(clin_df_HIE['Duration'] / (60 * 1E+9), widths = 0.3,\n",
    "        whis = 'range', showfliers = True,showmeans = True, meanprops = meanpointprops,\n",
    "        medianprops=medianprops, boxprops=boxprops, \n",
    "        whiskerprops=whiskerprops, capprops=capprops, flierprops = flierprops)\n",
    "\n",
    "ax.set_xticklabels(xticklabels)\n",
    "ax.set_ylabel('minutes', size = 14)\n",
    "ax.tick_params(axis='both', which='major', labelsize=14)\n",
    "plt.grid(True)\n",
    "\n",
    "fig.savefig('%s/%s.%s' % (DIR_WRITE, 'HIE_recording_duration', filetype),\n",
    "    dpi = dpi, facecolor='w', edgecolor='w', orientation='portrait', papertype=None, format = filetype,\n",
    "    transparent=False, bbox_inches='tight', pad_inches=0.1);"
   ]
  },
  {
   "cell_type": "code",
   "execution_count": null,
   "metadata": {},
   "outputs": [],
   "source": [
    "fig, ax = plt.subplots(figsize = (3, 4))\n",
    "dpi = 300\n",
    "filetype = 'jpg'\n",
    "xticklabels = ['Gestational age']\n",
    "\n",
    "# Define styling for each boxplot component\n",
    "medianprops = {'color': 'black', 'linewidth': 2}\n",
    "meanpointprops = {'marker':'D', 'markeredgecolor':'black', 'markerfacecolor':'black'}\n",
    "boxprops = {'color': 'black', 'linestyle': '-'}\n",
    "whiskerprops = {'color': 'black', 'linestyle': '-'}\n",
    "capprops = {'color': 'black', 'linestyle': '-'}\n",
    "flierprops = {'color': 'black', 'marker': '.'}\n",
    "\n",
    "plt.boxplot(clin_df_HIE['Gestational Age (weeks)'] ,\n",
    "            widths = 0.3, whis = 'range', showfliers = True, showmeans = True, medianprops=medianprops, \n",
    "            meanprops = meanpointprops,\n",
    "            boxprops=boxprops, whiskerprops=whiskerprops, capprops=capprops, flierprops = flierprops)\n",
    "\n",
    "ax.set_ylim(35, 43)\n",
    "ax.set_ylabel('weeks', size = 14)\n",
    "ax.tick_params(axis='both', which='major', labelsize=14)\n",
    "ax.set_xticklabels(xticklabels)\n",
    "plt.grid(True)\n",
    "\n",
    "fig.savefig('%s/%s.%s' % (DIR_WRITE, 'HIE_gest_age', filetype),\n",
    "    dpi = dpi, facecolor='w', edgecolor='w', orientation='portrait', papertype=None, format = filetype,\n",
    "    transparent=False, bbox_inches='tight', pad_inches=0.1);"
   ]
  },
  {
   "cell_type": "code",
   "execution_count": null,
   "metadata": {},
   "outputs": [],
   "source": [
    "fig, ax = plt.subplots(figsize = (3, 4))\n",
    "dpi = 300\n",
    "filetype = 'jpg'\n",
    "xticklabels = ['Birth weight']\n",
    "\n",
    "medianprops = {'color': 'black', 'linewidth': 2}\n",
    "meanpointprops = {'marker':'D', 'markeredgecolor':'black', 'markerfacecolor':'black'}\n",
    "boxprops = {'color': 'black', 'linestyle': '-'}\n",
    "whiskerprops = {'color': 'black', 'linestyle': '-'}\n",
    "capprops = {'color': 'black', 'linestyle': '-'}\n",
    "flierprops = {'color': 'black', 'marker': '.'}\n",
    "\n",
    "plt.boxplot(clin_df_HIE['Birth Weight'], widths = 0.3, whis = 'range', showfliers = True,\n",
    "             showmeans = True, meanprops = meanpointprops, medianprops=medianprops, boxprops=boxprops, \n",
    "        whiskerprops=whiskerprops, capprops=capprops, flierprops = flierprops)\n",
    "\n",
    "ax.set_xticklabels(xticklabels)\n",
    "ax.set_ylim(2000, 5500)\n",
    "ax.set_ylabel('grams', size = 14)\n",
    "ax.tick_params(axis='both', which='major', labelsize=14)\n",
    "plt.grid(True)\n",
    "\n",
    "fig.savefig('%s/%s.%s' % (DIR_WRITE, 'HIE_birth_weight', filetype),\n",
    "    dpi = dpi, facecolor='w', edgecolor='w', orientation='portrait', papertype=None, format = filetype,\n",
    "    transparent=False, bbox_inches='tight', pad_inches=0.1);"
   ]
  },
  {
   "cell_type": "markdown",
   "metadata": {},
   "source": [
    "#### Postnatal age\n",
    "\n",
    "The above postnatal age is calculated at the end of the transfer. Calculate the postnatal age at the start of the trimmed ventilator recordings"
   ]
  },
  {
   "cell_type": "code",
   "execution_count": null,
   "metadata": {},
   "outputs": [],
   "source": [
    "postnatal_age_2 = {}\n",
    "\n",
    "for recording in data_pars_measurements_ventilated_HIE:\n",
    "    postnatal_age_2[recording] = data_pars_measurements_ventilated[recording].index[0] - \\\n",
    "                                 clin_df_HIE.loc[recording]['Date of Birth']\n",
    "\n",
    "Postnatal_age_2 = pd.DataFrame.from_dict(postnatal_age_2, orient = 'index', columns = ['Postnatal_age_2'])\n",
    "\n",
    "clin_df_HIE = pd.concat([clin_df_HIE, Postnatal_age_2], axis = 1)"
   ]
  },
  {
   "cell_type": "code",
   "execution_count": null,
   "metadata": {},
   "outputs": [],
   "source": [
    "clin_df_HIE.head()"
   ]
  },
  {
   "cell_type": "code",
   "execution_count": null,
   "metadata": {},
   "outputs": [],
   "source": [
    "clin_df_HIE['Postnatal_age_2'].describe()"
   ]
  },
  {
   "cell_type": "code",
   "execution_count": null,
   "metadata": {},
   "outputs": [],
   "source": [
    "fig, ax = plt.subplots(figsize = (3, 4))\n",
    "dpi = 300\n",
    "filetype = 'jpg'\n",
    "xticklabels = ['Postnatal age']\n",
    "\n",
    "# Define styling for each boxplot component\n",
    "medianprops = {'color': 'black', 'linewidth': 2}\n",
    "meanpointprops = {'marker':'D', 'markeredgecolor':'black', 'markerfacecolor':'black'}\n",
    "boxprops = {'color': 'black', 'linestyle': '-'}\n",
    "whiskerprops = {'color': 'black', 'linestyle': '-'}\n",
    "capprops = {'color': 'black', 'linestyle': '-'}\n",
    "flierprops = {'color': 'black', 'marker': '.'}\n",
    "\n",
    "plt.boxplot(clin_df_HIE['Postnatal_age_2'] / 3600000000000,\n",
    "            widths = 0.3, whis = 'range', showfliers = True, showmeans = True, medianprops=medianprops, \n",
    "            meanprops = meanpointprops,\n",
    "            boxprops=boxprops, whiskerprops=whiskerprops, capprops=capprops, flierprops = flierprops)\n",
    "\n",
    "#ax.set_ylim(35, 43)\n",
    "ax.set_ylabel('hours', size = 14)\n",
    "ax.tick_params(axis='both', which='major', labelsize=14)\n",
    "ax.set_xticklabels(xticklabels)\n",
    "plt.grid(True)\n",
    "\n",
    "fig.savefig('%s/%s.%s' % (DIR_WRITE, 'HIE_postnatal_age', filetype),\n",
    "    dpi = dpi, facecolor='w', edgecolor='w', orientation='portrait', papertype=None, format = filetype,\n",
    "    transparent=False, bbox_inches='tight', pad_inches=0.1);"
   ]
  },
  {
   "cell_type": "markdown",
   "metadata": {},
   "source": [
    "### Import file with manually collected additional clinical data"
   ]
  },
  {
   "cell_type": "code",
   "execution_count": null,
   "metadata": {},
   "outputs": [],
   "source": [
    "clin_df_HIE_2 = pd.read_excel('%s/%s' % (CWD, 'Clinical data_HIE_Lajos.xlsx'))\n",
    "clin_df_HIE_2.set_index('Recording_ID', inplace = True)\n",
    "# Limit dataset to the included recordings only\n",
    "clin_df_HIE_2 = clin_df_HIE_2.reindex(clin_df_HIE.index)\n",
    "len(clin_df_HIE_2)"
   ]
  },
  {
   "cell_type": "code",
   "execution_count": null,
   "metadata": {},
   "outputs": [],
   "source": [
    "len(clin_df_HIE)"
   ]
  },
  {
   "cell_type": "code",
   "execution_count": null,
   "metadata": {},
   "outputs": [],
   "source": [
    "clin_df_HIE_2.columns"
   ]
  },
  {
   "cell_type": "code",
   "execution_count": null,
   "metadata": {
    "scrolled": false
   },
   "outputs": [],
   "source": [
    "to_keep = ['Diagnosis', 'Mode of delivery', 'Apgar (1 / 5 / 10)', 'Apgar_5', 'Apgar_10',\n",
    "       'Seizure', 'Cooling (active / passive)', 'Temp on arrival (C ) to referral unit', 'Temp on handover (C )',\n",
    "       'Anticonvulsant', 'Sedatives', 'Muscle relaxant', 'Inotropes','Curosurf']\n",
    "\n",
    "clin_df_HIE_2 = clin_df_HIE_2[to_keep]"
   ]
  },
  {
   "cell_type": "code",
   "execution_count": null,
   "metadata": {
    "scrolled": false
   },
   "outputs": [],
   "source": [
    "clin_df_HIE_2.head()"
   ]
  },
  {
   "cell_type": "code",
   "execution_count": null,
   "metadata": {
    "scrolled": true
   },
   "outputs": [],
   "source": [
    "clin_df_HIE_2.info()"
   ]
  },
  {
   "cell_type": "markdown",
   "metadata": {},
   "source": [
    "### Statistics on additional clinical details\n",
    "\n",
    "This considers all the __46 infants__ irrespective of the ventilator modes used"
   ]
  },
  {
   "cell_type": "markdown",
   "metadata": {},
   "source": [
    "##### Mode of delivery"
   ]
  },
  {
   "cell_type": "code",
   "execution_count": null,
   "metadata": {},
   "outputs": [],
   "source": [
    "clin_df_HIE_2['Mode of delivery'].value_counts(dropna = False)"
   ]
  },
  {
   "cell_type": "markdown",
   "metadata": {},
   "source": [
    "- SVD: 21\n",
    "- Instrumental delivery: 2\n",
    "- ElCS: 1\n",
    "- EmCS: 21\n",
    "- n/a: 1"
   ]
  },
  {
   "cell_type": "markdown",
   "metadata": {},
   "source": [
    "##### Active of passive cooling and temperatures on arrical and at handover"
   ]
  },
  {
   "cell_type": "code",
   "execution_count": null,
   "metadata": {},
   "outputs": [],
   "source": [
    "clin_df_HIE_2['Cooling (active / passive)'].value_counts(dropna = False)"
   ]
  },
  {
   "cell_type": "markdown",
   "metadata": {},
   "source": [
    "- Active: 35\n",
    "- Passive: 10\n",
    "- No: 1\n",
    "\n",
    "Manual lookup: The baby who had no cooling was still cooling down during transport (checked manually) so count it as passive"
   ]
  },
  {
   "cell_type": "code",
   "execution_count": null,
   "metadata": {},
   "outputs": [],
   "source": [
    "clin_df_HIE_2['Temp on arrival (C ) to referral unit'].describe()"
   ]
  },
  {
   "cell_type": "code",
   "execution_count": null,
   "metadata": {},
   "outputs": [],
   "source": [
    "clin_df_HIE_2['Temp on handover (C )'].describe()"
   ]
  },
  {
   "cell_type": "code",
   "execution_count": null,
   "metadata": {},
   "outputs": [],
   "source": [
    "fig, ax = plt.subplots(figsize = (4, 4))\n",
    "dpi = 300\n",
    "filetype = 'jpg'\n",
    "xticklabels = ['At arrival', 'At handover']\n",
    "\n",
    "# Define styling for each boxplot component\n",
    "medianprops = {'color': 'black', 'linewidth': 2}\n",
    "meanpointprops = {'marker':'D', 'markeredgecolor':'black', 'markerfacecolor':'black'}\n",
    "boxprops = {'color': 'black', 'linestyle': '-'}\n",
    "whiskerprops = {'color': 'black', 'linestyle': '-'}\n",
    "capprops = {'color': 'black', 'linestyle': '-'}\n",
    "flierprops = {'color': 'black', 'marker': '.'}\n",
    "\n",
    "plt.boxplot([clin_df_HIE_2['Temp on arrival (C ) to referral unit'].dropna(), \n",
    "             clin_df_HIE_2['Temp on handover (C )'].dropna()], widths = 0.5,\n",
    "        whis = 'range', showfliers = True,showmeans = True, meanprops = meanpointprops,\n",
    "        medianprops=medianprops, boxprops=boxprops, \n",
    "        whiskerprops=whiskerprops, capprops=capprops, flierprops = flierprops)\n",
    "\n",
    "ax.set_xticklabels(xticklabels)\n",
    "ax.set_ylim(27, 40)\n",
    "ax.set_ylabel('Degree of Celsius', size = 14)\n",
    "ax.tick_params(axis='both', which='major', labelsize=14)\n",
    "\n",
    "plt.grid(True)\n",
    "\n",
    "fig.savefig('%s/%s.%s' % (DIR_WRITE, 'HIE_temperatures', filetype),\n",
    "    dpi = dpi, facecolor='w', edgecolor='w', orientation='portrait', papertype=None, format = filetype,\n",
    "    transparent=False, bbox_inches='tight', pad_inches=0.1);"
   ]
  },
  {
   "cell_type": "markdown",
   "metadata": {},
   "source": [
    "##### Presence of seizures and use of anticonvulsants"
   ]
  },
  {
   "cell_type": "code",
   "execution_count": null,
   "metadata": {},
   "outputs": [],
   "source": [
    "clin_df_HIE_2['Seizure'].value_counts(dropna = False)"
   ]
  },
  {
   "cell_type": "markdown",
   "metadata": {},
   "source": [
    "- Seizure: 11\n",
    "- No seizure: 33\n",
    "- n/a: 2"
   ]
  },
  {
   "cell_type": "code",
   "execution_count": null,
   "metadata": {
    "scrolled": true
   },
   "outputs": [],
   "source": [
    "clin_df_HIE_2['Anticonvulsant'].value_counts(dropna = False)"
   ]
  },
  {
   "cell_type": "markdown",
   "metadata": {},
   "source": [
    "- Phenobarbital: 11\n",
    "- No: 35"
   ]
  },
  {
   "cell_type": "markdown",
   "metadata": {},
   "source": [
    "##### Sedative and muscle relaxant medication"
   ]
  },
  {
   "cell_type": "code",
   "execution_count": null,
   "metadata": {},
   "outputs": [],
   "source": [
    "clin_df_HIE_2['Sedatives'].value_counts(dropna = False)"
   ]
  },
  {
   "cell_type": "markdown",
   "metadata": {},
   "source": [
    "- Fentanyl alone: 14\n",
    "- Midazolam alone: 2\n",
    "- Thiopental alone: 1\n",
    "- Morphine alone: 1\n",
    "- Fentanyl + Thiopental: 13\n",
    "- Fentanyl + Midazolam: 2\n",
    "- No: 13"
   ]
  },
  {
   "cell_type": "code",
   "execution_count": null,
   "metadata": {},
   "outputs": [],
   "source": [
    "clin_df_HIE_2['Muscle relaxant'].value_counts(dropna = False)"
   ]
  },
  {
   "cell_type": "markdown",
   "metadata": {},
   "source": [
    "- Rocuronium: 6\n",
    "- Atracurium: 1\n",
    "- No: 39"
   ]
  },
  {
   "cell_type": "markdown",
   "metadata": {},
   "source": [
    "##### Other medications"
   ]
  },
  {
   "cell_type": "code",
   "execution_count": null,
   "metadata": {},
   "outputs": [],
   "source": [
    "clin_df_HIE_2['Inotropes'].value_counts(dropna = False)"
   ]
  },
  {
   "cell_type": "markdown",
   "metadata": {},
   "source": [
    "- Dopamine alone: 5\n",
    "- Dobutamine alone: 1\n",
    "- Dopamine + Dobutamine: 1\n",
    "- Dopamine + Noradrenaline + Hydrocortison: 1\n",
    "- No: 38"
   ]
  },
  {
   "cell_type": "code",
   "execution_count": null,
   "metadata": {},
   "outputs": [],
   "source": [
    "clin_df_HIE_2['Curosurf'].value_counts(dropna = False)"
   ]
  },
  {
   "cell_type": "markdown",
   "metadata": {},
   "source": [
    "- Curosurf: 4\n",
    "- No: 41\n",
    "- n/a: 1"
   ]
  },
  {
   "cell_type": "markdown",
   "metadata": {},
   "source": [
    "### How many cases of this had predominantly SIMV and VG ventilation (>90% of the recording)"
   ]
  },
  {
   "cell_type": "markdown",
   "metadata": {},
   "source": [
    "There are no IPPV or PSV recordings"
   ]
  },
  {
   "cell_type": "code",
   "execution_count": null,
   "metadata": {},
   "outputs": [],
   "source": [
    "vent_modes_ventilated_HIE.sum()"
   ]
  },
  {
   "cell_type": "code",
   "execution_count": null,
   "metadata": {},
   "outputs": [],
   "source": [
    "vent_modes_ventilated_HIE.drop(['IPPV', 'PSV'], axis = 1, inplace = True)"
   ]
  },
  {
   "cell_type": "code",
   "execution_count": null,
   "metadata": {
    "scrolled": false
   },
   "outputs": [],
   "source": [
    "vent_modes_ventilated_HIE;"
   ]
  },
  {
   "cell_type": "markdown",
   "metadata": {},
   "source": [
    "###### SIMV_VG and SIMV_noVG"
   ]
  },
  {
   "cell_type": "code",
   "execution_count": null,
   "metadata": {},
   "outputs": [],
   "source": [
    "SIMV  = vent_modes_ventilated_HIE[vent_modes_ventilated_HIE['SIMV'] >= 0.9 * vent_modes_ventilated_HIE['total']]\n",
    "len(SIMV)"
   ]
  },
  {
   "cell_type": "code",
   "execution_count": null,
   "metadata": {},
   "outputs": [],
   "source": [
    "VG = vent_modes_ventilated_HIE[vent_modes_ventilated_HIE['VG_on'] >= 0.9 * vent_modes_ventilated_HIE['total']]\n",
    "len(VG)"
   ]
  },
  {
   "cell_type": "code",
   "execution_count": null,
   "metadata": {},
   "outputs": [],
   "source": [
    "no_VG = vent_modes_ventilated_HIE[vent_modes_ventilated_HIE['VG_on'] <= 0.1 * vent_modes_ventilated_HIE['total']]\n",
    "len(no_VG)"
   ]
  },
  {
   "cell_type": "code",
   "execution_count": null,
   "metadata": {},
   "outputs": [],
   "source": [
    "SIMV_VG = vent_modes_ventilated_HIE[(vent_modes_ventilated_HIE['SIMV'] >= 0.9 * vent_modes_ventilated_HIE['total'])\n",
    "                                & (vent_modes_ventilated_HIE['VG_on'] >= 0.9 * vent_modes_ventilated_HIE['total'])]"
   ]
  },
  {
   "cell_type": "code",
   "execution_count": null,
   "metadata": {
    "scrolled": true
   },
   "outputs": [],
   "source": [
    "len(SIMV_VG)"
   ]
  },
  {
   "cell_type": "code",
   "execution_count": null,
   "metadata": {},
   "outputs": [],
   "source": [
    "SIMV_VG;"
   ]
  },
  {
   "cell_type": "code",
   "execution_count": null,
   "metadata": {},
   "outputs": [],
   "source": [
    "simv_vg = sorted(SIMV_VG.index)"
   ]
  },
  {
   "cell_type": "code",
   "execution_count": null,
   "metadata": {},
   "outputs": [],
   "source": [
    "SIMV_noVG = vent_modes_ventilated_HIE[(vent_modes_ventilated_HIE['SIMV'] >= 0.9 * vent_modes_ventilated_HIE['total'])\n",
    "                                & (vent_modes_ventilated_HIE['VG_on'] <= 0.1 * vent_modes_ventilated_HIE['total'])]"
   ]
  },
  {
   "cell_type": "code",
   "execution_count": null,
   "metadata": {},
   "outputs": [],
   "source": [
    "len(SIMV_noVG)"
   ]
  },
  {
   "cell_type": "code",
   "execution_count": null,
   "metadata": {},
   "outputs": [],
   "source": [
    "SIMV_noVG;"
   ]
  },
  {
   "cell_type": "code",
   "execution_count": null,
   "metadata": {},
   "outputs": [],
   "source": [
    "simv_novg = sorted(SIMV_noVG.index)"
   ]
  },
  {
   "cell_type": "markdown",
   "metadata": {},
   "source": [
    "##### SIPPV (with or without VG)"
   ]
  },
  {
   "cell_type": "code",
   "execution_count": null,
   "metadata": {},
   "outputs": [],
   "source": [
    "SIPPV  = vent_modes_ventilated_HIE[vent_modes_ventilated_HIE['SIPPV'] >= 0.1 * vent_modes_ventilated_HIE['total']]\n",
    "len(SIPPV)"
   ]
  },
  {
   "cell_type": "code",
   "execution_count": null,
   "metadata": {
    "scrolled": false
   },
   "outputs": [],
   "source": [
    "SIPPV"
   ]
  },
  {
   "cell_type": "code",
   "execution_count": null,
   "metadata": {},
   "outputs": [],
   "source": [
    "SIPPV['SIPPV'] / SIPPV['total']"
   ]
  },
  {
   "cell_type": "code",
   "execution_count": null,
   "metadata": {},
   "outputs": [],
   "source": [
    "SIPPV['SIMV'] / SIPPV['total']"
   ]
  },
  {
   "cell_type": "markdown",
   "metadata": {},
   "source": [
    "- 2 babies had predominantly (>90%) SIPPV, 1 with VG 1 without VG\n",
    "- 3 babies received significant amount (33-66%) of both SIPPV-VG and some SIMV-VG \n",
    "- 1 baby received some (<20%) SIPPV-VG but otherwise SIMV-VG)"
   ]
  },
  {
   "cell_type": "code",
   "execution_count": null,
   "metadata": {},
   "outputs": [],
   "source": [
    "sippv = sorted(SIPPV.index)"
   ]
  },
  {
   "cell_type": "markdown",
   "metadata": {},
   "source": [
    "##### SIMV-PS (with or without VG)"
   ]
  },
  {
   "cell_type": "code",
   "execution_count": null,
   "metadata": {},
   "outputs": [],
   "source": [
    "SIMVPSV  = vent_modes_ventilated_HIE[vent_modes_ventilated_HIE['SIMVPSV'] >= 0.1 * vent_modes_ventilated_HIE['total']]\n",
    "len(SIMVPSV)"
   ]
  },
  {
   "cell_type": "markdown",
   "metadata": {},
   "source": [
    "Two babies received SIMV-VG with pressure support"
   ]
  },
  {
   "cell_type": "code",
   "execution_count": null,
   "metadata": {},
   "outputs": [],
   "source": [
    "SIMVPSV"
   ]
  },
  {
   "cell_type": "code",
   "execution_count": null,
   "metadata": {},
   "outputs": [],
   "source": [
    "simvpsv = sorted(SIMVPSV.index)"
   ]
  },
  {
   "cell_type": "markdown",
   "metadata": {},
   "source": [
    "### Limit ventilator data to SIMV-VG and SIMV-noVG "
   ]
  },
  {
   "cell_type": "code",
   "execution_count": null,
   "metadata": {},
   "outputs": [],
   "source": [
    "data_pars_measurements_simv_vg = {}\n",
    "data_pars_settings_simv_vg = {}\n",
    "data_pars_alarms_simv_vg = {}\n",
    "\n",
    "for recording in simv_vg:\n",
    "    mask = ((data_pars_settings_ventilated_HIE[recording]['Ventilator_mode'] == 'SIMV') & \n",
    "        (data_pars_settings_ventilated_HIE[recording]['VG_state'] == 'on'))\n",
    "    \n",
    "    data_pars_measurements_simv_vg[recording] = data_pars_measurements_ventilated_HIE[recording][mask]\n",
    "    data_pars_settings_simv_vg[recording] = data_pars_settings_ventilated_HIE[recording][mask]\n",
    "    data_pars_alarms_simv_vg[recording] = data_pars_alarms_ventilated_HIE[recording][mask]"
   ]
  },
  {
   "cell_type": "code",
   "execution_count": null,
   "metadata": {},
   "outputs": [],
   "source": [
    "# Duration of recordings in seconds is twice these numbers as 0.5 Hz sampling rate\n",
    "for recording in simv_vg:\n",
    "    print(recording, len(data_pars_measurements_simv_vg[recording]), \n",
    "          len(data_pars_measurements_ventilated_HIE[recording]))"
   ]
  },
  {
   "cell_type": "code",
   "execution_count": null,
   "metadata": {},
   "outputs": [],
   "source": [
    "data_pars_measurements_simv_novg = {}\n",
    "data_pars_settings_simv_novg = {}\n",
    "data_pars_alarms_simv_novg = {}\n",
    "\n",
    "for recording in simv_novg:\n",
    "    if 'VG_state' in data_pars_settings_ventilated_HIE[recording].columns:\n",
    "        mask = ((data_pars_settings_ventilated_HIE[recording]['Ventilator_mode'] == 'SIMV') & \n",
    "            (data_pars_settings_ventilated_HIE[recording]['VG_state'] != 'on'))\n",
    "    \n",
    "        data_pars_measurements_simv_novg[recording] = data_pars_measurements_ventilated_HIE[recording][mask]\n",
    "        data_pars_settings_simv_novg[recording] = data_pars_settings_ventilated_HIE[recording][mask]\n",
    "        data_pars_alarms_simv_novg[recording] = data_pars_alarms_ventilated_HIE[recording][mask]\n",
    "                                                       \n",
    "    else:\n",
    "        \n",
    "        data_pars_measurements_simv_novg[recording] = data_pars_measurements_ventilated_HIE[recording]\n",
    "        data_pars_settings_simv_novg[recording] = data_pars_settings_ventilated_HIE[recording]\n",
    "        data_pars_alarms_simv_novg[recording] = data_pars_alarms_ventilated_HIE[recording]                                              \n",
    "                                                           "
   ]
  },
  {
   "cell_type": "code",
   "execution_count": null,
   "metadata": {
    "scrolled": true
   },
   "outputs": [],
   "source": [
    "# Duration of recordings in seconds is twice these numbers as 0.5 Hz sampling rate\n",
    "for recording in simv_novg:\n",
    "    print(recording, len(data_pars_measurements_simv_novg[recording]), \n",
    "          len(data_pars_measurements_ventilated_HIE[recording]))"
   ]
  },
  {
   "cell_type": "markdown",
   "metadata": {},
   "source": [
    "### Add MVspon to the recordings"
   ]
  },
  {
   "cell_type": "code",
   "execution_count": null,
   "metadata": {},
   "outputs": [],
   "source": [
    "for recording in simv_vg:\n",
    "    data_pars_measurements_simv_vg[recording].loc[:, 'MVspon'] = \\\n",
    "        100 - data_pars_measurements_simv_vg[recording]['MVresp']"
   ]
  },
  {
   "cell_type": "code",
   "execution_count": null,
   "metadata": {},
   "outputs": [],
   "source": [
    "for recording in simv_novg:\n",
    "    data_pars_measurements_simv_novg[recording].loc[:, 'MVspon'] = \\\n",
    "        100 - data_pars_measurements_simv_novg[recording]['MVresp']"
   ]
  },
  {
   "cell_type": "markdown",
   "metadata": {},
   "source": [
    "### Add Pdiff and VTdiff to the recordings"
   ]
  },
  {
   "cell_type": "markdown",
   "metadata": {},
   "source": [
    "VTdiff = VTemand_resp_kg - VTset (\"VGset\" in VG recordings)\n",
    "\n",
    "Pdiff = Pmax - PIP (\"PIP_set\" in VG recordings)"
   ]
  },
  {
   "cell_type": "code",
   "execution_count": null,
   "metadata": {},
   "outputs": [],
   "source": [
    "for recording in simv_vg:\n",
    "    data_pars_measurements_simv_vg[recording].loc[:, 'VTdiff'] = \\\n",
    "        data_pars_measurements_ventilated_HIE[recording]['VTemand_resp_kg'] - \\\n",
    "        data_pars_settings_ventilated_HIE[recording]['VG_set_kg']"
   ]
  },
  {
   "cell_type": "code",
   "execution_count": null,
   "metadata": {},
   "outputs": [],
   "source": [
    "for recording in simv_vg:\n",
    "    data_pars_measurements_simv_vg[recording].loc[:, 'Pdiff'] = \\\n",
    "        data_pars_settings_ventilated_HIE[recording]['PIP_set'] - \\\n",
    "        data_pars_measurements_ventilated_HIE[recording]['PIP']"
   ]
  },
  {
   "cell_type": "markdown",
   "metadata": {},
   "source": [
    "### Recording durations"
   ]
  },
  {
   "cell_type": "code",
   "execution_count": null,
   "metadata": {},
   "outputs": [],
   "source": [
    "duration_simv_vg = []\n",
    "duration_simv_novg = []\n",
    "\n",
    "for recording in simv_vg:\n",
    "    # In seconds. The multiplication is needed as it is 0.5 Hz sampling data\n",
    "    duration_simv_vg.append(len(data_pars_measurements_simv_vg[recording]) * 2)\n",
    "\n",
    "duration_simv_vg = Series(duration_simv_vg)\n",
    "       \n",
    "for recording in simv_novg:\n",
    "    # In seconds. The multiplication is needed as it is 0.5 Hz sampling data\n",
    "    duration_simv_novg.append(len(data_pars_measurements_simv_novg[recording]) * 2)\n",
    "\n",
    "duration_simv_novg = Series(duration_simv_novg)"
   ]
  },
  {
   "cell_type": "code",
   "execution_count": null,
   "metadata": {},
   "outputs": [],
   "source": [
    "duration_simv_vg.describe() / 60"
   ]
  },
  {
   "cell_type": "code",
   "execution_count": null,
   "metadata": {},
   "outputs": [],
   "source": [
    "duration_simv_novg.describe() / 60"
   ]
  },
  {
   "cell_type": "code",
   "execution_count": null,
   "metadata": {},
   "outputs": [],
   "source": [
    "stats.mannwhitneyu(duration_simv_vg, duration_simv_novg)"
   ]
  },
  {
   "cell_type": "code",
   "execution_count": null,
   "metadata": {},
   "outputs": [],
   "source": [
    "# Total duration of recordings\n",
    "duration_simv_vg.sum(), duration_simv_vg.sum() / 60, duration_simv_vg.sum() / 3600"
   ]
  },
  {
   "cell_type": "code",
   "execution_count": null,
   "metadata": {
    "scrolled": true
   },
   "outputs": [],
   "source": [
    "# Total duration of recordings\n",
    "duration_simv_novg.sum(), duration_simv_novg.sum() / 60, duration_simv_novg.sum() / 3600"
   ]
  },
  {
   "cell_type": "code",
   "execution_count": null,
   "metadata": {},
   "outputs": [],
   "source": [
    "(duration_simv_vg.sum() + duration_simv_novg.sum()) / 3600"
   ]
  },
  {
   "cell_type": "code",
   "execution_count": null,
   "metadata": {},
   "outputs": [],
   "source": [
    "fig, ax = plt.subplots(figsize = (3, 4))\n",
    "dpi = 300\n",
    "filetype = 'jpg'\n",
    "xticklabels = ['SIMV-VG', 'SIMV' ]\n",
    "\n",
    "# Define styling for each boxplot component\n",
    "medianprops = {'color': 'black', 'linewidth': 2}\n",
    "meanpointprops = {'marker':'D', 'markeredgecolor':'black', 'markerfacecolor':'black'}\n",
    "boxprops = {'color': 'black', 'linestyle': '-'}\n",
    "whiskerprops = {'color': 'black', 'linestyle': '-'}\n",
    "capprops = {'color': 'black', 'linestyle': '-'}\n",
    "flierprops = {'color': 'black', 'marker': '.'}\n",
    "\n",
    "plt.boxplot([duration_simv_vg / 60 , duration_simv_novg / 60], widths = 0.5, \n",
    "        whis = 'range', showfliers = True,showmeans = True, meanprops = meanpointprops, \n",
    "        medianprops=medianprops, boxprops=boxprops, \n",
    "        whiskerprops=whiskerprops, capprops=capprops, flierprops = flierprops)\n",
    "\n",
    "ax.set_ylim(0, 180)\n",
    "ax.set_xlabel('', size = 14)\n",
    "ax.set_ylabel('Recording duration (minutes)', size = 14)\n",
    "ax.tick_params(axis='both', which='major', labelsize=14)\n",
    "ax.set_xticklabels(xticklabels)\n",
    "ax.set_title('')\n",
    "plt.grid(True)\n",
    "\n",
    "fig.savefig('%s/%s.%s' % (DIR_WRITE, 'HIE_recording_duration_SIMV_VG_no_VG', filetype),\n",
    "    dpi = dpi, facecolor='w', edgecolor='w', orientation='portrait', papertype=None, format = filetype,\n",
    "    transparent=False, bbox_inches='tight', pad_inches=0.1);"
   ]
  },
  {
   "cell_type": "markdown",
   "metadata": {},
   "source": [
    "### Comparative boxplots on clinical details between SIMV-VG and no SIMV-noVG\n",
    "\n",
    "28 SIMV-VG recordings, 8 SIMV recordings"
   ]
  },
  {
   "cell_type": "code",
   "execution_count": null,
   "metadata": {},
   "outputs": [],
   "source": [
    "clin_df_VG = clin_df_HIE.loc[simv_vg]\n",
    "clin_df_no_VG = clin_df_HIE.loc[simv_novg]"
   ]
  },
  {
   "cell_type": "code",
   "execution_count": null,
   "metadata": {},
   "outputs": [],
   "source": [
    "writer = pd.ExcelWriter('%s/%s' % (DIR_WRITE, 'clinical_data_HIE_VG_noVG.xlsx'))\n",
    "clin_df_VG.to_excel(writer, 'clin_df_VG')\n",
    "clin_df_no_VG.to_excel(writer, 'clin_df_no_VG')\n",
    "writer.save()"
   ]
  },
  {
   "cell_type": "markdown",
   "metadata": {},
   "source": [
    "### Gestational age"
   ]
  },
  {
   "cell_type": "code",
   "execution_count": null,
   "metadata": {},
   "outputs": [],
   "source": [
    "fig, ax = plt.subplots(figsize = (3, 4))\n",
    "dpi = 300\n",
    "filetype = 'jpg'\n",
    "xticklabels = ['SIMV-VG', 'SIMV' ]\n",
    "\n",
    "# Define styling for each boxplot component\n",
    "medianprops = {'color': 'black', 'linewidth': 2}\n",
    "meanpointprops = {'marker':'D', 'markeredgecolor':'black', 'markerfacecolor':'black'}\n",
    "boxprops = {'color': 'black', 'linestyle': '-'}\n",
    "whiskerprops = {'color': 'black', 'linestyle': '-'}\n",
    "capprops = {'color': 'black', 'linestyle': '-'}\n",
    "flierprops = {'color': 'black', 'marker': '.'}\n",
    "\n",
    "plt.boxplot([clin_df_VG['Gestational Age (weeks)'] , \n",
    "             clin_df_no_VG['Gestational Age (weeks)'] ], widths = 0.5, meanprops = meanpointprops, \n",
    "        whis = 'range', showfliers = True,showmeans = True, medianprops=medianprops, boxprops=boxprops, \n",
    "        whiskerprops=whiskerprops, capprops=capprops, flierprops = flierprops)\n",
    "\n",
    "ax.set_ylim(33, 45)\n",
    "ax.set_xlabel('', size = 14)\n",
    "ax.set_ylabel('Gestational age (weeks)', size = 14)\n",
    "ax.tick_params(axis='both', which='major', labelsize=14)\n",
    "ax.set_xticklabels(xticklabels)\n",
    "ax.set_title('Gestational age')\n",
    "plt.grid(True)\n",
    "\n",
    "fig.savefig('%s/%s.%s' % (DIR_WRITE, 'HIE_gest_age_SIMV_VG_no_VG', filetype),\n",
    "    dpi = dpi, facecolor='w', edgecolor='w', orientation='portrait', papertype=None, format = filetype,\n",
    "    transparent=False, bbox_inches='tight', pad_inches=0.1);"
   ]
  },
  {
   "cell_type": "markdown",
   "metadata": {},
   "source": [
    "### Postnatal Age"
   ]
  },
  {
   "cell_type": "code",
   "execution_count": null,
   "metadata": {},
   "outputs": [],
   "source": [
    "fig, ax = plt.subplots(figsize = (3, 4))\n",
    "dpi = 300\n",
    "filetype = 'jpg'\n",
    "xticklabels = ['SIMV-VG', 'SIMV' ]\n",
    "\n",
    "# Define styling for each boxplot component\n",
    "medianprops = {'color': 'black', 'linewidth': 2}\n",
    "meanpointprops = {'marker':'D', 'markeredgecolor':'black', 'markerfacecolor':'black'}\n",
    "boxprops = {'color': 'black', 'linestyle': '-'}\n",
    "whiskerprops = {'color': 'black', 'linestyle': '-'}\n",
    "capprops = {'color': 'black', 'linestyle': '-'}\n",
    "flierprops = {'color': 'black', 'marker': '.'}\n",
    "\n",
    "plt.boxplot([clin_df_VG['Postnatal_age_2']   / 3600000000000,\n",
    "             clin_df_no_VG['Postnatal_age_2'] / 3600000000000],  \n",
    "             widths = 0.5, meanprops = meanpointprops, \n",
    "            whis = 'range', showfliers = True,showmeans = True, medianprops=medianprops, boxprops=boxprops, \n",
    "            whiskerprops=whiskerprops, capprops=capprops, flierprops = flierprops)\n",
    "\n",
    "ax.set_ylim(0, 24)\n",
    "ax.set_xlabel('', size = 14)\n",
    "ax.set_ylabel('Postnatal age (hours)', size = 14)\n",
    "ax.tick_params(axis='both', which='major', labelsize=14)\n",
    "ax.set_xticklabels(xticklabels)\n",
    "ax.set_title('Gestational age')\n",
    "plt.grid(True)\n",
    "\n",
    "fig.savefig('%s/%s.%s' % (DIR_WRITE, 'HIE_postnatal_age_SIMV_VG_no_VG', filetype),\n",
    "    dpi = dpi, facecolor='w', edgecolor='w', orientation='portrait', papertype=None, format = filetype,\n",
    "    transparent=False, bbox_inches='tight', pad_inches=0.1);"
   ]
  },
  {
   "cell_type": "markdown",
   "metadata": {},
   "source": [
    "### Birth weight"
   ]
  },
  {
   "cell_type": "code",
   "execution_count": null,
   "metadata": {},
   "outputs": [],
   "source": [
    "fig, ax = plt.subplots(figsize = (3, 4))\n",
    "dpi = 300\n",
    "filetype = 'jpg'\n",
    "xticklabels = ['SIMV-VG', 'SIMV' ]\n",
    "\n",
    "# Define styling for each boxplot component\n",
    "medianprops = {'color': 'black', 'linewidth': 2}\n",
    "meanpointprops = {'marker':'D', 'markeredgecolor':'black', 'markerfacecolor':'black'}\n",
    "boxprops = {'color': 'black', 'linestyle': '-'}\n",
    "whiskerprops = {'color': 'black', 'linestyle': '-'}\n",
    "capprops = {'color': 'black', 'linestyle': '-'}\n",
    "flierprops = {'color': 'black', 'marker': '.'}\n",
    "\n",
    "plt.boxplot([clin_df_VG['Birth Weight'], \n",
    "             clin_df_no_VG['Birth Weight']], widths = 0.5, meanprops = meanpointprops, \n",
    "        whis = 'range', showfliers = True,showmeans = True, medianprops=medianprops, boxprops=boxprops, \n",
    "        whiskerprops=whiskerprops, capprops=capprops, flierprops = flierprops)\n",
    "ax.set_ylim(2000, 5400)\n",
    "ax.set_xlabel('', size = 14)\n",
    "ax.set_ylabel('Birth weight (grams)', size = 14)\n",
    "ax.set_title('')\n",
    "ax.tick_params(axis='both', which='major', labelsize=14)\n",
    "ax.set_xticklabels(xticklabels)\n",
    "plt.grid(True)\n",
    "\n",
    "fig.savefig('%s/%s.%s' % (DIR_WRITE, 'HIE_birth_weight_SIMV_VG_no_VG', filetype),\n",
    "    dpi = dpi, facecolor='w', edgecolor='w', orientation='portrait', papertype=None, format = filetype,\n",
    "    transparent=False, bbox_inches='tight', pad_inches=0.1);"
   ]
  },
  {
   "cell_type": "markdown",
   "metadata": {},
   "source": [
    "### Comparative statistics between gestational age and birth weight, SIMV-VG versus SIMV-noVG"
   ]
  },
  {
   "cell_type": "code",
   "execution_count": null,
   "metadata": {},
   "outputs": [],
   "source": [
    "pars = ['Gestational Age (weeks)', 'Birth Weight',]\n",
    "\n",
    "clin_df_stats_VG = round(DataFrame([clin_df_VG[pars].mean(), \n",
    "                                    clin_df_VG[pars].std()]).T, 2)\n",
    "clin_df_stats_VG.columns = ['mean', 'SD']\n",
    "\n",
    "clin_df_stats_no_VG = round(DataFrame([clin_df_no_VG[pars].mean(), \n",
    "                                       clin_df_no_VG[pars].std()]).T, 2)\n",
    "clin_df_stats_no_VG.columns = ['mean', 'SD']\n",
    "\n",
    "clin_df_stats_VG_no_VG = pd.concat([clin_df_stats_VG, clin_df_stats_no_VG], axis = 1,\n",
    "                              keys = ['VG', 'no VG'])"
   ]
  },
  {
   "cell_type": "code",
   "execution_count": null,
   "metadata": {},
   "outputs": [],
   "source": [
    "ttest_stat = []\n",
    "ttest_p = []\n",
    "for par in pars:\n",
    "    ttest_stat.append(stats.ttest_ind(clin_df_VG[par], clin_df_no_VG[par])[0])\n",
    "    ttest_p.append(stats.ttest_ind(clin_df_VG[par],  clin_df_no_VG[par])[1])\n",
    "\n",
    "clin_df_stats_VG_no_VG['p'] = ttest_p  "
   ]
  },
  {
   "cell_type": "code",
   "execution_count": null,
   "metadata": {
    "scrolled": true
   },
   "outputs": [],
   "source": [
    "clin_df_stats_VG_no_VG"
   ]
  },
  {
   "cell_type": "code",
   "execution_count": null,
   "metadata": {},
   "outputs": [],
   "source": [
    "# For postnatal age\n",
    "\n",
    "stats.ttest_ind(clin_df_VG['Postnatal_age_2'].apply(lambda x: x.total_seconds()), \n",
    "                clin_df_no_VG['Postnatal_age_2'].apply(lambda x: x.total_seconds()))"
   ]
  },
  {
   "cell_type": "code",
   "execution_count": null,
   "metadata": {},
   "outputs": [],
   "source": [
    "(clin_df_VG['Postnatal_age_2'].apply(lambda x: x.total_seconds()).mean() / 3600,\n",
    " clin_df_VG['Postnatal_age_2'].apply(lambda x: x.total_seconds()).std() / 3600)\n",
    " "
   ]
  },
  {
   "cell_type": "code",
   "execution_count": null,
   "metadata": {},
   "outputs": [],
   "source": [
    "(clin_df_no_VG['Postnatal_age_2'].apply(lambda x: x.total_seconds()).mean() / 3600,\n",
    "clin_df_no_VG['Postnatal_age_2'].apply(lambda x: x.total_seconds()).std() / 3600)"
   ]
  },
  {
   "cell_type": "code",
   "execution_count": null,
   "metadata": {},
   "outputs": [],
   "source": [
    "writer = pd.ExcelWriter('%s/%s' % (DIR_WRITE, 'clin_df_stats_SIMV_VG_no_VG.xlsx'))\n",
    "clin_df_stats_VG_no_VG.to_excel(writer, 'VG_no_VG')\n",
    "writer.save()"
   ]
  },
  {
   "cell_type": "markdown",
   "metadata": {},
   "source": [
    "### Calculate and compare the respiratory severity score (RSS) for SIMV-VG and SIMV-noVG recordings"
   ]
  },
  {
   "cell_type": "code",
   "execution_count": null,
   "metadata": {},
   "outputs": [],
   "source": [
    "# 5 minutes = 150 data points with 0.5 Hz sampling rate\n",
    "\n",
    "rss_simv_vg = {}\n",
    "for recording in simv_vg:\n",
    "    rss_simv_vg[recording] = round((data_pars_settings_simv_vg[recording]['FiO2_set'] * \n",
    "                              data_pars_measurements_simv_vg[recording]['MAP'] / 100).dropna().mean(), 2)\n",
    "    \n",
    "rss_simv_novg = {}\n",
    "for recording in simv_novg:\n",
    "    rss_simv_novg[recording] = round((data_pars_settings_simv_novg[recording]['FiO2_set'] * \n",
    "                              data_pars_measurements_simv_novg[recording]['MAP'] / 100).dropna().mean(), 2)\n",
    "    \n",
    "rss_simv_vg_frame = DataFrame([rss_simv_vg]).T\n",
    "rss_simv_vg_frame.columns = ['respiratory severity score']\n",
    "\n",
    "rss_simv_novg_frame = DataFrame([rss_simv_novg]).T\n",
    "rss_simv_novg_frame.columns = ['respiratory severity score']"
   ]
  },
  {
   "cell_type": "code",
   "execution_count": null,
   "metadata": {},
   "outputs": [],
   "source": [
    "rss_simv_vg_frame;"
   ]
  },
  {
   "cell_type": "code",
   "execution_count": null,
   "metadata": {},
   "outputs": [],
   "source": [
    "rss_simv_novg_frame;"
   ]
  },
  {
   "cell_type": "code",
   "execution_count": null,
   "metadata": {},
   "outputs": [],
   "source": [
    "round(rss_simv_vg_frame.describe(), 1)"
   ]
  },
  {
   "cell_type": "code",
   "execution_count": null,
   "metadata": {},
   "outputs": [],
   "source": [
    "round(rss_simv_novg_frame.describe(), 1)"
   ]
  },
  {
   "cell_type": "code",
   "execution_count": null,
   "metadata": {},
   "outputs": [],
   "source": [
    "fig, ax = plt.subplots(figsize = (3, 4))\n",
    "dpi = 300\n",
    "filetype = 'jpg'\n",
    "xticklabels = ['SIMV-VG', 'SIMV' ]\n",
    "\n",
    "# Define styling for each boxplot component\n",
    "medianprops = {'color': 'black', 'linewidth': 2}\n",
    "meanpointprops = {'marker':'D', 'markeredgecolor':'black', 'markerfacecolor':'black'}\n",
    "boxprops = {'color': 'black', 'linestyle': '-'}\n",
    "whiskerprops = {'color': 'black', 'linestyle': '-'}\n",
    "capprops = {'color': 'black', 'linestyle': '-'}\n",
    "flierprops = {'color': 'black', 'marker': '.'}\n",
    "\n",
    "plt.boxplot([rss_simv_vg_frame['respiratory severity score'], \n",
    "             rss_simv_novg_frame['respiratory severity score']], widths = 0.5, meanprops = meanpointprops, \n",
    "        whis = 'range', showfliers = True,showmeans = True, medianprops=medianprops, boxprops=boxprops, \n",
    "        whiskerprops=whiskerprops, capprops=capprops, flierprops = flierprops)\n",
    "#ax.set_ylim(2000, 5400)\n",
    "ax.set_xlabel('', size = 14)\n",
    "ax.set_ylabel('Respiratory severity score', size = 14)\n",
    "ax.set_title('')\n",
    "ax.tick_params(axis='both', which='major', labelsize=14)\n",
    "ax.set_xticklabels(xticklabels)\n",
    "plt.grid(True)\n",
    "\n",
    "fig.savefig('%s/%s.%s' % (DIR_WRITE, 'HIE_RSS_SIMV_VG_no_VG', filetype),\n",
    "    dpi = dpi, facecolor='w', edgecolor='w', orientation='portrait', papertype=None, format = filetype,\n",
    "    transparent=False, bbox_inches='tight', pad_inches=0.1);"
   ]
  },
  {
   "cell_type": "code",
   "execution_count": null,
   "metadata": {},
   "outputs": [],
   "source": [
    "stats.mannwhitneyu(rss_simv_vg_frame, rss_simv_novg_frame)"
   ]
  },
  {
   "cell_type": "markdown",
   "metadata": {},
   "source": [
    "### Clinical problems"
   ]
  },
  {
   "cell_type": "code",
   "execution_count": null,
   "metadata": {
    "scrolled": false
   },
   "outputs": [],
   "source": [
    "clin_df_VG;"
   ]
  },
  {
   "cell_type": "code",
   "execution_count": null,
   "metadata": {},
   "outputs": [],
   "source": [
    "for index, *item in clin_df_HIE.loc[simv_vg][['Pathology_English']].itertuples():\n",
    "    print(index, item, '\\n')"
   ]
  },
  {
   "cell_type": "code",
   "execution_count": null,
   "metadata": {
    "scrolled": false
   },
   "outputs": [],
   "source": [
    "clin_df_no_VG;"
   ]
  },
  {
   "cell_type": "code",
   "execution_count": null,
   "metadata": {},
   "outputs": [],
   "source": [
    "for index, *item in clin_df_HIE.loc[simv_novg][['Pathology_English']].itertuples():\n",
    "    print(index, item, '\\n')"
   ]
  },
  {
   "cell_type": "markdown",
   "metadata": {},
   "source": [
    "### Temperature on arrival and at handover"
   ]
  },
  {
   "cell_type": "markdown",
   "metadata": {},
   "source": [
    "##### At arrival on the referring Unit"
   ]
  },
  {
   "cell_type": "code",
   "execution_count": null,
   "metadata": {},
   "outputs": [],
   "source": [
    "clin_df_HIE_2.loc[simv_vg]['Temp on arrival (C ) to referral unit'].describe()"
   ]
  },
  {
   "cell_type": "code",
   "execution_count": null,
   "metadata": {},
   "outputs": [],
   "source": [
    "clin_df_HIE_2.loc[simv_novg]['Temp on arrival (C ) to referral unit'].describe()"
   ]
  },
  {
   "cell_type": "code",
   "execution_count": null,
   "metadata": {},
   "outputs": [],
   "source": [
    "stats.mannwhitneyu(clin_df_HIE_2.loc[simv_vg]['Temp on arrival (C ) to referral unit'], \n",
    "                   clin_df_HIE_2.loc[simv_novg]['Temp on arrival (C ) to referral unit'])"
   ]
  },
  {
   "cell_type": "code",
   "execution_count": null,
   "metadata": {},
   "outputs": [],
   "source": [
    "clin_df_HIE_2.loc[simv_vg]['Temp on handover (C )'].describe()"
   ]
  },
  {
   "cell_type": "code",
   "execution_count": null,
   "metadata": {},
   "outputs": [],
   "source": [
    "clin_df_HIE_2.loc[simv_novg]['Temp on handover (C )'].describe()"
   ]
  },
  {
   "cell_type": "code",
   "execution_count": null,
   "metadata": {},
   "outputs": [],
   "source": [
    "stats.mannwhitneyu(clin_df_HIE_2.loc[simv_vg]['Temp on handover (C )'], \n",
    "                   clin_df_HIE_2.loc[simv_novg]['Temp on handover (C )'])"
   ]
  },
  {
   "cell_type": "markdown",
   "metadata": {},
   "source": [
    "### Other clinical characteristics"
   ]
  },
  {
   "cell_type": "markdown",
   "metadata": {},
   "source": [
    "#### Mode of delivery"
   ]
  },
  {
   "cell_type": "code",
   "execution_count": null,
   "metadata": {},
   "outputs": [],
   "source": [
    "clin_df_HIE_2.loc[simv_vg]['Mode of delivery'].value_counts(dropna = False)"
   ]
  },
  {
   "cell_type": "markdown",
   "metadata": {},
   "source": [
    "- SVD: 15\n",
    "- Instrumental delivery: 0\n",
    "- ElCS: 1\n",
    "- EmCS: 11\n",
    "- n/a: 1"
   ]
  },
  {
   "cell_type": "code",
   "execution_count": null,
   "metadata": {},
   "outputs": [],
   "source": [
    "clin_df_HIE_2.loc[simv_novg]['Mode of delivery'].value_counts()"
   ]
  },
  {
   "cell_type": "markdown",
   "metadata": {},
   "source": [
    "- SVD: 1\n",
    "- Instrumental delivery: 1\n",
    "- ElCS: 1\n",
    "- EmCS: 6"
   ]
  },
  {
   "cell_type": "markdown",
   "metadata": {},
   "source": [
    "##### 5-min Apgar score"
   ]
  },
  {
   "cell_type": "code",
   "execution_count": null,
   "metadata": {},
   "outputs": [],
   "source": [
    "clin_df_HIE_2.loc[simv_vg]['Apgar_5'].describe()"
   ]
  },
  {
   "cell_type": "code",
   "execution_count": null,
   "metadata": {},
   "outputs": [],
   "source": [
    "clin_df_HIE_2.loc[simv_novg]['Apgar_5'].describe()"
   ]
  },
  {
   "cell_type": "code",
   "execution_count": null,
   "metadata": {},
   "outputs": [],
   "source": [
    "stats.mannwhitneyu(clin_df_HIE_2.loc[simv_vg]['Apgar_5'], clin_df_HIE_2.loc[simv_novg]['Apgar_5'])"
   ]
  },
  {
   "cell_type": "markdown",
   "metadata": {},
   "source": [
    "##### 10-min Apgar score"
   ]
  },
  {
   "cell_type": "code",
   "execution_count": null,
   "metadata": {},
   "outputs": [],
   "source": [
    "clin_df_HIE_2.loc[simv_vg]['Apgar_10'].describe()"
   ]
  },
  {
   "cell_type": "code",
   "execution_count": null,
   "metadata": {},
   "outputs": [],
   "source": [
    "clin_df_HIE_2.loc[simv_novg]['Apgar_10'].describe()"
   ]
  },
  {
   "cell_type": "code",
   "execution_count": null,
   "metadata": {},
   "outputs": [],
   "source": [
    "stats.mannwhitneyu(clin_df_HIE_2.loc[simv_vg]['Apgar_10'], clin_df_HIE_2.loc[simv_novg]['Apgar_10'])"
   ]
  },
  {
   "cell_type": "markdown",
   "metadata": {},
   "source": [
    "##### Active of passive cooling"
   ]
  },
  {
   "cell_type": "markdown",
   "metadata": {},
   "source": [
    "The ones who had no cooling was still cooling down during transport so count it as passive"
   ]
  },
  {
   "cell_type": "code",
   "execution_count": null,
   "metadata": {},
   "outputs": [],
   "source": [
    "clin_df_HIE_2.loc[simv_vg]['Cooling (active / passive)'].value_counts(dropna = False)"
   ]
  },
  {
   "cell_type": "markdown",
   "metadata": {},
   "source": [
    "- Active cooling: 22\n",
    "- Passive cooling: 5\n",
    "- No cooling: 1\n",
    "\n",
    "Manual lookup: The baby who had no cooling was still cooling down during transport (checked manually) so count it as passive"
   ]
  },
  {
   "cell_type": "code",
   "execution_count": null,
   "metadata": {},
   "outputs": [],
   "source": [
    "clin_df_HIE_2.loc[simv_novg]['Cooling (active / passive)'].value_counts(dropna = False)"
   ]
  },
  {
   "cell_type": "markdown",
   "metadata": {},
   "source": [
    "- Active cooling: 6\n",
    "- Passive cooling: 2"
   ]
  },
  {
   "cell_type": "code",
   "execution_count": null,
   "metadata": {},
   "outputs": [],
   "source": [
    "active_passive_oddsratio, active_passive_pvalue = stats.fisher_exact([[22, 6], [6, 2]])\n",
    "active_passive_oddsratio, active_passive_pvalue"
   ]
  },
  {
   "cell_type": "markdown",
   "metadata": {},
   "source": [
    "##### Seizures"
   ]
  },
  {
   "cell_type": "code",
   "execution_count": null,
   "metadata": {},
   "outputs": [],
   "source": [
    "clin_df_HIE_2.loc[simv_vg]['Seizure'].value_counts(dropna = False)"
   ]
  },
  {
   "cell_type": "markdown",
   "metadata": {},
   "source": [
    "- Seizure: 9\n",
    "- No seizure: 18\n",
    "- n/a: 1"
   ]
  },
  {
   "cell_type": "code",
   "execution_count": null,
   "metadata": {},
   "outputs": [],
   "source": [
    "clin_df_HIE_2.loc[simv_novg]['Seizure'].value_counts(dropna = False)"
   ]
  },
  {
   "cell_type": "markdown",
   "metadata": {},
   "source": [
    "- Seizure: 1\n",
    "- No seizure: 7\n"
   ]
  },
  {
   "cell_type": "markdown",
   "metadata": {},
   "source": [
    "### Medications"
   ]
  },
  {
   "cell_type": "markdown",
   "metadata": {},
   "source": [
    "##### Sedation"
   ]
  },
  {
   "cell_type": "code",
   "execution_count": null,
   "metadata": {},
   "outputs": [],
   "source": [
    "clin_df_HIE_2.loc[simv_vg]['Sedatives'].value_counts(dropna = False)"
   ]
  },
  {
   "cell_type": "markdown",
   "metadata": {},
   "source": [
    "- Fentanyl alone: 9\n",
    "- Morphine alone: 1\n",
    "- Midazolam alone: 0\n",
    "- Thiopental alone: 1\n",
    "- Fentanyl + Thiopental: 9\n",
    "- Fentanyl + Midazolam: 1\n",
    "- No: 7"
   ]
  },
  {
   "cell_type": "code",
   "execution_count": null,
   "metadata": {},
   "outputs": [],
   "source": [
    "clin_df_HIE_2.loc[simv_novg]['Sedatives'].value_counts(dropna = False)"
   ]
  },
  {
   "cell_type": "markdown",
   "metadata": {},
   "source": [
    "- Fentanyl alone: 2\n",
    "- Morphine alone: 0\n",
    "- Midazolam alone: 1\n",
    "- Thiopental alone: 0\n",
    "- Fentanyl + Thiopental: 2\n",
    "- Fentanyl + Midazolam: 1\n",
    "- No: 2"
   ]
  },
  {
   "cell_type": "code",
   "execution_count": null,
   "metadata": {},
   "outputs": [],
   "source": [
    "sedation_no_sedation_oddsratio, sedation_no_sedation_pvalue = stats.fisher_exact([[20, 8], [6, 2]])\n",
    "sedation_no_sedation_oddsratio, sedation_no_sedation_pvalue"
   ]
  },
  {
   "cell_type": "markdown",
   "metadata": {},
   "source": [
    "##### Muscle relaxant"
   ]
  },
  {
   "cell_type": "code",
   "execution_count": null,
   "metadata": {},
   "outputs": [],
   "source": [
    "clin_df_HIE_2.loc[simv_vg]['Muscle relaxant'].value_counts()"
   ]
  },
  {
   "cell_type": "markdown",
   "metadata": {},
   "source": [
    "- Rocuronium: 3\n",
    "- Atracurium: 0\n",
    "- No: 25"
   ]
  },
  {
   "cell_type": "code",
   "execution_count": null,
   "metadata": {
    "scrolled": true
   },
   "outputs": [],
   "source": [
    "clin_df_HIE_2.loc[simv_novg]['Muscle relaxant'].value_counts()"
   ]
  },
  {
   "cell_type": "markdown",
   "metadata": {},
   "source": [
    "- Rocuronium: 2\n",
    "- Atracurium: 1\n",
    "- No: 5"
   ]
  },
  {
   "cell_type": "code",
   "execution_count": null,
   "metadata": {},
   "outputs": [],
   "source": [
    "relaxant_oddsratio, relaxant_pvalue = stats.fisher_exact([[24, 4], [5, 3]])\n",
    "relaxant_oddsratio, relaxant_pvalue"
   ]
  },
  {
   "cell_type": "markdown",
   "metadata": {},
   "source": [
    "##### Anticonvulsant"
   ]
  },
  {
   "cell_type": "code",
   "execution_count": null,
   "metadata": {},
   "outputs": [],
   "source": [
    "clin_df_HIE_2.loc[simv_vg]['Anticonvulsant'].value_counts()"
   ]
  },
  {
   "cell_type": "markdown",
   "metadata": {},
   "source": [
    "- Phenobarbital: 9\n",
    "- No: 19"
   ]
  },
  {
   "cell_type": "code",
   "execution_count": null,
   "metadata": {},
   "outputs": [],
   "source": [
    "clin_df_HIE_2.loc[simv_novg]['Anticonvulsant'].value_counts()"
   ]
  },
  {
   "cell_type": "markdown",
   "metadata": {},
   "source": [
    "- Phenobarbital: 1\n",
    "- No: 7"
   ]
  },
  {
   "cell_type": "code",
   "execution_count": null,
   "metadata": {},
   "outputs": [],
   "source": [
    "anticonvulsant_oddsratio, anticonvulsant_pvalue = stats.fisher_exact([[19, 9], [7, 1]])\n",
    "anticonvulsant_oddsratio, anticonvulsant_pvalue"
   ]
  },
  {
   "cell_type": "code",
   "execution_count": null,
   "metadata": {},
   "outputs": [],
   "source": [
    "# If == 2 they were not on any sedative\n",
    "clin_df_HIE_2.loc[simv_vg][['Sedatives', 'Anticonvulsant',]]"
   ]
  },
  {
   "cell_type": "code",
   "execution_count": null,
   "metadata": {},
   "outputs": [],
   "source": [
    "# If == 2 they were not on any sedative\n",
    "((clin_df_HIE_2.loc[simv_vg][['Sedatives', 'Anticonvulsant',]] == 'no').sum(axis = 1) == 2).sum()"
   ]
  },
  {
   "cell_type": "code",
   "execution_count": null,
   "metadata": {},
   "outputs": [],
   "source": [
    "# If == 2 they were not on any sedative\n",
    "clin_df_HIE_2.loc[simv_novg][['Sedatives', 'Anticonvulsant',]]"
   ]
  },
  {
   "cell_type": "code",
   "execution_count": null,
   "metadata": {},
   "outputs": [],
   "source": [
    "# If == 2 they were not on any sedative\n",
    "(clin_df_HIE_2.loc[simv_novg][['Sedatives', 'Anticonvulsant',]] == 'no').sum(axis = 1)"
   ]
  },
  {
   "cell_type": "markdown",
   "metadata": {},
   "source": [
    "##### Inotropic support"
   ]
  },
  {
   "cell_type": "code",
   "execution_count": null,
   "metadata": {},
   "outputs": [],
   "source": [
    "clin_df_HIE_2.loc[simv_vg]['Inotropes'].value_counts()"
   ]
  },
  {
   "cell_type": "markdown",
   "metadata": {},
   "source": [
    "- None: 24\n",
    "- Dopamine: 2\n",
    "- Dobutamine: 1\n",
    "- Dopamine, Noradrenaline, Hydrocortison: 1"
   ]
  },
  {
   "cell_type": "code",
   "execution_count": null,
   "metadata": {},
   "outputs": [],
   "source": [
    "clin_df_HIE_2.loc[simv_novg]['Inotropes'].value_counts()"
   ]
  },
  {
   "cell_type": "markdown",
   "metadata": {},
   "source": [
    "- None: 6\n",
    "- Dopamine: 1\n",
    "- Dopamine, Dobutamine: 1"
   ]
  },
  {
   "cell_type": "markdown",
   "metadata": {},
   "source": [
    "##### Surfactant "
   ]
  },
  {
   "cell_type": "code",
   "execution_count": null,
   "metadata": {},
   "outputs": [],
   "source": [
    "clin_df_HIE_2.loc[simv_vg]['Curosurf'].value_counts()"
   ]
  },
  {
   "cell_type": "markdown",
   "metadata": {},
   "source": [
    "- No: 25\n",
    "- Yes: 3"
   ]
  },
  {
   "cell_type": "code",
   "execution_count": null,
   "metadata": {},
   "outputs": [],
   "source": [
    "clin_df_HIE_2.loc[simv_novg]['Curosurf'].value_counts()"
   ]
  },
  {
   "cell_type": "markdown",
   "metadata": {},
   "source": [
    "- No: 26\n",
    "- Yes: 1"
   ]
  },
  {
   "cell_type": "markdown",
   "metadata": {},
   "source": [
    "### Calculate and compare ventilator parameters"
   ]
  },
  {
   "cell_type": "code",
   "execution_count": null,
   "metadata": {},
   "outputs": [],
   "source": [
    "data_pars_settings_ventilated_HIE['AL000008'].info()"
   ]
  },
  {
   "cell_type": "code",
   "execution_count": null,
   "metadata": {},
   "outputs": [],
   "source": [
    "data_pars_settings_simv_vg['AL000008'].info()"
   ]
  },
  {
   "cell_type": "markdown",
   "metadata": {},
   "source": [
    "##### SIMV-VG"
   ]
  },
  {
   "cell_type": "code",
   "execution_count": null,
   "metadata": {},
   "outputs": [],
   "source": [
    "stats_measurements_simv_vg = {} \n",
    "\n",
    "for recording in simv_vg:\n",
    "    stats_measurements_simv_vg[recording] = \\\n",
    "        round(data_pars_measurements_simv_vg[recording].describe(percentiles = \n",
    "                                                    (0.05, 0.25, 0.5, 0.75, 0.95)), 2)\n",
    "    stats_measurements_simv_vg[recording].index = ['data_points', 'mean', 'SD', 'min', '5pc', \n",
    "                                                      '25pc', 'median', '75pc', '95pc', 'max']"
   ]
  },
  {
   "cell_type": "code",
   "execution_count": null,
   "metadata": {},
   "outputs": [],
   "source": [
    "stats_settings_simv_vg = {} \n",
    "\n",
    "for recording in simv_vg:\n",
    "    stats_settings_simv_vg[recording] = \\\n",
    "        round(data_pars_settings_simv_vg[recording].describe(percentiles = \n",
    "                                                    (0.05, 0.25, 0.5, 0.75, 0.95)), 2)\n",
    "    stats_settings_simv_vg[recording].index = ['data_points', 'mean', 'SD', 'min', '5pc', \n",
    "                                                      '25pc', 'median', '75pc', '95pc', 'max']"
   ]
  },
  {
   "cell_type": "markdown",
   "metadata": {},
   "source": [
    "##### SIMV-noVG"
   ]
  },
  {
   "cell_type": "code",
   "execution_count": null,
   "metadata": {},
   "outputs": [],
   "source": [
    "stats_measurements_simv_novg = {} \n",
    "\n",
    "for recording in simv_novg:\n",
    "    stats_measurements_simv_novg[recording] = \\\n",
    "        round(data_pars_measurements_simv_novg[recording].describe(percentiles = \n",
    "                                                    (0.05, 0.25, 0.5, 0.75, 0.95)), 2)\n",
    "    stats_measurements_simv_novg[recording].index = ['data_points', 'mean', 'SD', 'min', '5pc', \n",
    "                                                      '25pc', 'median', '75pc', '95pc', 'max']"
   ]
  },
  {
   "cell_type": "code",
   "execution_count": null,
   "metadata": {},
   "outputs": [],
   "source": [
    "stats_settings_simv_novg = {} \n",
    "\n",
    "for recording in simv_novg:\n",
    "    stats_settings_simv_novg[recording] = \\\n",
    "        round(data_pars_settings_simv_novg[recording].describe(percentiles = \n",
    "                                                    (0.05, 0.25, 0.5, 0.75, 0.95)), 2)\n",
    "    stats_settings_simv_novg[recording].index = ['data_points', 'mean', 'SD', 'min', '5pc', \n",
    "                                                      '25pc', 'median', '75pc', '95pc', 'max']"
   ]
  },
  {
   "cell_type": "markdown",
   "metadata": {},
   "source": [
    "## Create table with statistics for all cases and all relevant parameters"
   ]
  },
  {
   "cell_type": "markdown",
   "metadata": {},
   "source": [
    "### Measured ventilator parameters"
   ]
  },
  {
   "cell_type": "code",
   "execution_count": null,
   "metadata": {
    "scrolled": false
   },
   "outputs": [],
   "source": [
    "stats_measurements_simv_vg_all = pd.concat(stats_measurements_simv_vg, axis = 1).T\n",
    "# Remove measured parameters not given in case of mechanical ventilation\n",
    "stats_measurements_simv_vg_all.dropna(how = 'all', subset = ['mean', 'SD', 'min', '5pc', \n",
    "                                '25pc', 'median', '75pc', '95pc', 'max'], axis = 0, inplace = True)\n",
    "\n",
    "stats_measurements_simv_vg_all_2 = \\\n",
    "    stats_measurements_simv_vg_all.unstack()[['mean', 'SD']].swaplevel(axis = 1).sort_index(level = 0, axis = 1, ascending = False)\n",
    "stats_measurements_simv_vg_all_3 = \\\n",
    "    stats_measurements_simv_vg_all.unstack()[['median', '25pc', '75pc']].swaplevel(axis = 1).sort_index(level = 0, axis = 1, ascending = False)"
   ]
  },
  {
   "cell_type": "code",
   "execution_count": null,
   "metadata": {
    "scrolled": false
   },
   "outputs": [],
   "source": [
    "stats_measurements_simv_novg_all = pd.concat(stats_measurements_simv_novg, axis = 1).T\n",
    "# Remove measured parameters not given in case of mechanical ventilation\n",
    "stats_measurements_simv_novg_all.dropna(how = 'all', subset = ['mean', 'SD', 'min', '5pc', \n",
    "                                '25pc', 'median', '75pc', '95pc', 'max'], axis = 0, inplace = True)\n",
    "stats_measurements_simv_novg_all_2 = \\\n",
    "    stats_measurements_simv_novg_all.unstack()[['mean', 'SD']].swaplevel(axis = 1).sort_index(level = 0, axis = 1, ascending = False)\n",
    "stats_measurements_simv_novg_all_3 = \\\n",
    "    stats_measurements_simv_novg_all.unstack()[['median', '25pc', '75pc']].swaplevel(axis = 1).sort_index(level = 0, axis = 1, ascending = False)"
   ]
  },
  {
   "cell_type": "code",
   "execution_count": null,
   "metadata": {
    "scrolled": false
   },
   "outputs": [],
   "source": [
    "stats_measurements_simv_vg_all.loc['AL000008']"
   ]
  },
  {
   "cell_type": "code",
   "execution_count": null,
   "metadata": {
    "scrolled": true
   },
   "outputs": [],
   "source": [
    "stats_measurements_simv_vg_all_2.head()"
   ]
  },
  {
   "cell_type": "code",
   "execution_count": null,
   "metadata": {
    "scrolled": true
   },
   "outputs": [],
   "source": [
    "stats_measurements_simv_vg_all_3.head()"
   ]
  },
  {
   "cell_type": "markdown",
   "metadata": {},
   "source": [
    "### Ventilator settings"
   ]
  },
  {
   "cell_type": "code",
   "execution_count": null,
   "metadata": {
    "scrolled": false
   },
   "outputs": [],
   "source": [
    "stats_settings_simv_vg_all = pd.concat(stats_settings_simv_vg, axis = 1).T\n",
    "# Remove set parameters not given in case of mechanical ventilation\n",
    "stats_settings_simv_vg_all.dropna(how = 'all', subset = ['mean', 'SD', 'min', '5pc', \n",
    "                                '25pc', 'median', '75pc', '95pc', 'max'], axis = 0, inplace = True)\n",
    "stats_settings_simv_vg_all_2 = \\\n",
    "    stats_settings_simv_vg_all.unstack()[['mean', 'SD']].swaplevel(axis = 1).sort_index(level = 0, axis = 1, ascending = False)\n",
    "stats_settings_simv_vg_all_3 = \\\n",
    "    stats_settings_simv_vg_all.unstack()[['median', '25pc', '75pc']].swaplevel(axis = 1).sort_index(level = 0, axis = 1, ascending = False)\n"
   ]
  },
  {
   "cell_type": "code",
   "execution_count": null,
   "metadata": {
    "scrolled": false
   },
   "outputs": [],
   "source": [
    "stats_settings_simv_novg_all = pd.concat(stats_settings_simv_novg, axis = 1).T\n",
    "# Remove set parameters not given in case of mechanical ventilation\n",
    "stats_settings_simv_novg_all.dropna(how = 'all', subset = ['mean', 'SD', 'min', '5pc', \n",
    "                                '25pc', 'median', '75pc', '95pc', 'max'], axis = 0, inplace = True)\n",
    "stats_settings_simv_novg_all_2 = \\\n",
    "    stats_settings_simv_novg_all.unstack()[['mean', 'SD']].swaplevel(axis = 1).sort_index(level = 0, axis = 1, ascending = False)\n",
    "stats_settings_simv_novg_all_3 = \\\n",
    "    stats_settings_simv_novg_all.unstack()[['median', '25pc', '75pc']].swaplevel(axis = 1).sort_index(level = 0, axis = 1, ascending = False)"
   ]
  },
  {
   "cell_type": "code",
   "execution_count": null,
   "metadata": {
    "scrolled": false
   },
   "outputs": [],
   "source": [
    "stats_settings_simv_novg_all.loc['AL000019']"
   ]
  },
  {
   "cell_type": "code",
   "execution_count": null,
   "metadata": {
    "scrolled": true
   },
   "outputs": [],
   "source": [
    "stats_settings_simv_vg_all_2.head()"
   ]
  },
  {
   "cell_type": "code",
   "execution_count": null,
   "metadata": {
    "scrolled": true
   },
   "outputs": [],
   "source": [
    "stats_settings_simv_vg_all_3.head()"
   ]
  },
  {
   "cell_type": "markdown",
   "metadata": {},
   "source": [
    "### Select the subset to be presented with the appropriate aggregate statistics"
   ]
  },
  {
   "cell_type": "markdown",
   "metadata": {},
   "source": [
    "### VG recordings"
   ]
  },
  {
   "cell_type": "code",
   "execution_count": null,
   "metadata": {},
   "outputs": [],
   "source": [
    "data_pars_measurements_simv_vg['AL000008'].info()"
   ]
  },
  {
   "cell_type": "code",
   "execution_count": null,
   "metadata": {
    "scrolled": true
   },
   "outputs": [],
   "source": [
    "# For parametrically distributed data use mean and SD\n",
    "\n",
    "columns_to_keep_1 = ['PIP', 'MAP', 'PEEP', 'MV_kg', 'VTemand_resp_kg', 'VTdiff',]\n",
    "\n",
    "stats_measurements_simv_vg_all_filt_1 = \\\n",
    "    stats_measurements_simv_vg_all.unstack()[['mean', 'SD']].swaplevel(axis = 1)\n",
    "stats_measurements_simv_vg_all_filt_1 = \\\n",
    "    stats_measurements_simv_vg_all_filt_1.sort_index(axis = 1, level = 0, ascending = False)\n",
    "stats_measurements_simv_vg_all_filt_1 = stats_measurements_simv_vg_all_filt_1[columns_to_keep_1]\n",
    "stats_measurements_simv_vg_all_filt_1.head()"
   ]
  },
  {
   "cell_type": "code",
   "execution_count": null,
   "metadata": {},
   "outputs": [],
   "source": [
    "# For non_parametrically distributed data use median, 25pc, 75pc\n",
    "\n",
    "columns_to_keep_2 = ['MVresp', 'MVspon', 'Pdiff']\n",
    "\n",
    "stats_measurements_simv_vg_all_filt_2 = \\\n",
    "    stats_measurements_simv_vg_all.unstack()[['median', '25pc', '75pc']].swaplevel(axis = 1)\n",
    "stats_measurements_simv_vg_all_filt_2 = \\\n",
    "    stats_measurements_simv_vg_all_filt_2.sort_index(axis = 1, level = 0, ascending = False)\n",
    "stats_measurements_simv_vg_all_filt_2 = stats_measurements_simv_vg_all_filt_2[columns_to_keep_2]\n",
    "stats_measurements_simv_vg_all_filt_2.head()"
   ]
  },
  {
   "cell_type": "code",
   "execution_count": null,
   "metadata": {},
   "outputs": [],
   "source": [
    "# For parametrically distributed data use mean and SD\n",
    "\n",
    "columns_to_keep_3 = ['RR_set', 'VG_set_kg']\n",
    "\n",
    "stats_settings_simv_vg_all_filt_3 = \\\n",
    "    stats_settings_simv_vg_all.unstack()[['mean', 'SD']].swaplevel(axis = 1)\n",
    "stats_settings_simv_vg_all_filt_3 = \\\n",
    "    stats_settings_simv_vg_all_filt_3.sort_index(axis = 1, level = 0, ascending = False)\n",
    "stats_settings_simv_vg_all_filt_3 = stats_settings_simv_vg_all_filt_3[columns_to_keep_3]\n",
    "stats_settings_simv_vg_all_filt_3.head()"
   ]
  },
  {
   "cell_type": "code",
   "execution_count": null,
   "metadata": {},
   "outputs": [],
   "source": [
    "# For non-parametrically distributed data use median and 25pc, 75pc\n",
    "columns_to_keep_4 = ['FiO2_set']\n",
    "\n",
    "stats_settings_simv_vg_all_filt_4 = \\\n",
    "    stats_settings_simv_vg_all.unstack()[['median', '25pc', '75pc']].swaplevel(axis = 1)\n",
    "stats_settings_simv_vg_all_filt_4 = \\\n",
    "    stats_settings_simv_vg_all_filt_4.sort_index(axis = 1, level = 0, ascending = False)\n",
    "stats_settings_simv_vg_all_filt_4 = stats_settings_simv_vg_all_filt_4[columns_to_keep_4]\n",
    "stats_settings_simv_vg_all_filt_4.head()"
   ]
  },
  {
   "cell_type": "code",
   "execution_count": null,
   "metadata": {},
   "outputs": [],
   "source": [
    "stats_simv_vg_selected = pd.concat([stats_measurements_simv_vg_all_filt_1, stats_measurements_simv_vg_all_filt_2,\n",
    "                                    stats_settings_simv_vg_all_filt_3, stats_settings_simv_vg_all_filt_4],\n",
    "                                   axis = 1)"
   ]
  },
  {
   "cell_type": "code",
   "execution_count": null,
   "metadata": {},
   "outputs": [],
   "source": [
    "stats_simv_vg_selected.head()"
   ]
  },
  {
   "cell_type": "markdown",
   "metadata": {},
   "source": [
    "### Non-VG recordings"
   ]
  },
  {
   "cell_type": "code",
   "execution_count": null,
   "metadata": {},
   "outputs": [],
   "source": [
    "# For parametrically distributed data use mean and SD\n",
    "\n",
    "columns_to_keep_1 = ['PIP', 'MAP', 'PEEP', 'MV_kg', 'VTemand_resp_kg',]\n",
    "\n",
    "stats_measurements_simv_novg_all_filt_1 = \\\n",
    "    stats_measurements_simv_novg_all.unstack()[['mean', 'SD']].swaplevel(axis = 1)\n",
    "stats_measurements_simv_novg_all_filt_1 = \\\n",
    "    stats_measurements_simv_novg_all_filt_1.sort_index(axis = 1, level = 0, ascending = False)\n",
    "stats_measurements_simv_novg_all_filt_1 = stats_measurements_simv_novg_all_filt_1[columns_to_keep_1]\n",
    "stats_measurements_simv_novg_all_filt_1.head()"
   ]
  },
  {
   "cell_type": "code",
   "execution_count": null,
   "metadata": {},
   "outputs": [],
   "source": [
    "# For non_parametrically distributed data use median, 25pc, 75pc\n",
    "\n",
    "columns_to_keep_2 = ['MVresp', 'MVspon',]\n",
    "\n",
    "stats_measurements_simv_novg_all_filt_2 = \\\n",
    "    stats_measurements_simv_novg_all.unstack()[['median', '25pc', '75pc']].swaplevel(axis = 1)\n",
    "stats_measurements_simv_novg_all_filt_2 = \\\n",
    "    stats_measurements_simv_novg_all_filt_2.sort_index(axis = 1, level = 0, ascending = False)\n",
    "stats_measurements_simv_novg_all_filt_2 = stats_measurements_simv_novg_all_filt_2[columns_to_keep_2]\n",
    "stats_measurements_simv_novg_all_filt_2.head()"
   ]
  },
  {
   "cell_type": "code",
   "execution_count": null,
   "metadata": {},
   "outputs": [],
   "source": [
    "# For parametrically distributed data use mean and SD\n",
    "\n",
    "columns_to_keep_3 = ['RR_set',]\n",
    "\n",
    "stats_settings_simv_novg_all_filt_3 = \\\n",
    "    stats_settings_simv_novg_all.unstack()[['mean', 'SD']].swaplevel(axis = 1)\n",
    "stats_settings_simv_novg_all_filt_3 = \\\n",
    "    stats_settings_simv_novg_all_filt_3.sort_index(axis = 1, level = 0, ascending = False)\n",
    "stats_settings_simv_novg_all_filt_3 = stats_settings_simv_novg_all_filt_3[columns_to_keep_3]\n",
    "stats_settings_simv_novg_all_filt_3.head()"
   ]
  },
  {
   "cell_type": "code",
   "execution_count": null,
   "metadata": {},
   "outputs": [],
   "source": [
    "# For non-parametrically distributed data use median and 25pc, 75pc\n",
    "columns_to_keep_4 = ['FiO2_set']\n",
    "\n",
    "stats_settings_simv_novg_all_filt_4 = \\\n",
    "    stats_settings_simv_novg_all.unstack()[['median', '25pc', '75pc']].swaplevel(axis = 1)\n",
    "stats_settings_simv_novg_all_filt_4 = \\\n",
    "    stats_settings_simv_novg_all_filt_4.sort_index(axis = 1, level = 0, ascending = False)\n",
    "stats_settings_simv_novg_all_filt_4 = stats_settings_simv_novg_all_filt_4[columns_to_keep_4]\n",
    "stats_settings_simv_novg_all_filt_4.head()"
   ]
  },
  {
   "cell_type": "code",
   "execution_count": null,
   "metadata": {},
   "outputs": [],
   "source": [
    "stats_simv_novg_selected = pd.concat([stats_measurements_simv_novg_all_filt_1, stats_measurements_simv_novg_all_filt_2,\n",
    "                                    stats_settings_simv_novg_all_filt_3, stats_settings_simv_novg_all_filt_4],\n",
    "                                   axis = 1)"
   ]
  },
  {
   "cell_type": "code",
   "execution_count": null,
   "metadata": {},
   "outputs": [],
   "source": [
    "stats_simv_novg_selected.head()"
   ]
  },
  {
   "cell_type": "markdown",
   "metadata": {},
   "source": [
    "### Export statistics to a multisheet Excel file and pickle archive"
   ]
  },
  {
   "cell_type": "code",
   "execution_count": null,
   "metadata": {},
   "outputs": [],
   "source": [
    "# Save statistics into Excel file\n",
    "writer = pd.ExcelWriter('%s/%s' % (DIR_WRITE, 'stats_measurements_simv_vg.xlsx'))\n",
    "for recording in simv_vg:\n",
    "    stats_measurements_simv_vg[recording].to_excel(writer, recording)\n",
    "writer.save()"
   ]
  },
  {
   "cell_type": "code",
   "execution_count": null,
   "metadata": {},
   "outputs": [],
   "source": [
    "# Save statistics into Excel file\n",
    "writer = pd.ExcelWriter('%s/%s' % (DIR_WRITE, 'stats_measurements_simv_novg.xlsx'))\n",
    "for recording in simv_novg:\n",
    "    stats_measurements_simv_novg[recording].to_excel(writer, recording)\n",
    "writer.save()"
   ]
  },
  {
   "cell_type": "code",
   "execution_count": null,
   "metadata": {},
   "outputs": [],
   "source": [
    "# Save statistics into Excel file\n",
    "writer = pd.ExcelWriter('%s/%s' % (DIR_WRITE, 'stats_settings_simv_vg.xlsx'))\n",
    "for recording in simv_vg:\n",
    "    stats_settings_simv_vg[recording].to_excel(writer, recording)\n",
    "writer.save()"
   ]
  },
  {
   "cell_type": "code",
   "execution_count": null,
   "metadata": {},
   "outputs": [],
   "source": [
    "# Save statistics into Excel file\n",
    "writer = pd.ExcelWriter('%s/%s' % (DIR_WRITE, 'stats_settings_simv_novg.xlsx'))\n",
    "for recording in simv_novg:\n",
    "    stats_settings_simv_novg[recording].to_excel(writer, recording)\n",
    "writer.save()"
   ]
  },
  {
   "cell_type": "code",
   "execution_count": null,
   "metadata": {},
   "outputs": [],
   "source": [
    "# Save statistics into Excel file\n",
    "writer = pd.ExcelWriter('%s/%s' % (DIR_WRITE, 'stats_simv_vg_all.xlsx'))\n",
    "stats_measurements_simv_vg_all.to_excel(writer, 'measurements')\n",
    "stats_measurements_simv_vg_all_2.to_excel(writer, 'measurements_2')\n",
    "stats_measurements_simv_vg_all_3.to_excel(writer, 'measurements_3')\n",
    "stats_settings_simv_vg_all.to_excel(writer, 'settings')\n",
    "stats_settings_simv_vg_all_2.to_excel(writer, 'settings_2')\n",
    "stats_settings_simv_vg_all_3.to_excel(writer, 'settings_3')\n",
    "stats_simv_vg_selected.to_excel(writer, 'selected')\n",
    "writer.save()"
   ]
  },
  {
   "cell_type": "code",
   "execution_count": null,
   "metadata": {},
   "outputs": [],
   "source": [
    "# Save statistics into Excel file\n",
    "writer = pd.ExcelWriter('%s/%s' % (DIR_WRITE, 'stats_simv_novg_all.xlsx'))\n",
    "stats_measurements_simv_novg_all.to_excel(writer, 'measurements')\n",
    "stats_measurements_simv_novg_all_2.to_excel(writer, 'measurements_2')\n",
    "stats_measurements_simv_novg_all_3.to_excel(writer, 'measurements_3')\n",
    "stats_settings_simv_novg_all.to_excel(writer, 'settings')\n",
    "stats_settings_simv_novg_all_2.to_excel(writer, 'settings_2')\n",
    "stats_settings_simv_novg_all_3.to_excel(writer, 'settings_3')\n",
    "stats_simv_novg_selected.to_excel(writer, 'selected')\n",
    "writer.save()"
   ]
  },
  {
   "cell_type": "markdown",
   "metadata": {},
   "source": [
    "### Inferential statistics of comparing ` group medians`  of `aggregate ventilator parameters` between  SIMV- VG and SIMV no VG groups\n",
    "\n",
    "The aggregation method for the individual recordings is mean and SD for parametrically distributed parameters and median and IQR for non-parametrically distributed parameters"
   ]
  },
  {
   "cell_type": "raw",
   "metadata": {},
   "source": [
    "Available parameters:\n",
    "\n",
    "'C20_C', 'Cdyn', 'FiO2', 'Flow_demand', 'Flow_exp', 'Flow_insp', 'Leak', 'MAP', 'MV', 'MV_kg', 'MVresp', 'PEEP', 'PIP', 'Pdiff', 'R', 'RR', 'Ti_PSV', 'Trigger', 'VTdiff', 'VTemand', 'VTemand_kg', 'VTemand_resp', 'VTemand_resp_kg', 'VTespon_pat', 'VTespon_pat_kg', 'VTimand', 'VTimand_kg'\n",
    "\n",
    "Available settings:\n",
    "\n",
    "'Apnea_time_set', 'FiO2_flush_set', 'FiO2_flush_time_set', 'FiO2_set', 'Flow_exp_set', 'Flow_insp_set', 'IE_E_set', 'IE_I_set', 'MV_lim_high_set', 'MV_lim_high_set_kg', 'MV_lim_low_set', 'MV_lim_low_set_kg', 'PEEP_set', 'PIP_lim_high_set', 'PIP_lim_low_set', 'PIP_set', 'PIP_set_PSV', 'P_man_breath_CPAP_HFO_set', 'P_man_breath_duoPAP_NCPAP_set', 'RR_backup_set', 'RR_set', 'Te_set', 'Term_criteria_PSV_set', 'Ti_set', 'Trigger_sens_set', 'VG_set', 'VG_set_kg'"
   ]
  },
  {
   "cell_type": "markdown",
   "metadata": {},
   "source": [
    "### PIP and VTemand"
   ]
  },
  {
   "cell_type": "markdown",
   "metadata": {},
   "source": [
    "##### PIP\n",
    "Parameterically distributed - use `means` of the individual recordings"
   ]
  },
  {
   "cell_type": "code",
   "execution_count": null,
   "metadata": {},
   "outputs": [],
   "source": [
    "PIP_simv_vg = stats_measurements_simv_vg_all.swaplevel(0,1).loc['PIP']\n",
    "PIP_simv_vg.head()"
   ]
  },
  {
   "cell_type": "code",
   "execution_count": null,
   "metadata": {},
   "outputs": [],
   "source": [
    "PIP_simv_novg = stats_measurements_simv_novg_all.swaplevel(0,1).loc['PIP']\n",
    "PIP_simv_novg.head()"
   ]
  },
  {
   "cell_type": "code",
   "execution_count": null,
   "metadata": {},
   "outputs": [],
   "source": [
    "PIP_simv_vg['mean'].describe()"
   ]
  },
  {
   "cell_type": "code",
   "execution_count": null,
   "metadata": {},
   "outputs": [],
   "source": [
    "PIP_simv_novg['mean'].describe()"
   ]
  },
  {
   "cell_type": "code",
   "execution_count": null,
   "metadata": {
    "scrolled": true
   },
   "outputs": [],
   "source": [
    "PIP_mw_stats = stats.mannwhitneyu(PIP_simv_vg['mean'], PIP_simv_novg['mean'])\n",
    "PIP_mw_stats"
   ]
  },
  {
   "cell_type": "code",
   "execution_count": null,
   "metadata": {
    "scrolled": false
   },
   "outputs": [],
   "source": [
    "fig, ax = plt.subplots(figsize = (4, 4))\n",
    "dpi = 300\n",
    "filetype = 'jpg'\n",
    "xticklabels = ['SIMV-VG', 'SIMV']\n",
    "\n",
    "# Define styling for each boxplot component\n",
    "medianprops = {'color': 'black', 'linewidth': 2}\n",
    "meanpointprops = {'marker':'D', 'markeredgecolor':'black', 'markerfacecolor':'black'}\n",
    "boxprops = {'color': 'black', 'linestyle': '-'}\n",
    "whiskerprops = {'color': 'black', 'linestyle': '-'}\n",
    "capprops = {'color': 'black', 'linestyle': '-'}\n",
    "flierprops = {'color': 'black', 'marker': '.'}\n",
    "\n",
    "plt.boxplot([PIP_simv_vg['mean'].dropna(), PIP_simv_novg['mean'].dropna()], widths = 0.5,\n",
    "        whis = 'range', showfliers = True,showmeans = True, \n",
    "        meanprops = meanpointprops, medianprops=medianprops, boxprops=boxprops, \n",
    "        whiskerprops=whiskerprops, capprops=capprops, flierprops = flierprops)\n",
    "\n",
    "ax.set_xticklabels(xticklabels)\n",
    "ax.set_ylim(0, 40)\n",
    "ax.set_xlabel('Ventilation mode', size = 14)\n",
    "ax.set_ylabel('PIP (cmH$_2$O)', size = 14)\n",
    "ax.tick_params(axis='both', which='major', labelsize=14)\n",
    "plt.grid(True)\n",
    "\n",
    "fig.savefig('%s/%s.%s' % (DIR_WRITE, 'SIMV_VG_noVG_PIP', filetype),\n",
    "    dpi = dpi, facecolor='w', edgecolor='w', orientation='portrait', papertype=None, format = filetype,\n",
    "    transparent=False, bbox_inches='tight', pad_inches=0.1,);"
   ]
  },
  {
   "cell_type": "markdown",
   "metadata": {},
   "source": [
    "##### VTemand\n",
    "Parameterically distributed - use `means` of the individual recordings"
   ]
  },
  {
   "cell_type": "code",
   "execution_count": null,
   "metadata": {},
   "outputs": [],
   "source": [
    "VTemand_simv_vg = stats_measurements_simv_vg_all.swaplevel(0,1).loc['VTemand_resp_kg']\n",
    "VTemand_simv_vg.head()"
   ]
  },
  {
   "cell_type": "code",
   "execution_count": null,
   "metadata": {},
   "outputs": [],
   "source": [
    "VTemand_simv_novg = stats_measurements_simv_novg_all.swaplevel(0,1).loc['VTemand_resp_kg']\n",
    "VTemand_simv_novg.head()"
   ]
  },
  {
   "cell_type": "code",
   "execution_count": null,
   "metadata": {},
   "outputs": [],
   "source": [
    "VTemand_simv_vg['mean'].describe()"
   ]
  },
  {
   "cell_type": "code",
   "execution_count": null,
   "metadata": {},
   "outputs": [],
   "source": [
    "VTemand_simv_novg['mean'].describe()"
   ]
  },
  {
   "cell_type": "code",
   "execution_count": null,
   "metadata": {
    "scrolled": true
   },
   "outputs": [],
   "source": [
    "VTemand_mw_stats = stats.mannwhitneyu(VTemand_simv_vg['mean'].dropna(), VTemand_simv_novg['mean'].dropna())\n",
    "VTemand_mw_stats"
   ]
  },
  {
   "cell_type": "code",
   "execution_count": null,
   "metadata": {
    "scrolled": true
   },
   "outputs": [],
   "source": [
    "fig, ax = plt.subplots(figsize = (4, 4))\n",
    "dpi = 300\n",
    "filetype = 'jpg'\n",
    "xticklabels = ['SIMV-VG', 'SIMV']\n",
    "\n",
    "# Define styling for each boxplot component\n",
    "medianprops = {'color': 'black', 'linewidth': 2}\n",
    "meanpointprops = {'marker':'D', 'markeredgecolor':'black', 'markerfacecolor':'black'}\n",
    "boxprops = {'color': 'black', 'linestyle': '-'}\n",
    "whiskerprops = {'color': 'black', 'linestyle': '-'}\n",
    "capprops = {'color': 'black', 'linestyle': '-'}\n",
    "flierprops = {'color': 'black', 'marker': '.'}\n",
    "\n",
    "plt.boxplot([VTemand_simv_vg['mean'].dropna(), VTemand_simv_novg['mean'].dropna()], widths = 0.5,\n",
    "        whis = 'range', showfliers = True,showmeans = True, \n",
    "        meanprops = meanpointprops, medianprops=medianprops, boxprops=boxprops, \n",
    "        whiskerprops=whiskerprops, capprops=capprops, flierprops = flierprops)\n",
    "\n",
    "ax.set_xticklabels(xticklabels)\n",
    "ax.set_ylim(0, 16)\n",
    "ax.set_xlabel('Ventilation mode', size = 14)\n",
    "ax.set_ylabel('VTemand (mL/kg)', size = 14)\n",
    "ax.tick_params(axis='both', which='major', labelsize=14)\n",
    "plt.grid(True)\n",
    "\n",
    "fig.savefig('%s/%s.%s' % (DIR_WRITE, 'SIMV_VG_noVG_VTemand_resp', filetype),\n",
    "    dpi = dpi, facecolor='w', edgecolor='w', orientation='portrait', papertype=None, format = filetype,\n",
    "    transparent=False, bbox_inches='tight', pad_inches=0.1,);"
   ]
  },
  {
   "cell_type": "markdown",
   "metadata": {},
   "source": [
    "### MVspon\n",
    "The infants' contribution (in %) to the total minute volume\n",
    "\n",
    "Non-parametrically distributed, used medians"
   ]
  },
  {
   "cell_type": "code",
   "execution_count": null,
   "metadata": {},
   "outputs": [],
   "source": [
    "MVspon_simv_vg = stats_measurements_simv_vg_all.swaplevel(0,1).loc['MVspon']\n",
    "\n",
    "MVspon_simv_novg = stats_measurements_simv_novg_all.swaplevel(0,1).loc['MVspon']"
   ]
  },
  {
   "cell_type": "code",
   "execution_count": null,
   "metadata": {},
   "outputs": [],
   "source": [
    "# Percentage of spontaneous breathing\n",
    "\n",
    "MVspon_simv_vg['median'].describe()"
   ]
  },
  {
   "cell_type": "code",
   "execution_count": null,
   "metadata": {},
   "outputs": [],
   "source": [
    "MVspon_simv_novg['median'].describe()"
   ]
  },
  {
   "cell_type": "code",
   "execution_count": null,
   "metadata": {},
   "outputs": [],
   "source": [
    "MVspon_mw_stats = stats.mannwhitneyu(MVspon_simv_vg['median'].dropna(), MVspon_simv_novg['median'].dropna())\n",
    "MVspon_mw_stats"
   ]
  },
  {
   "cell_type": "markdown",
   "metadata": {},
   "source": [
    "### MVresp\n",
    "The ventilator inflations' contribution (in %) to the total minute volume\n",
    "\n",
    "Non-parametrically distributed, used medians"
   ]
  },
  {
   "cell_type": "code",
   "execution_count": null,
   "metadata": {},
   "outputs": [],
   "source": [
    "MVresp_simv_vg = stats_measurements_simv_vg_all.swaplevel(0,1).loc['MVresp']"
   ]
  },
  {
   "cell_type": "code",
   "execution_count": null,
   "metadata": {},
   "outputs": [],
   "source": [
    "MVresp_simv_novg = stats_measurements_simv_novg_all.swaplevel(0,1).loc['MVresp']"
   ]
  },
  {
   "cell_type": "code",
   "execution_count": null,
   "metadata": {},
   "outputs": [],
   "source": [
    "# Percentage of spontaneous breathing\n",
    "\n",
    "MVresp_simv_vg['median'].describe()"
   ]
  },
  {
   "cell_type": "code",
   "execution_count": null,
   "metadata": {},
   "outputs": [],
   "source": [
    "MVresp_simv_novg['median'].describe()"
   ]
  },
  {
   "cell_type": "code",
   "execution_count": null,
   "metadata": {},
   "outputs": [],
   "source": [
    "MVresp_mw_stats = stats.mannwhitneyu(MVresp_simv_vg['median'].dropna(), MVresp_simv_novg['median'].dropna())\n",
    "MVresp_mw_stats"
   ]
  },
  {
   "cell_type": "markdown",
   "metadata": {},
   "source": [
    "### Other ventilator parameters (FiO2, MAP, RR, MV, PEEP)"
   ]
  },
  {
   "cell_type": "markdown",
   "metadata": {},
   "source": [
    "##### FiO2\n",
    "Non-parameterically distributed - use `medians` of the individual recordings"
   ]
  },
  {
   "cell_type": "code",
   "execution_count": null,
   "metadata": {},
   "outputs": [],
   "source": [
    "FiO2_simv_vg = stats_settings_simv_vg_all.swaplevel(0,1).loc['FiO2_set']\n",
    "FiO2_simv_novg = stats_settings_simv_novg_all.swaplevel(0,1).loc['FiO2_set']"
   ]
  },
  {
   "cell_type": "code",
   "execution_count": null,
   "metadata": {
    "scrolled": false
   },
   "outputs": [],
   "source": [
    "FiO2_simv_vg['median'].describe()"
   ]
  },
  {
   "cell_type": "code",
   "execution_count": null,
   "metadata": {},
   "outputs": [],
   "source": [
    "FiO2_simv_novg['median'].describe()"
   ]
  },
  {
   "cell_type": "code",
   "execution_count": null,
   "metadata": {},
   "outputs": [],
   "source": [
    "FiO2_mw_stats = stats.mannwhitneyu(FiO2_simv_vg['median'], FiO2_simv_novg['median'])\n",
    "FiO2_mw_stats"
   ]
  },
  {
   "cell_type": "markdown",
   "metadata": {},
   "source": [
    "##### MAP\n",
    "Parameterically distributed - use `means` of the individual recordings"
   ]
  },
  {
   "cell_type": "code",
   "execution_count": null,
   "metadata": {},
   "outputs": [],
   "source": [
    "MAP_simv_vg = stats_measurements_simv_vg_all.swaplevel(0,1).loc['MAP']\n",
    "MAP_simv_novg = stats_measurements_simv_novg_all.swaplevel(0,1).loc['MAP']"
   ]
  },
  {
   "cell_type": "code",
   "execution_count": null,
   "metadata": {
    "scrolled": false
   },
   "outputs": [],
   "source": [
    "MAP_simv_vg['mean'].describe()"
   ]
  },
  {
   "cell_type": "code",
   "execution_count": null,
   "metadata": {},
   "outputs": [],
   "source": [
    "MAP_simv_novg['mean'].describe()"
   ]
  },
  {
   "cell_type": "code",
   "execution_count": null,
   "metadata": {},
   "outputs": [],
   "source": [
    "MAP_mw_stats = stats.mannwhitneyu(MAP_simv_vg['mean'], MAP_simv_novg['mean'])\n",
    "MAP_mw_stats"
   ]
  },
  {
   "cell_type": "markdown",
   "metadata": {},
   "source": [
    "##### RR_set\n",
    "Parameterically distributed - use `means` of the individual recordings"
   ]
  },
  {
   "cell_type": "code",
   "execution_count": null,
   "metadata": {},
   "outputs": [],
   "source": [
    "RRset_simv_vg = stats_settings_simv_vg_all.swaplevel(0,1).loc['RR_set']\n",
    "RRset_simv_novg = stats_settings_simv_novg_all.swaplevel(0,1).loc['RR_set']"
   ]
  },
  {
   "cell_type": "code",
   "execution_count": null,
   "metadata": {
    "scrolled": false
   },
   "outputs": [],
   "source": [
    "RRset_simv_vg['mean'].describe()"
   ]
  },
  {
   "cell_type": "code",
   "execution_count": null,
   "metadata": {},
   "outputs": [],
   "source": [
    "RRset_simv_novg['mean'].describe()"
   ]
  },
  {
   "cell_type": "code",
   "execution_count": null,
   "metadata": {},
   "outputs": [],
   "source": [
    "RRset_mw_stats = stats.mannwhitneyu(RRset_simv_vg['mean'], RRset_simv_novg['mean'])\n",
    "RRset_mw_stats"
   ]
  },
  {
   "cell_type": "markdown",
   "metadata": {},
   "source": [
    "##### MV\n",
    "Parameterically distributed - use `means` of the individual recordings"
   ]
  },
  {
   "cell_type": "code",
   "execution_count": null,
   "metadata": {},
   "outputs": [],
   "source": [
    "MV_simv_vg = stats_measurements_simv_vg_all.swaplevel(0,1).loc['MV_kg']\n",
    "MV_simv_novg = stats_measurements_simv_novg_all.swaplevel(0,1).loc['MV_kg']"
   ]
  },
  {
   "cell_type": "code",
   "execution_count": null,
   "metadata": {
    "scrolled": false
   },
   "outputs": [],
   "source": [
    "MV_simv_vg['mean'].describe()"
   ]
  },
  {
   "cell_type": "code",
   "execution_count": null,
   "metadata": {},
   "outputs": [],
   "source": [
    "MV_simv_novg['mean'].describe()"
   ]
  },
  {
   "cell_type": "code",
   "execution_count": null,
   "metadata": {},
   "outputs": [],
   "source": [
    "MV_mw_stats = stats.mannwhitneyu(MV_simv_vg['mean'], MV_simv_novg['mean'])\n",
    "MV_mw_stats"
   ]
  },
  {
   "cell_type": "markdown",
   "metadata": {},
   "source": [
    "##### PEEP\n",
    "Parameterically distributed - use `means` of the individual recordings"
   ]
  },
  {
   "cell_type": "code",
   "execution_count": null,
   "metadata": {},
   "outputs": [],
   "source": [
    "PEEP_simv_vg = stats_measurements_simv_vg_all.swaplevel(0,1).loc['PEEP']\n",
    "PEEP_simv_novg = stats_measurements_simv_novg_all.swaplevel(0,1).loc['PEEP']"
   ]
  },
  {
   "cell_type": "code",
   "execution_count": null,
   "metadata": {
    "scrolled": false
   },
   "outputs": [],
   "source": [
    "PEEP_simv_vg['mean'].describe()"
   ]
  },
  {
   "cell_type": "code",
   "execution_count": null,
   "metadata": {},
   "outputs": [],
   "source": [
    "PEEP_simv_novg['mean'].describe()"
   ]
  },
  {
   "cell_type": "code",
   "execution_count": null,
   "metadata": {},
   "outputs": [],
   "source": [
    "PEEP_mw_stats = stats.mannwhitneyu(PEEP_simv_vg['mean'], PEEP_simv_novg['mean'])\n",
    "PEEP_mw_stats"
   ]
  },
  {
   "cell_type": "markdown",
   "metadata": {},
   "source": [
    "### Inferential statistics of comparing ` group medians`  avereage (mean or median as appropriate) ventilator parameters` between  VG and no VG groups"
   ]
  },
  {
   "cell_type": "code",
   "execution_count": null,
   "metadata": {},
   "outputs": [],
   "source": [
    "def iqr(ser):\n",
    "    return round(ser.quantile(0.25), 2), round(ser.quantile(0.75), 2)  "
   ]
  },
  {
   "cell_type": "code",
   "execution_count": null,
   "metadata": {},
   "outputs": [],
   "source": [
    "def minmax(ser):\n",
    "    return round(ser.min(), 2), round(ser.max(), 2)"
   ]
  },
  {
   "cell_type": "code",
   "execution_count": null,
   "metadata": {},
   "outputs": [],
   "source": [
    "pars_1 = ['PIP', 'VTemand_resp_kg',  'MAP',  'MV_kg', ] # measurements and mean as aggregate\n",
    "pars_2 = ['Leak', ] # measurements and median as aggregate\n",
    "pars_3 = ['RR_set', 'PEEP_set'] # settings and mean as aggregate\n",
    "pars_4 = ['FiO2_set',] # settings and median as aggregate\n",
    "\n",
    "group_median_vg = []\n",
    "group_iqr_vg = []\n",
    "group_range_vg = []\n",
    "group_median_novg = []\n",
    "group_iqr_novg = []\n",
    "group_range_novg = []\n",
    "mw_test = []\n",
    "\n",
    "for par in pars_1:\n",
    "    vg_mean = stats_measurements_simv_vg_all.swaplevel(0,1).loc[par]['mean']\n",
    "    group_median_vg.append(vg_mean.median())\n",
    "    group_iqr_vg.append(iqr(vg_mean))\n",
    "    group_range_vg.append(minmax(vg_mean))\n",
    "    \n",
    "    novg_mean = stats_measurements_simv_novg_all.swaplevel(0,1).loc[par]['mean']\n",
    "    group_median_novg.append(novg_mean.median())\n",
    "    group_iqr_novg.append(iqr(novg_mean))\n",
    "    group_range_novg.append(minmax(novg_mean))\n",
    "    \n",
    "    mw_test.append(stats.mannwhitneyu(vg_mean.dropna(), novg_mean.dropna())[1])\n",
    "    \n",
    "for par in pars_2:\n",
    "    vg_median = stats_measurements_simv_vg_all.swaplevel(0,1).loc[par]['median']\n",
    "    group_median_vg.append(vg_median.median())\n",
    "    group_iqr_vg.append(iqr(vg_median))\n",
    "    group_range_vg.append(minmax(vg_median))\n",
    "    \n",
    "    novg_median = stats_measurements_simv_novg_all.swaplevel(0,1).loc[par]['median']\n",
    "    group_median_novg.append(novg_median.median())\n",
    "    group_iqr_novg.append(iqr(novg_median))\n",
    "    group_range_novg.append(minmax(novg_median))\n",
    "    \n",
    "    mw_test.append(stats.mannwhitneyu(vg_median.dropna(), novg_median.dropna())[1])\n",
    "    \n",
    "for par in pars_3:\n",
    "    vg_mean = stats_settings_simv_vg_all.swaplevel(0,1).loc[par]['mean']\n",
    "    group_median_vg.append(vg_mean.median())\n",
    "    group_iqr_vg.append(iqr(vg_mean))\n",
    "    group_range_vg.append(minmax(vg_mean))\n",
    "    \n",
    "    novg_mean = stats_settings_simv_novg_all.swaplevel(0,1).loc[par]['mean']\n",
    "    group_median_novg.append(novg_mean.median())\n",
    "    group_iqr_novg.append(iqr(novg_mean))\n",
    "    group_range_novg.append(minmax(novg_mean))\n",
    "    \n",
    "    mw_test.append(stats.mannwhitneyu(vg_mean.dropna(), novg_mean.dropna())[1])\n",
    "      \n",
    "for par in pars_4:\n",
    "    vg_median = stats_settings_simv_vg_all.swaplevel(0,1).loc[par]['median']\n",
    "    group_median_vg.append(vg_median.median())\n",
    "    group_iqr_vg.append(iqr(vg_median))\n",
    "    group_range_vg.append(minmax(vg_median))\n",
    "    \n",
    "    novg_median = stats_settings_simv_novg_all.swaplevel(0,1).loc[par]['median']\n",
    "    group_median_novg.append(novg_median.median())\n",
    "    group_iqr_novg.append(iqr(novg_median))\n",
    "    group_range_novg.append(minmax(novg_median))\n",
    "    \n",
    "    mw_test.append(stats.mannwhitneyu(vg_median.dropna(), novg_median.dropna())[1])\n",
    "    \n",
    "pars = pars_1 + pars_2 + pars_3 + pars_4\n",
    "\n",
    "VG_stats = round(DataFrame([group_median_vg, group_median_novg, group_iqr_vg, \n",
    "                            group_iqr_novg, group_range_vg, group_range_novg]).T, 2)\n",
    "\n",
    "VG_stats.columns =      ['VG (group median)', 'noVG (group median)',\n",
    "                         'VG (group iqr)', 'noVG (group iqr)',\n",
    "                         'VG (group range)', 'noVG (group range)']\n",
    "\n",
    "VG_stats['p value'] = mw_test\n",
    "\n",
    "VG_stats.index = pars\n",
    "VG_stats.sort_values(by = 'p value', inplace = True)"
   ]
  },
  {
   "cell_type": "code",
   "execution_count": null,
   "metadata": {},
   "outputs": [],
   "source": [
    "VG_stats"
   ]
  },
  {
   "cell_type": "markdown",
   "metadata": {},
   "source": [
    "### Correction for multiple testing using false discovery rate (Benjamini-Hochberg)\n",
    "\n",
    "One good technique for controlling the false discovery rate was briefly mentioned by Simes (1986) and developed in detail by Benjamini and Hochberg (1995). Put the individual P values in order, from smallest to largest. The smallest P value has a rank of i=1, then next smallest has i=2, etc. Compare each individual P value to its Benjamini- Hochberg critical value, (i/m)Q, where i is the rank, m is the total number of tests, and Q is the false discovery rate you choose. The largest P value that has P<(i/m)Q is significant, and all of the P values smaller than it are also significant, even the ones that aren’t less than their Benjamini-Hochberg critical value."
   ]
  },
  {
   "cell_type": "code",
   "execution_count": null,
   "metadata": {},
   "outputs": [],
   "source": [
    "def fdr(ser, rate = 0.05):\n",
    "    '''\n",
    "    \n",
    "    '''\n",
    "    result = []\n",
    "    m = len(ser)\n",
    "    ser_sorted = ser.sort_values()\n",
    "    for i in range(m):\n",
    "        result.append(   round(((i+1) / m * rate), 3))\n",
    "\n",
    "    return result"
   ]
  },
  {
   "cell_type": "code",
   "execution_count": null,
   "metadata": {},
   "outputs": [],
   "source": [
    "p_values = VG_stats[['p value']].copy()\n",
    "p_values.columns = ['p value']"
   ]
  },
  {
   "cell_type": "code",
   "execution_count": null,
   "metadata": {},
   "outputs": [],
   "source": [
    "p_values"
   ]
  },
  {
   "cell_type": "code",
   "execution_count": null,
   "metadata": {},
   "outputs": [],
   "source": [
    "p_values_fdr = fdr(p_values['p value'])\n",
    "p_values['fdr'] =  p_values_fdr\n",
    "p_values['corrected p'] = p_values['p value'] * (0.05 / p_values['fdr'])\n",
    "p_values.drop('p value', axis = 1, inplace = True)"
   ]
  },
  {
   "cell_type": "code",
   "execution_count": null,
   "metadata": {},
   "outputs": [],
   "source": [
    "VG_stats_corrected = VG_stats.join(p_values)\n",
    "VG_stats_corrected"
   ]
  },
  {
   "cell_type": "code",
   "execution_count": null,
   "metadata": {},
   "outputs": [],
   "source": [
    "writer = pd.ExcelWriter('%s/%s' % (DIR_WRITE, 'inferential_stats.xlsx'))\n",
    "VG_stats.to_excel(writer, 'VG_stats')\n",
    "VG_stats_corrected.to_excel(writer, 'VG_stats_corrected')\n",
    "writer.save()"
   ]
  },
  {
   "cell_type": "markdown",
   "metadata": {},
   "source": [
    "### Descriptive stats on VTset, VTdiff and Pdiff in SIMV-VG recordings"
   ]
  },
  {
   "cell_type": "markdown",
   "metadata": {},
   "source": [
    "##### VTset "
   ]
  },
  {
   "cell_type": "code",
   "execution_count": null,
   "metadata": {},
   "outputs": [],
   "source": [
    "VTset_simv_vg = stats_settings_simv_vg_all.swaplevel(0,1).loc['VG_set_kg']"
   ]
  },
  {
   "cell_type": "code",
   "execution_count": null,
   "metadata": {},
   "outputs": [],
   "source": [
    "VTset_simv_vg['mean'].describe()"
   ]
  },
  {
   "cell_type": "markdown",
   "metadata": {},
   "source": [
    "#### VTdiff = VTemand_kg - VG_set_kg"
   ]
  },
  {
   "cell_type": "code",
   "execution_count": null,
   "metadata": {},
   "outputs": [],
   "source": [
    "VTdiff_simv_vg = stats_measurements_simv_vg_all.swaplevel(0,1).loc['VTdiff']"
   ]
  },
  {
   "cell_type": "code",
   "execution_count": null,
   "metadata": {
    "scrolled": true
   },
   "outputs": [],
   "source": [
    "VTdiff_simv_vg;"
   ]
  },
  {
   "cell_type": "code",
   "execution_count": null,
   "metadata": {
    "scrolled": false
   },
   "outputs": [],
   "source": [
    "VTdiff_simv_vg['mean'].describe()"
   ]
  },
  {
   "cell_type": "code",
   "execution_count": null,
   "metadata": {},
   "outputs": [],
   "source": [
    "VTdiff_simv_vg['mean']"
   ]
  },
  {
   "cell_type": "code",
   "execution_count": null,
   "metadata": {},
   "outputs": [],
   "source": [
    "VTdiff_simv_vg['mean'][VTdiff_simv_vg['mean'] > 1 ]"
   ]
  },
  {
   "cell_type": "code",
   "execution_count": null,
   "metadata": {},
   "outputs": [],
   "source": [
    "fig, ax = plt.subplots(figsize = (3, 4))\n",
    "dpi = 300\n",
    "filetype = 'jpg'\n",
    "xticklabels = ['SIMV-VG', ]\n",
    "\n",
    "# Define styling for each boxplot component\n",
    "medianprops = {'color': 'black', 'linewidth': 2}\n",
    "meanpointprops = {'marker':'D', 'markeredgecolor':'black', 'markerfacecolor':'black'}\n",
    "boxprops = {'color': 'black', 'linestyle': '-'}\n",
    "whiskerprops = {'color': 'black', 'linestyle': '-'}\n",
    "capprops = {'color': 'black', 'linestyle': '-'}\n",
    "flierprops = {'color': 'black', 'marker': '.'}\n",
    "\n",
    "plt.boxplot([VTdiff_simv_vg['mean'].dropna()], widths = 0.5,\n",
    "        whis = 'range', showfliers = True,showmeans = True, \n",
    "        meanprops = meanpointprops, medianprops=medianprops, boxprops=boxprops, \n",
    "        whiskerprops=whiskerprops, capprops=capprops, flierprops = flierprops)\n",
    "\n",
    "ax.set_xticklabels(xticklabels)\n",
    "ax.set_ylim(-2, 6)\n",
    "ax.set_xlabel('Ventilation mode', size = 14)\n",
    "ax.set_ylabel('VTdiff (mL/kg)', size = 14)\n",
    "ax.tick_params(axis='both', which='major', labelsize=14)\n",
    "plt.grid(True)\n",
    "\n",
    "fig.savefig('%s/%s.%s' % (DIR_WRITE, 'SIMV_VG_noVG_VTdiff', filetype),\n",
    "    dpi = dpi, facecolor='w', edgecolor='w', orientation='portrait', papertype=None, format = filetype,\n",
    "    transparent=False, bbox_inches='tight', pad_inches=0.1);"
   ]
  },
  {
   "cell_type": "markdown",
   "metadata": {},
   "source": [
    "#### Pdiff = Pmax - PIP"
   ]
  },
  {
   "cell_type": "code",
   "execution_count": null,
   "metadata": {},
   "outputs": [],
   "source": [
    "Pdiff_simv_vg = stats_measurements_simv_vg_all.swaplevel(0,1).loc['Pdiff']"
   ]
  },
  {
   "cell_type": "code",
   "execution_count": null,
   "metadata": {
    "scrolled": false
   },
   "outputs": [],
   "source": [
    "Pdiff_simv_vg;"
   ]
  },
  {
   "cell_type": "code",
   "execution_count": null,
   "metadata": {
    "scrolled": true
   },
   "outputs": [],
   "source": [
    "Pdiff_simv_vg['mean'].describe()"
   ]
  },
  {
   "cell_type": "code",
   "execution_count": null,
   "metadata": {},
   "outputs": [],
   "source": [
    "Pdiff_simv_vg = stats_measurements_simv_vg_all.swaplevel(0,1).loc['Pdiff']"
   ]
  },
  {
   "cell_type": "code",
   "execution_count": null,
   "metadata": {
    "scrolled": false
   },
   "outputs": [],
   "source": [
    "Pdiff_simv_vg;"
   ]
  },
  {
   "cell_type": "code",
   "execution_count": null,
   "metadata": {
    "scrolled": false
   },
   "outputs": [],
   "source": [
    "Pdiff_simv_vg['mean'].describe()"
   ]
  },
  {
   "cell_type": "code",
   "execution_count": null,
   "metadata": {},
   "outputs": [],
   "source": [
    "Pdiff_simv_vg['mean'][Pdiff_simv_vg['mean'] <5 ]"
   ]
  },
  {
   "cell_type": "code",
   "execution_count": null,
   "metadata": {},
   "outputs": [],
   "source": [
    "fig, ax = plt.subplots(figsize = (3, 4))\n",
    "dpi = 300\n",
    "filetype = 'jpg'\n",
    "xticklabels = ['SIMV-VG', ]\n",
    "\n",
    "# Define styling for each boxplot component\n",
    "medianprops = {'color': 'black', 'linewidth': 2}\n",
    "meanpointprops = {'marker':'D', 'markeredgecolor':'black', 'markerfacecolor':'black'}\n",
    "boxprops = {'color': 'black', 'linestyle': '-'}\n",
    "whiskerprops = {'color': 'black', 'linestyle': '-'}\n",
    "capprops = {'color': 'black', 'linestyle': '-'}\n",
    "flierprops = {'color': 'black', 'marker': '.'}\n",
    "\n",
    "plt.boxplot([Pdiff_simv_vg['mean'].dropna()], widths = 0.5,\n",
    "        whis = 'range', showfliers = True,showmeans = True, \n",
    "        meanprops = meanpointprops, medianprops=medianprops, boxprops=boxprops, \n",
    "        whiskerprops=whiskerprops, capprops=capprops, flierprops = flierprops)\n",
    "\n",
    "ax.set_xticklabels(xticklabels)\n",
    "ax.set_ylim(-5, 30)\n",
    "ax.set_xlabel('Ventilation mode', size = 14)\n",
    "ax.set_ylabel('Pdiff (cmH$_2$O)', size = 14)\n",
    "ax.tick_params(axis='both', which='major', labelsize=14)\n",
    "plt.grid(True)\n",
    "\n",
    "fig.savefig('%s/%s.%s' % (DIR_WRITE, 'SIMV_VG_noVG_Pdiff', filetype),\n",
    "    dpi = dpi, facecolor='w', edgecolor='w', orientation='portrait', papertype=None, format = filetype,\n",
    "    transparent=False, bbox_inches='tight', pad_inches=0.1);"
   ]
  },
  {
   "cell_type": "markdown",
   "metadata": {},
   "source": [
    "### Correlation between MVresp and PIP"
   ]
  },
  {
   "cell_type": "code",
   "execution_count": null,
   "metadata": {},
   "outputs": [],
   "source": [
    "MVresp_simv_vg;"
   ]
  },
  {
   "cell_type": "code",
   "execution_count": null,
   "metadata": {},
   "outputs": [],
   "source": [
    "stats.pearsonr(100 - MVresp_simv_vg['mean'], PIP_simv_vg['mean'])"
   ]
  },
  {
   "cell_type": "code",
   "execution_count": null,
   "metadata": {},
   "outputs": [],
   "source": [
    "def corr_pearson(x, y):\n",
    "\n",
    "    '''\n",
    "    input: two numeric arrays of the same size\n",
    "\n",
    "    returns: a tuple of \n",
    "    1. Pearson's correlation coefficient: r\n",
    "    2. low and high 95% confidence intervals or r (two values)\n",
    "    3. Coefficient of determination: r^2\n",
    "    4. p-value of correlation\n",
    "\n",
    "    '''\n",
    "    \n",
    "    assert len(x) == len(y)\n",
    "    \n",
    "    r, p = stats.pearsonr(x, y)\n",
    "    f = 0.5*np.log((1+r)/(1-r))\n",
    "    se = 1/np.sqrt(len(x)-3)\n",
    "    ucl = f + 1.96 * se\n",
    "    lcl = f - 1.96 * se\n",
    "\n",
    "    lcl = (np.exp(2*lcl) - 1) / (np.exp(2*lcl) + 1)\n",
    "    ucl = (np.exp(2*ucl) - 1) / (np.exp(2*ucl) + 1)\n",
    "\n",
    "    return r , lcl, ucl , r*r, p"
   ]
  },
  {
   "cell_type": "code",
   "execution_count": null,
   "metadata": {},
   "outputs": [],
   "source": [
    "dpi = 300\n",
    "filetype = 'jpg'\n",
    "\n",
    "fig = plt.figure()\n",
    "fig.set_size_inches(6, 6)\n",
    "fig.subplots_adjust(left=None, bottom=None, right=None, top=None, wspace=None, hspace=0.7)\n",
    "ax = fig.add_subplot(1,1,1);\n",
    "\n",
    "x = 100 - MVresp_simv_vg['mean']\n",
    "y = PIP_simv_vg['mean']\n",
    "\n",
    "plt.scatter(x, y, color = 'black', marker = 'o', s = 30, )\n",
    "\n",
    "plt.xlim([-10, 100])\n",
    "plt.ylim([0, 40])\n",
    "plt.xlabel('Proportion of spontaneous breathing (%)', fontsize  = 14)\n",
    "plt.ylabel('PIP (cmH$_2$O)', fontsize  = 14)\n",
    "plt.tick_params(axis = 'both', labelsize = 14)\n",
    "plt.title('', fontsize = 14)\n",
    "plt.grid(True)\n",
    "ax.legend().set_visible(False)\n",
    "\n",
    "# Polynomial Coefficients\n",
    "coeffs = np.polyfit(x.values.astype('float'), \n",
    "                    y.values.astype('float'), deg = 1)\n",
    "result = coeffs.tolist()\n",
    "result\n",
    "\n",
    "# Fit a trendline\n",
    "l = np.poly1d(coeffs)\n",
    "plt.plot(x,l(x),'r--')\n",
    "\n",
    "# Calculate pearson's correlation coefficient with confidence intervals, coefficiet of determination and p value\n",
    "r , lcl, ucl , r2, p = corr_pearson(x, y)\n",
    "\n",
    "# print the equation on the graph area \n",
    "text = 'y=%.2fx + %.2f\\nr=%.2f (%.2f , %.2f)\\np=%.4f' % (result[0], result[1], r, lcl, ucl, p)\n",
    "plt.text(45 , 33 ,  text, color = 'black', style='normal', fontsize = 14, \n",
    "         bbox={'facecolor':'white', 'edgecolor':'black', 'alpha':1, 'pad':10})\n",
    "\n",
    "fig.savefig('%s/%s.%s' % (DIR_WRITE, 'MVspon_pc_PIP',  filetype), \n",
    "            dpi = dpi, facecolor='w', edgecolor='w',\n",
    "            orientation='portrait', papertype=None, format = filetype,\n",
    "            transparent=False, bbox_inches='tight', pad_inches=0.1);"
   ]
  },
  {
   "cell_type": "code",
   "execution_count": null,
   "metadata": {},
   "outputs": [],
   "source": [
    "dpi = 300\n",
    "filetype = 'jpg'\n",
    "\n",
    "fig = plt.figure()\n",
    "fig.set_size_inches(6, 6)\n",
    "fig.subplots_adjust(left=None, bottom=None, right=None, top=None, wspace=None, hspace=0.7)\n",
    "ax = fig.add_subplot(1,1,1);\n",
    "\n",
    "x = 100 - MVresp_simv_vg['mean']\n",
    "y = VTemand_simv_vg['mean']\n",
    "\n",
    "plt.scatter(x, y, color = 'black', marker = 'o', s = 30, )\n",
    "\n",
    "plt.xlim([-10, 100])\n",
    "plt.ylim([0, 12])\n",
    "plt.xlabel('Proportion of spontaneous breathing (%)', fontsize  = 14)\n",
    "plt.ylabel('VTemand (mL/kg)', fontsize  = 14)\n",
    "plt.tick_params(axis = 'both', labelsize = 14)\n",
    "plt.title('', fontsize = 14)\n",
    "plt.grid(True)\n",
    "ax.legend().set_visible(False)\n",
    "\n",
    "fig.savefig('%s/%s.%s' % (DIR_WRITE, 'MVspon_pc_VTemand',  filetype), \n",
    "            dpi = dpi, facecolor='w', edgecolor='w',\n",
    "            orientation='portrait', papertype=None, format = filetype,\n",
    "            transparent=False, bbox_inches='tight', pad_inches=0.1,);"
   ]
  },
  {
   "cell_type": "code",
   "execution_count": null,
   "metadata": {},
   "outputs": [],
   "source": [
    "dpi = 300\n",
    "filetype = 'jpg'\n",
    "\n",
    "fig = plt.figure()\n",
    "fig.set_size_inches(6, 6)\n",
    "fig.subplots_adjust(left=None, bottom=None, right=None, top=None, wspace=None, hspace=0.7)\n",
    "ax = fig.add_subplot(1,1,1);\n",
    "\n",
    "x = 100 - MVresp_simv_vg['mean']\n",
    "y = VTdiff_simv_vg['mean']\n",
    "\n",
    "plt.scatter(x, y, color = 'black', marker = 'o', s = 30, )\n",
    "\n",
    "plt.xlim([-10, 100])\n",
    "plt.ylim([-1, 7])\n",
    "plt.xlabel('Proportion of spontaneous breathing (%)', fontsize  = 14)\n",
    "plt.ylabel('VTdiff (mL/kg)', fontsize  = 14)\n",
    "plt.tick_params(axis = 'both', labelsize = 14)\n",
    "plt.title('', fontsize = 14)\n",
    "plt.grid(True)\n",
    "ax.legend().set_visible(False)\n",
    "\n",
    "# Polynomial Coefficients\n",
    "coeffs = np.polyfit(x.values.astype('float'), \n",
    "                    y.values.astype('float'), deg = 1)\n",
    "result = coeffs.tolist()\n",
    "result\n",
    "\n",
    "# Fit a trendline\n",
    "l = np.poly1d(coeffs)\n",
    "plt.plot(x,l(x),'r--')\n",
    "\n",
    "# Calculate pearson's correlation coefficient with confidence intervals, coefficiet of determination and p value\n",
    "r , lcl, ucl , r2, p = corr_pearson(x, y)\n",
    "\n",
    "# print the equation on the graph area \n",
    "text = 'y=%.2fx + %.2f\\nr=%.2f (%.2f , %.2f)\\np=%.4f' % (result[0], result[1], r, lcl, ucl, p)\n",
    "plt.text(45 , 5.5 ,  text, color = 'black', style='normal', fontsize = 14, \n",
    "         bbox={'facecolor':'white', 'edgecolor':'black', 'alpha':1, 'pad':10})\n",
    "\n",
    "fig.savefig('%s/%s.%s' % (DIR_WRITE, 'MVspon_pc_VTdiff',  filetype), \n",
    "            dpi = dpi, facecolor='w', edgecolor='w',\n",
    "            orientation='portrait', papertype=None, format = filetype,\n",
    "            transparent=False, bbox_inches='tight', pad_inches=0.1, );"
   ]
  },
  {
   "cell_type": "code",
   "execution_count": null,
   "metadata": {},
   "outputs": [],
   "source": [
    "dpi = 300\n",
    "filetype = 'jpg'\n",
    "\n",
    "fig = plt.figure()\n",
    "fig.set_size_inches(6, 6)\n",
    "fig.subplots_adjust(left=None, bottom=None, right=None, top=None, wspace=None, hspace=0.7)\n",
    "ax = fig.add_subplot(1,1,1);\n",
    "\n",
    "x = PIP_simv_vg['mean']\n",
    "y = VTemand_simv_vg['mean']\n",
    "\n",
    "plt.scatter(x, y, color = 'black', marker = 'o', s = 30, )\n",
    "\n",
    "plt.xlim([0, 50])\n",
    "plt.ylim([0, 10])\n",
    "plt.xlabel('PIP (mbar)', fontsize = 14)\n",
    "plt.ylabel('VTemand (mL/kg)', fontsize  = 14)\n",
    "plt.tick_params(axis = 'both', labelsize = 14)\n",
    "plt.title('', fontsize = 14)\n",
    "plt.grid(True)\n",
    "ax.legend().set_visible(False)\n",
    "\n",
    "# Polynomial Coefficients\n",
    "coeffs = np.polyfit(x.values.astype('float'), \n",
    "                    y.values.astype('float'), deg = 1)\n",
    "result = coeffs.tolist()\n",
    "result\n",
    "\n",
    "# Fit a trendline\n",
    "l = np.poly1d(coeffs)\n",
    "plt.plot(x,l(x),'r--')\n",
    "\n",
    "# Calculate pearson's correlation coefficient with confidence intervals, coefficiet of determination and p value\n",
    "r , lcl, ucl , r2, p = corr_pearson(x, y)\n",
    "\n",
    "# print the equation on the graph area \n",
    "text = 'y=%.2fx + %.2f\\nr=%.2f (%.2f , %.2f)\\np=%.4f' % (result[0], result[1], r, lcl, ucl, p)\n",
    "plt.text(25 , 8 ,  text, color = 'black', style='normal', fontsize = 14, \n",
    "         bbox={'facecolor':'white', 'edgecolor':'black', 'alpha':1, 'pad':10})\n",
    "\n",
    "fig.savefig('%s/%s.%s' % (DIR_WRITE, 'PIP_VTemand',  filetype), \n",
    "            dpi = dpi, facecolor='w', edgecolor='w',\n",
    "            orientation='portrait', papertype=None, format = filetype,\n",
    "            transparent=False, bbox_inches='tight', pad_inches=0.1, );"
   ]
  },
  {
   "cell_type": "markdown",
   "metadata": {},
   "source": [
    "### Compare those with >50% MVspon_pc and those with <50% MVspon_pcm"
   ]
  },
  {
   "cell_type": "code",
   "execution_count": null,
   "metadata": {},
   "outputs": [],
   "source": [
    "MVspon_simv_vg['mean'].describe()"
   ]
  },
  {
   "cell_type": "code",
   "execution_count": null,
   "metadata": {},
   "outputs": [],
   "source": [
    "MVspon_over_50_pc = sorted(MVspon_simv_vg[MVspon_simv_vg['mean'] >50].index)\n",
    "\n",
    "MVspon_over_50_pc"
   ]
  },
  {
   "cell_type": "code",
   "execution_count": null,
   "metadata": {},
   "outputs": [],
   "source": [
    "MVspon_under_50_pc = sorted(MVspon_simv_vg[MVspon_simv_vg['mean'] <= 50].index)\n",
    "\n",
    "MVspon_under_50_pc"
   ]
  },
  {
   "cell_type": "code",
   "execution_count": null,
   "metadata": {},
   "outputs": [],
   "source": [
    "MVspon_over_50_pc_frame = stats_measurements_simv_vg_all.unstack(level = 1).reindex(MVspon_over_50_pc)\n",
    "MVspon_under_50_pc_frame = stats_measurements_simv_vg_all.unstack(level = 1).reindex(MVspon_under_50_pc)"
   ]
  },
  {
   "cell_type": "code",
   "execution_count": null,
   "metadata": {},
   "outputs": [],
   "source": [
    "MVspon_over_50_pc_frame['mean']['PIP'].describe()"
   ]
  },
  {
   "cell_type": "code",
   "execution_count": null,
   "metadata": {},
   "outputs": [],
   "source": [
    "MVspon_under_50_pc_frame['mean']['PIP'].describe()"
   ]
  },
  {
   "cell_type": "code",
   "execution_count": null,
   "metadata": {},
   "outputs": [],
   "source": [
    "MVspon_50_pc_mw_stats = stats.mannwhitneyu(MVspon_over_50_pc_frame['mean']['PIP'], \n",
    "                                           MVspon_under_50_pc_frame['mean']['PIP'])\n",
    "MVspon_50_pc_mw_stats"
   ]
  },
  {
   "cell_type": "markdown",
   "metadata": {},
   "source": [
    "### Analyse separately those recordings where the PIP was <10 cmH$_2$O "
   ]
  },
  {
   "cell_type": "code",
   "execution_count": null,
   "metadata": {},
   "outputs": [],
   "source": [
    "low_PIP = sorted(PIP_simv_vg[PIP_simv_vg['mean'] < 10 ].index)"
   ]
  },
  {
   "cell_type": "code",
   "execution_count": null,
   "metadata": {},
   "outputs": [],
   "source": [
    "not_low_PIP = sorted(PIP_simv_vg[PIP_simv_vg['mean'] >= 10 ].index)"
   ]
  },
  {
   "cell_type": "code",
   "execution_count": null,
   "metadata": {},
   "outputs": [],
   "source": [
    "len(low_PIP), len(not_low_PIP)"
   ]
  },
  {
   "cell_type": "code",
   "execution_count": null,
   "metadata": {},
   "outputs": [],
   "source": [
    "low_PIP"
   ]
  },
  {
   "cell_type": "code",
   "execution_count": null,
   "metadata": {},
   "outputs": [],
   "source": [
    "not_low_PIP"
   ]
  },
  {
   "cell_type": "code",
   "execution_count": null,
   "metadata": {},
   "outputs": [],
   "source": [
    "low_PIP_stats_frame = stats_measurements_simv_vg_all.unstack(level = 1).reindex(low_PIP)\n",
    "not_low_PIP_stats_frame = stats_measurements_simv_vg_all.unstack(level = 1).reindex(not_low_PIP)"
   ]
  },
  {
   "cell_type": "code",
   "execution_count": null,
   "metadata": {},
   "outputs": [],
   "source": [
    "low_PIP_stats_frame"
   ]
  },
  {
   "cell_type": "code",
   "execution_count": null,
   "metadata": {},
   "outputs": [],
   "source": [
    "not_low_PIP_stats_frame"
   ]
  },
  {
   "cell_type": "code",
   "execution_count": null,
   "metadata": {},
   "outputs": [],
   "source": [
    "low_PIP_clinical_1 = clin_df_HIE.reindex(low_PIP)\n",
    "low_PIP_clinical_2 = clin_df_HIE_2.reindex(low_PIP)\n",
    "not_low_PIP_clinical_1 = clin_df_HIE.reindex(not_low_PIP)\n",
    "not_low_PIP_clinical_2 = clin_df_HIE_2.reindex(not_low_PIP)"
   ]
  },
  {
   "cell_type": "code",
   "execution_count": null,
   "metadata": {},
   "outputs": [],
   "source": [
    "low_PIP_clinical_1;"
   ]
  },
  {
   "cell_type": "code",
   "execution_count": null,
   "metadata": {},
   "outputs": [],
   "source": [
    "low_PIP_clinical_2;"
   ]
  },
  {
   "cell_type": "code",
   "execution_count": null,
   "metadata": {},
   "outputs": [],
   "source": [
    "not_low_PIP_clinical_1;"
   ]
  },
  {
   "cell_type": "code",
   "execution_count": null,
   "metadata": {},
   "outputs": [],
   "source": [
    "not_low_PIP_clinical_2;"
   ]
  },
  {
   "cell_type": "markdown",
   "metadata": {},
   "source": [
    "### Comparison of sedation and muscle relaxation between \"low PIP\" and \"no low PIP\" the groups"
   ]
  },
  {
   "cell_type": "code",
   "execution_count": null,
   "metadata": {
    "scrolled": true
   },
   "outputs": [],
   "source": [
    "low_PIP_clinical_2['Sedatives'].value_counts(dropna = False)"
   ]
  },
  {
   "cell_type": "markdown",
   "metadata": {},
   "source": [
    "- Sedation: 11\n",
    "- No sedation: 2"
   ]
  },
  {
   "cell_type": "code",
   "execution_count": null,
   "metadata": {},
   "outputs": [],
   "source": [
    "not_low_PIP_clinical_2['Sedatives'].value_counts(dropna = False)"
   ]
  },
  {
   "cell_type": "markdown",
   "metadata": {},
   "source": [
    "- Sedation: 10\n",
    "- No sedation: 5"
   ]
  },
  {
   "cell_type": "code",
   "execution_count": null,
   "metadata": {
    "scrolled": false
   },
   "outputs": [],
   "source": [
    "low_PIP_clinical_2['Muscle relaxant'].value_counts(dropna = False)"
   ]
  },
  {
   "cell_type": "code",
   "execution_count": null,
   "metadata": {},
   "outputs": [],
   "source": [
    "not_low_PIP_clinical_2['Muscle relaxant'].value_counts(dropna = False)"
   ]
  },
  {
   "cell_type": "code",
   "execution_count": null,
   "metadata": {
    "scrolled": false
   },
   "outputs": [],
   "source": [
    "low_PIP_clinical_2['Anticonvulsant'].value_counts(dropna = False)"
   ]
  },
  {
   "cell_type": "markdown",
   "metadata": {},
   "source": [
    "- No: 8\n",
    "- Phenobarbital: 5"
   ]
  },
  {
   "cell_type": "code",
   "execution_count": null,
   "metadata": {},
   "outputs": [],
   "source": [
    "not_low_PIP_clinical_2['Anticonvulsant'].value_counts(dropna = False)"
   ]
  },
  {
   "cell_type": "markdown",
   "metadata": {},
   "source": [
    "- No: 11\n",
    "- Phenobarbital: 4"
   ]
  },
  {
   "cell_type": "markdown",
   "metadata": {},
   "source": [
    "### Comparison of sedation and muscle relaxation between \"low PIP\" and \"no low PIP\" the groups"
   ]
  },
  {
   "cell_type": "code",
   "execution_count": null,
   "metadata": {},
   "outputs": [],
   "source": [
    "low_PIP_stats_frame['mean']['PIP']"
   ]
  },
  {
   "cell_type": "code",
   "execution_count": null,
   "metadata": {
    "scrolled": true
   },
   "outputs": [],
   "source": [
    "not_low_PIP_stats_frame['mean']['PIP']"
   ]
  },
  {
   "cell_type": "code",
   "execution_count": null,
   "metadata": {
    "scrolled": true
   },
   "outputs": [],
   "source": [
    "low_PIP_stats_frame['mean']['VTemand_resp_kg']"
   ]
  },
  {
   "cell_type": "code",
   "execution_count": null,
   "metadata": {
    "scrolled": true
   },
   "outputs": [],
   "source": [
    "not_low_PIP_stats_frame['mean']['VTemand_resp_kg']"
   ]
  },
  {
   "cell_type": "code",
   "execution_count": null,
   "metadata": {},
   "outputs": [],
   "source": [
    "low_PIP_VTemand_resp_mw_stats = stats.mannwhitneyu(low_PIP_stats_frame['mean']['VTemand_resp_kg'], \n",
    "                                             not_low_PIP_stats_frame['mean']['VTemand_resp_kg'])\n",
    "low_PIP_VTemand_resp_mw_stats"
   ]
  },
  {
   "cell_type": "code",
   "execution_count": null,
   "metadata": {},
   "outputs": [],
   "source": [
    "fig, ax = plt.subplots(figsize = (4, 4))\n",
    "dpi = 300\n",
    "filetype = 'jpg'\n",
    "xticklabels = ['PIP <10', 'PIP >10']\n",
    "\n",
    "# Define styling for each boxplot component\n",
    "medianprops = {'color': 'black', 'linewidth': 2}\n",
    "meanpointprops = {'marker':'D', 'markeredgecolor':'black', 'markerfacecolor':'black'}\n",
    "boxprops = {'color': 'black', 'linestyle': '-'}\n",
    "whiskerprops = {'color': 'black', 'linestyle': '-'}\n",
    "capprops = {'color': 'black', 'linestyle': '-'}\n",
    "flierprops = {'color': 'black', 'marker': '.'}\n",
    "\n",
    "plt.boxplot([low_PIP_stats_frame['mean']['VTemand_resp_kg'], \n",
    "             not_low_PIP_stats_frame['mean']['VTemand_resp_kg']], widths = 0.5, whis = 'range', \n",
    "            showfliers = True, showmeans = True, medianprops=medianprops,  meanprops = meanpointprops, \n",
    "            boxprops=boxprops, whiskerprops=whiskerprops, capprops=capprops, flierprops = flierprops)\n",
    "plt.text(1.25, 9, 'p = 0.006')\n",
    "\n",
    "ax.set_xticklabels(xticklabels)\n",
    "ax.set_ylim(0, 10)\n",
    "ax.set_xlabel('cmH$_2$O', size = 14)\n",
    "ax.set_ylabel('VTemand (mL/kg)', size = 14)\n",
    "ax.tick_params(axis='both', which='major', labelsize=14)\n",
    "plt.grid(True)\n",
    "\n",
    "fig.savefig('%s/%s.%s' % (DIR_WRITE, 'low_PIP_not_low_PIP_VTemand_resp', filetype),\n",
    "    dpi = dpi, facecolor='w', edgecolor='w', orientation='portrait', papertype=None, format = filetype,\n",
    "    transparent=False, bbox_inches='tight', pad_inches=0.1, );"
   ]
  },
  {
   "cell_type": "code",
   "execution_count": null,
   "metadata": {},
   "outputs": [],
   "source": [
    "low_PIP_stats_frame['mean']['VTdiff']"
   ]
  },
  {
   "cell_type": "code",
   "execution_count": null,
   "metadata": {},
   "outputs": [],
   "source": [
    "not_low_PIP_stats_frame['mean']['VTdiff']"
   ]
  },
  {
   "cell_type": "code",
   "execution_count": null,
   "metadata": {},
   "outputs": [],
   "source": [
    "low_PIP_VTdiff_mw_stats = stats.mannwhitneyu(low_PIP_stats_frame['mean']['VTdiff'], \n",
    "                                             not_low_PIP_stats_frame['mean']['VTdiff'])\n",
    "low_PIP_VTdiff_mw_stats"
   ]
  },
  {
   "cell_type": "code",
   "execution_count": null,
   "metadata": {},
   "outputs": [],
   "source": [
    "fig, ax = plt.subplots(figsize = (4, 4))\n",
    "dpi = 300\n",
    "filetype = 'jpg'\n",
    "xticklabels = ['PIP <10', 'PIP >10']\n",
    "\n",
    "# Define styling for each boxplot component\n",
    "medianprops = {'color': 'black', 'linewidth': 2}\n",
    "meanpointprops = {'marker':'D', 'markeredgecolor':'black', 'markerfacecolor':'black'}\n",
    "boxprops = {'color': 'black', 'linestyle': '-'}\n",
    "whiskerprops = {'color': 'black', 'linestyle': '-'}\n",
    "capprops = {'color': 'black', 'linestyle': '-'}\n",
    "flierprops = {'color': 'black', 'marker': '.'}\n",
    "\n",
    "plt.boxplot([low_PIP_stats_frame['mean']['VTdiff'], not_low_PIP_stats_frame['mean']['VTdiff']], \n",
    "            widths = 0.5, whis = 'range', \n",
    "            showfliers = True, showmeans = True, medianprops=medianprops,  meanprops = meanpointprops, \n",
    "            boxprops=boxprops, whiskerprops=whiskerprops, capprops=capprops, flierprops = flierprops)\n",
    "plt.text(1.25, 5.25, 'p < 0.0001')\n",
    "\n",
    "ax.set_xticklabels(xticklabels)\n",
    "ax.set_ylim(-1, 6)\n",
    "ax.set_xlabel('cmH$_2$O', size = 14)\n",
    "ax.set_ylabel('VTdiff (mL/kg)', size = 14)\n",
    "ax.tick_params(axis='both', which='major', labelsize=14)\n",
    "plt.grid(True)\n",
    "\n",
    "fig.savefig('%s/%s.%s' % (DIR_WRITE, 'low_PIP_not_low_PIP_VTdiff', filetype),\n",
    "    dpi = dpi, facecolor='w', edgecolor='w', orientation='portrait', papertype=None, format = filetype,\n",
    "    transparent=False, bbox_inches='tight', pad_inches=0.1,);"
   ]
  },
  {
   "cell_type": "markdown",
   "metadata": {},
   "source": [
    "### Analyse blood gases"
   ]
  },
  {
   "cell_type": "code",
   "execution_count": null,
   "metadata": {},
   "outputs": [],
   "source": [
    "blood_gases_simv_vg = {case: blood_gases[case] for case in blood_gases.keys()\n",
    "                       if case in simv_vg }\n",
    "len(blood_gases_simv_vg)"
   ]
  },
  {
   "cell_type": "code",
   "execution_count": null,
   "metadata": {},
   "outputs": [],
   "source": [
    "blood_gases_simv_novg = {case: blood_gases[case] for case in blood_gases.keys()\n",
    "                       if case in simv_novg }\n",
    "len(blood_gases_simv_novg)"
   ]
  },
  {
   "cell_type": "code",
   "execution_count": null,
   "metadata": {
    "scrolled": false
   },
   "outputs": [],
   "source": [
    "gases_vg = {}\n",
    "for case in sorted(blood_gases_simv_vg):\n",
    "    #print(case)\n",
    "    if len(blood_gases_simv_vg[case].index) > 1:\n",
    "        gases_vg[case] = DataFrame([float(blood_gases_simv_vg[case].iloc[0]['pH']),\n",
    "                                    float(blood_gases_simv_vg[case].iloc[-1]['pH']),\n",
    "                                    float(blood_gases_simv_vg[case].iloc[0]['pCO2']),\n",
    "                                    float(blood_gases_simv_vg[case].iloc[-1]['pCO2']),\n",
    "                                    float(blood_gases_simv_vg[case].iloc[0].get(['ABE'], np.nan)),\n",
    "                                    float(blood_gases_simv_vg[case].iloc[-1].get(['ABE'], np.nan))]).T\n",
    "        gases_vg[case].columns = ['pH_before', 'pH_after', 'pCO2_before', 'pCO2_after', \n",
    "                                  'BE_before', 'BE_after'] \n",
    "\n",
    "gases_vg = pd.concat(gases_vg)\n",
    "gases_vg.index = gases_vg.index.droplevel(level = 1)\n",
    "\n",
    "gases_vg['pH_diff'] = gases_vg['pH_after'] - gases_vg['pH_before']\n",
    "gases_vg['pCO2_diff'] = gases_vg['pCO2_after'] - gases_vg['pCO2_before']\n",
    "gases_vg['BE_diff'] = gases_vg['BE_after'] - gases_vg['BE_before']"
   ]
  },
  {
   "cell_type": "code",
   "execution_count": null,
   "metadata": {
    "scrolled": true
   },
   "outputs": [],
   "source": [
    "gases_novg = {}\n",
    "for case in sorted(blood_gases_simv_novg):\n",
    "    # print(case)\n",
    "    if len(blood_gases_simv_novg[case].index) > 1:\n",
    "        gases_novg[case] = DataFrame([float(blood_gases_simv_novg[case].iloc[0]['pH']),\n",
    "                                      float(blood_gases_simv_novg[case].iloc[-1]['pH']),\n",
    "                                      float(blood_gases_simv_novg[case].iloc[0]['pCO2']),\n",
    "                                      float(blood_gases_simv_novg[case].iloc[-1]['pCO2']),\n",
    "                                      float(blood_gases_simv_novg[case].iloc[0].get(['ABE'], np.nan)),\n",
    "                                      float(blood_gases_simv_novg[case].iloc[-1].get(['ABE'], np.nan))]).T\n",
    "        gases_novg[case].columns = ['pH_before', 'pH_after', 'pCO2_before', 'pCO2_after', \n",
    "                                    'BE_before', 'BE_after'] \n",
    "\n",
    "gases_novg = pd.concat(gases_novg)\n",
    "gases_novg.index = gases_novg.index.droplevel(level = 1)\n",
    "\n",
    "gases_novg['pH_diff'] = gases_novg['pH_after'] - gases_novg['pH_before']\n",
    "gases_novg['pCO2_diff'] = gases_novg['pCO2_after'] - gases_novg['pCO2_before']\n",
    "gases_novg['BE_diff'] = gases_novg['BE_after'] - gases_novg['BE_before']"
   ]
  },
  {
   "cell_type": "code",
   "execution_count": null,
   "metadata": {
    "scrolled": true
   },
   "outputs": [],
   "source": [
    "gases_vg.info()"
   ]
  },
  {
   "cell_type": "code",
   "execution_count": null,
   "metadata": {},
   "outputs": [],
   "source": [
    "gases_vg"
   ]
  },
  {
   "cell_type": "code",
   "execution_count": null,
   "metadata": {
    "scrolled": true
   },
   "outputs": [],
   "source": [
    "gases_novg.info()"
   ]
  },
  {
   "cell_type": "code",
   "execution_count": null,
   "metadata": {},
   "outputs": [],
   "source": [
    "gases_novg"
   ]
  },
  {
   "cell_type": "code",
   "execution_count": null,
   "metadata": {},
   "outputs": [],
   "source": [
    "gases_vg.describe()"
   ]
  },
  {
   "cell_type": "code",
   "execution_count": null,
   "metadata": {},
   "outputs": [],
   "source": [
    "gases_novg.describe()"
   ]
  },
  {
   "cell_type": "markdown",
   "metadata": {},
   "source": [
    "#### Blood gases before transport"
   ]
  },
  {
   "cell_type": "code",
   "execution_count": null,
   "metadata": {
    "scrolled": true
   },
   "outputs": [],
   "source": [
    "stats.mannwhitneyu(gases_vg['pCO2_before'],gases_novg['pCO2_before'])"
   ]
  },
  {
   "cell_type": "code",
   "execution_count": null,
   "metadata": {},
   "outputs": [],
   "source": [
    "stats.mannwhitneyu(gases_vg['pH_before'],gases_novg['pH_before'])"
   ]
  },
  {
   "cell_type": "code",
   "execution_count": null,
   "metadata": {},
   "outputs": [],
   "source": [
    "stats.mannwhitneyu(gases_vg['BE_before'],gases_novg['BE_before'])"
   ]
  },
  {
   "cell_type": "markdown",
   "metadata": {},
   "source": [
    "#### Blood gases after transport"
   ]
  },
  {
   "cell_type": "code",
   "execution_count": null,
   "metadata": {
    "scrolled": true
   },
   "outputs": [],
   "source": [
    "stats.mannwhitneyu(gases_vg['pCO2_after'],gases_novg['pCO2_after'])"
   ]
  },
  {
   "cell_type": "code",
   "execution_count": null,
   "metadata": {},
   "outputs": [],
   "source": [
    "stats.mannwhitneyu(gases_vg['pH_after'],gases_novg['pH_after'])"
   ]
  },
  {
   "cell_type": "code",
   "execution_count": null,
   "metadata": {},
   "outputs": [],
   "source": [
    "stats.mannwhitneyu(gases_vg['BE_after'],gases_novg['BE_after'])"
   ]
  },
  {
   "cell_type": "code",
   "execution_count": null,
   "metadata": {
    "scrolled": true
   },
   "outputs": [],
   "source": [
    "# Arrival blood gases with < 35 mmHg (4.65 kPa)\n",
    "gases_vg['pCO2_after'][gases_vg['pCO2_after'] < 35] "
   ]
  },
  {
   "cell_type": "code",
   "execution_count": null,
   "metadata": {},
   "outputs": [],
   "source": [
    "# Arrival blood gases with < 35 mmHg (4.65 kPa)\n",
    "gases_novg['pCO2_after'][gases_novg['pCO2_after'] < 35] "
   ]
  },
  {
   "cell_type": "code",
   "execution_count": null,
   "metadata": {
    "scrolled": true
   },
   "outputs": [],
   "source": [
    "# Arrival blood gases with < 30 mmHg (4 kPa)\n",
    "gases_vg['pCO2_after'][gases_vg['pCO2_after'] < 30] "
   ]
  },
  {
   "cell_type": "code",
   "execution_count": null,
   "metadata": {},
   "outputs": [],
   "source": [
    "# Arrival blood gases with < 30 mmHg (4 kPa)\n",
    "gases_novg['pCO2_after'][gases_novg['pCO2_after'] < 30] "
   ]
  },
  {
   "cell_type": "code",
   "execution_count": null,
   "metadata": {},
   "outputs": [],
   "source": [
    "gases_vg['pCO2_after']"
   ]
  },
  {
   "cell_type": "code",
   "execution_count": null,
   "metadata": {},
   "outputs": [],
   "source": [
    "gases_novg['pCO2_after']"
   ]
  },
  {
   "cell_type": "code",
   "execution_count": null,
   "metadata": {},
   "outputs": [],
   "source": [
    "gases_vg['pCO2_after'].describe()"
   ]
  },
  {
   "cell_type": "code",
   "execution_count": null,
   "metadata": {
    "scrolled": true
   },
   "outputs": [],
   "source": [
    "gases_novg['pCO2_after'].describe()"
   ]
  },
  {
   "cell_type": "markdown",
   "metadata": {},
   "source": [
    "#### Difference in gases before and after the transport"
   ]
  },
  {
   "cell_type": "code",
   "execution_count": null,
   "metadata": {},
   "outputs": [],
   "source": [
    "stats.mannwhitneyu(gases_vg['pCO2_diff'], gases_novg['pCO2_diff'])"
   ]
  },
  {
   "cell_type": "code",
   "execution_count": null,
   "metadata": {},
   "outputs": [],
   "source": [
    "stats.mannwhitneyu(gases_vg['pH_diff'], gases_novg['pH_diff'])"
   ]
  },
  {
   "cell_type": "code",
   "execution_count": null,
   "metadata": {},
   "outputs": [],
   "source": [
    "stats.mannwhitneyu(gases_vg['BE_diff'], gases_novg['BE_diff'])"
   ]
  },
  {
   "cell_type": "code",
   "execution_count": null,
   "metadata": {},
   "outputs": [],
   "source": [
    "fig, ax = plt.subplots(figsize = (5,5))\n",
    "ax.plot([1, 2], [gases_vg['pCO2_before'], gases_vg['pCO2_after']], color = 'black', marker = 'o')\n",
    "ax.set_xlim(0.5, 2.5)\n",
    "ax.set_ylim(0, 110)\n",
    "ax.set_xticks([1,2])\n",
    "ax.set_xticklabels(['before transfer', 'after transfer'], size = 14)\n",
    "ax.set_ylabel(r'pCO$_2$ (mmHg)', size = 14)\n",
    "ax.set_title('', size = 14)\n",
    "ax.grid(True)\n",
    "\n",
    "fig.savefig('%s/%s.%s' % (DIR_WRITE,'_simv_vg_CO2_before_after', 'jpg'),\n",
    "    dpi = 300, facecolor='w', edgecolor='w', orientation='portrait', papertype=None, format = 'jpg',\n",
    "    transparent=False, bbox_inches= 'tight', pad_inches=0.1);"
   ]
  },
  {
   "cell_type": "code",
   "execution_count": null,
   "metadata": {},
   "outputs": [],
   "source": [
    "fig, ax = plt.subplots(figsize = (5,5))\n",
    "ax.plot([1, 2], [gases_novg['pCO2_before'], gases_novg['pCO2_after']], color = 'black', marker = 'o')\n",
    "ax.set_xlim(0.5, 2.5)\n",
    "ax.set_ylim(0, 100)\n",
    "ax.set_xticks([1,2])\n",
    "ax.set_xticklabels(['before transfer', 'after transfer'], size = 14)\n",
    "ax.set_ylabel(r'pCO$_2$ (mmHg)', size = 14)\n",
    "ax.set_title('', size = 14)\n",
    "ax.grid(True)\n",
    "\n",
    "fig.savefig('%s/%s.%s' % (DIR_WRITE,'_simv_novg_CO2_before_after', 'jpg'),\n",
    "    dpi = 300, facecolor='w', edgecolor='w', orientation='portrait', papertype=None, format = 'jpg',\n",
    "    transparent=False, bbox_inches= 'tight', pad_inches=0.1);"
   ]
  },
  {
   "cell_type": "code",
   "execution_count": null,
   "metadata": {},
   "outputs": [],
   "source": [
    "fig, ax = plt.subplots(figsize = (5,5))\n",
    "ax.plot([1, 2], [gases_vg['pH_before'], gases_vg['pH_after']], color = 'black', marker = 'o')\n",
    "ax.set_xlim(0.5, 2.5)\n",
    "ax.set_ylim(6, 7.5)\n",
    "ax.set_xticks([1,2])\n",
    "ax.set_xticklabels(['before transfer', 'after transfer'], size = 14)\n",
    "ax.set_ylabel(r'pH', size = 14)\n",
    "ax.set_title('', size = 14)\n",
    "ax.grid(True)\n",
    "\n",
    "fig.savefig('%s/%s.%s' % (DIR_WRITE,'_simv_vg_pH_before_after', 'jpg'),\n",
    "    dpi = 300, facecolor='w', edgecolor='w', orientation='portrait', papertype=None, format = 'jpg',\n",
    "    transparent=False, bbox_inches= 'tight', pad_inches=0.1);"
   ]
  },
  {
   "cell_type": "code",
   "execution_count": null,
   "metadata": {},
   "outputs": [],
   "source": [
    "fig, ax = plt.subplots(figsize = (5,5))\n",
    "ax.plot([1, 2], [gases_novg['pH_before'], gases_novg['pH_after']], color = 'black', marker = 'o')\n",
    "ax.set_xlim(0.5, 2.5)\n",
    "ax.set_ylim(6, 7.5)\n",
    "ax.set_xticks([1,2])\n",
    "ax.set_xticklabels(['before transfer', 'after transfer'], size = 14)\n",
    "ax.set_ylabel(r'pH', size = 14)\n",
    "ax.set_title('', size = 14)\n",
    "ax.grid(True)\n",
    "\n",
    "fig.savefig('%s/%s.%s' % (DIR_WRITE,'_simv_novg_pH_before_after', 'jpg'),\n",
    "    dpi = 300, facecolor='w', edgecolor='w', orientation='portrait', papertype=None, format = 'jpg',\n",
    "    transparent=False, bbox_inches= 'tight', pad_inches=0.1);"
   ]
  },
  {
   "cell_type": "code",
   "execution_count": null,
   "metadata": {},
   "outputs": [],
   "source": [
    "fig, ax = plt.subplots(figsize = (5,5))\n",
    "ax.plot([1, 2], [gases_vg['BE_before'], gases_vg['BE_after']], color = 'black', marker = 'o')\n",
    "ax.set_xlim(0.5, 2.5)\n",
    "ax.set_ylim(0, -30)\n",
    "ax.set_xticks([1,2])\n",
    "ax.set_xticklabels(['before transfer', 'after transfer'], size = 14)\n",
    "ax.set_ylabel(r'BE (mmol/L)', size = 14)\n",
    "ax.set_title('', size = 14)\n",
    "ax.grid(True)\n",
    "\n",
    "fig.savefig('%s/%s.%s' % (DIR_WRITE,'_simv_vg_BE_before_after', 'jpg'),\n",
    "    dpi = 300, facecolor='w', edgecolor='w', orientation='portrait', papertype=None, format = 'jpg',\n",
    "    transparent=False, bbox_inches= 'tight', pad_inches=0.1);"
   ]
  },
  {
   "cell_type": "code",
   "execution_count": null,
   "metadata": {},
   "outputs": [],
   "source": [
    "fig, ax = plt.subplots(figsize = (5,5))\n",
    "ax.plot([1, 2], [gases_novg['BE_before'], gases_novg['BE_after']], color = 'black', marker = 'o')\n",
    "ax.set_xlim(0.5, 2.5)\n",
    "ax.set_ylim(0, -30)\n",
    "ax.set_xticks([1,2])\n",
    "ax.set_xticklabels(['before transfer', 'after transfer'], size = 14)\n",
    "ax.set_ylabel(r'BE (mmol/L)', size = 14)\n",
    "ax.set_title('', size = 14)\n",
    "ax.grid(True)\n",
    "\n",
    "fig.savefig('%s/%s.%s' % (DIR_WRITE,'_simv_novg_BE_before_after', 'jpg'),\n",
    "    dpi = 300, facecolor='w', edgecolor='w', orientation='portrait', papertype=None, format = 'jpg',\n",
    "    transparent=False, bbox_inches= 'tight', pad_inches=0.1);"
   ]
  },
  {
   "cell_type": "markdown",
   "metadata": {},
   "source": [
    "#### Consider those recordings where the average PIP is less than 10. "
   ]
  },
  {
   "cell_type": "code",
   "execution_count": null,
   "metadata": {},
   "outputs": [],
   "source": [
    "gases_low_PIP = gases_vg.reindex(low_PIP)\n",
    "gases_not_low_PIP = gases_vg.reindex(not_low_PIP)"
   ]
  },
  {
   "cell_type": "code",
   "execution_count": null,
   "metadata": {
    "scrolled": true
   },
   "outputs": [],
   "source": [
    "gases_low_PIP['pCO2_after'].describe()"
   ]
  },
  {
   "cell_type": "code",
   "execution_count": null,
   "metadata": {
    "scrolled": true
   },
   "outputs": [],
   "source": [
    "gases_not_low_PIP['pCO2_after'].describe()"
   ]
  },
  {
   "cell_type": "code",
   "execution_count": null,
   "metadata": {
    "scrolled": true
   },
   "outputs": [],
   "source": [
    "stats.mannwhitneyu(gases_low_PIP['pCO2_after'], gases_not_low_PIP['pCO2_after'])"
   ]
  },
  {
   "cell_type": "code",
   "execution_count": null,
   "metadata": {},
   "outputs": [],
   "source": [
    "fig, ax = plt.subplots(figsize = (4, 4))\n",
    "dpi = 300\n",
    "filetype = 'jpg'\n",
    "xticklabels = ['PIP <10', 'PIP >10']\n",
    "\n",
    "# Define styling for each boxplot component\n",
    "medianprops = {'color': 'black', 'linewidth': 2}\n",
    "meanpointprops = {'marker':'D', 'markeredgecolor':'black', 'markerfacecolor':'black'}\n",
    "boxprops = {'color': 'black', 'linestyle': '-'}\n",
    "whiskerprops = {'color': 'black', 'linestyle': '-'}\n",
    "capprops = {'color': 'black', 'linestyle': '-'}\n",
    "flierprops = {'color': 'black', 'marker': '.'}\n",
    "\n",
    "plt.boxplot([gases_low_PIP['pCO2_after'].dropna(), \n",
    "             gases_not_low_PIP['pCO2_after'].dropna()], widths = 0.5, whis = 'range', \n",
    "            showfliers = True, showmeans = True, medianprops=medianprops,  meanprops = meanpointprops, \n",
    "            boxprops=boxprops, whiskerprops=whiskerprops, capprops=capprops, flierprops = flierprops)\n",
    "\n",
    "plt.text(1.25, 100, 'p = 0.11')\n",
    "ax.set_xticklabels(xticklabels)\n",
    "ax.set_ylim(0, 110)\n",
    "ax.set_xlabel('cmH$_2$O', size = 14)\n",
    "ax.set_ylabel('pCO2 after transport (mmHg)', size = 14)\n",
    "ax.tick_params(axis='both', which='major', labelsize=14)\n",
    "plt.grid(True)\n",
    "\n",
    "fig.savefig('%s/%s.%s' % (DIR_WRITE, 'low_PIP_not_low_PIP_pCO2_after', filetype),\n",
    "    dpi = dpi, facecolor='w', edgecolor='w', orientation='portrait', papertype=None, format = filetype,\n",
    "    transparent=False, bbox_inches='tight', pad_inches=0.1);"
   ]
  },
  {
   "cell_type": "code",
   "execution_count": null,
   "metadata": {},
   "outputs": [],
   "source": [
    "gases_low_PIP['pCO2_diff'].describe()"
   ]
  },
  {
   "cell_type": "code",
   "execution_count": null,
   "metadata": {},
   "outputs": [],
   "source": [
    "gases_not_low_PIP['pCO2_diff'].describe()"
   ]
  },
  {
   "cell_type": "code",
   "execution_count": null,
   "metadata": {},
   "outputs": [],
   "source": [
    "stats.mannwhitneyu(gases_low_PIP['pCO2_diff'], gases_not_low_PIP['pCO2_diff'])"
   ]
  },
  {
   "cell_type": "code",
   "execution_count": null,
   "metadata": {},
   "outputs": [],
   "source": [
    "fig, ax = plt.subplots(figsize = (4, 4))\n",
    "dpi = 300\n",
    "filetype = 'jpg'\n",
    "xticklabels = ['PIP <10', 'PIP >10']\n",
    "\n",
    "# Define styling for each boxplot component\n",
    "medianprops = {'color': 'black', 'linewidth': 2}\n",
    "meanpointprops = {'marker':'D', 'markeredgecolor':'black', 'markerfacecolor':'black'}\n",
    "boxprops = {'color': 'black', 'linestyle': '-'}\n",
    "whiskerprops = {'color': 'black', 'linestyle': '-'}\n",
    "capprops = {'color': 'black', 'linestyle': '-'}\n",
    "flierprops = {'color': 'black', 'marker': '.'}\n",
    "\n",
    "plt.boxplot([gases_low_PIP['pCO2_diff'].dropna(), \n",
    "             gases_not_low_PIP['pCO2_diff'].dropna()], widths = 0.5, whis = 'range', \n",
    "            showfliers = True, showmeans = True, medianprops=medianprops,  meanprops = meanpointprops, \n",
    "            boxprops=boxprops, whiskerprops=whiskerprops, capprops=capprops, flierprops = flierprops)\n",
    "\n",
    "ax.set_xticklabels(xticklabels)\n",
    "ax.set_ylim(-80, 80)\n",
    "ax.set_xlabel('cmH$_2$O', size = 14)\n",
    "ax.set_ylabel('Change in pCO2 during transport (mmHg)', size = 14)\n",
    "ax.tick_params(axis='both', which='major', labelsize=14)\n",
    "plt.grid(True)\n",
    "\n",
    "fig.savefig('%s/%s.%s' % (DIR_WRITE, 'low_PIP_not_low_PIP_pCO2_diff', filetype),\n",
    "    dpi = dpi, facecolor='w', edgecolor='w', orientation='portrait', papertype=None, format = filetype,\n",
    "    transparent=False, bbox_inches='tight', pad_inches=0.1);"
   ]
  },
  {
   "cell_type": "markdown",
   "metadata": {},
   "source": [
    "#### pCO2 before, after and diff versus MVspon_pc"
   ]
  },
  {
   "cell_type": "code",
   "execution_count": null,
   "metadata": {},
   "outputs": [],
   "source": [
    "MVspon_pc = 100 - MVresp_simv_vg['mean']\n",
    "MV_CO2 = DataFrame([MVspon_pc, gases_vg['pCO2_before'], gases_vg['pCO2_after'], gases_vg['pCO2_diff'] ]).T\n",
    "MV_CO2.columns = ['MVspon_pc', 'pCO2_before', 'pCO2_after', 'pCO2_diff']\n",
    "MV_CO2.dropna(inplace = True)"
   ]
  },
  {
   "cell_type": "code",
   "execution_count": null,
   "metadata": {},
   "outputs": [],
   "source": [
    "MV_CO2;"
   ]
  },
  {
   "cell_type": "code",
   "execution_count": null,
   "metadata": {},
   "outputs": [],
   "source": [
    "dpi = 300\n",
    "filetype = 'jpg'\n",
    "\n",
    "fig = plt.figure()\n",
    "fig.set_size_inches(6, 6)\n",
    "fig.subplots_adjust(left=None, bottom=None, right=None, top=None, wspace=None, hspace=0.7)\n",
    "ax = fig.add_subplot(1,1,1);\n",
    "\n",
    "x = MV_CO2['MVspon_pc']\n",
    "y = MV_CO2['pCO2_before']\n",
    "\n",
    "plt.scatter(x, y, color = 'black', marker = 'o', s = 30, )\n",
    "\n",
    "plt.xlim([-10, 100])\n",
    "plt.ylim([0, 150])\n",
    "plt.xlabel('Proportion of spontaneous breathing (%)', fontsize  = 14)\n",
    "plt.ylabel('pCO2 before transport (mmHg)', fontsize  = 14)\n",
    "plt.tick_params(axis = 'both', labelsize = 14)\n",
    "plt.title('', fontsize = 14)\n",
    "plt.grid(True)\n",
    "ax.legend().set_visible(False)\n",
    "\n",
    "# Polynomial Coefficients\n",
    "coeffs = np.polyfit(x.values.astype('float'), \n",
    "                    y.values.astype('float'), deg = 1)\n",
    "result = coeffs.tolist()\n",
    "result\n",
    "\n",
    "# Fit a trendline\n",
    "l = np.poly1d(coeffs)\n",
    "plt.plot(x,l(x),'r--')\n",
    "\n",
    "# Calculate pearson's correlation coefficient with confidence intervals, coefficiet of determination and p value\n",
    "r , lcl, ucl , r2, p = corr_pearson(x, y)\n",
    "\n",
    "# print the equation on the graph area \n",
    "text = 'y=%.2fx + %.2f\\nr=%.2f (%.2f , %.2f)\\np=%.4f' % (result[0], result[1], r, lcl, ucl, p)\n",
    "plt.text(45 , 120 ,  text, color = 'black', style='normal', fontsize = 14, \n",
    "         bbox={'facecolor':'white', 'edgecolor':'black', 'alpha':1, 'pad':10})\n",
    "\n",
    "fig.savefig('%s/%s.%s' % (DIR_WRITE, 'MVspon_pc_pCO2_before',  filetype), \n",
    "            dpi = dpi, facecolor='w', edgecolor='w',\n",
    "            orientation='portrait', papertype=None, format = filetype,\n",
    "            transparent=False, bbox_inches='tight', pad_inches=0.1);"
   ]
  },
  {
   "cell_type": "code",
   "execution_count": null,
   "metadata": {},
   "outputs": [],
   "source": [
    "dpi = 300\n",
    "filetype = 'jpg'\n",
    "\n",
    "fig = plt.figure()\n",
    "fig.set_size_inches(6, 6)\n",
    "fig.subplots_adjust(left=None, bottom=None, right=None, top=None, wspace=None, hspace=0.7)\n",
    "ax = fig.add_subplot(1,1,1);\n",
    "\n",
    "x = MV_CO2['MVspon_pc']\n",
    "y = MV_CO2['pCO2_after']\n",
    "\n",
    "plt.scatter(x, y, color = 'black', marker = 'o', s = 30, )\n",
    "\n",
    "plt.xlim([-10, 100])\n",
    "plt.ylim([0, 150])\n",
    "plt.xlabel('Proportion of spontaneous breathing (%)', fontsize  = 14)\n",
    "plt.ylabel('pCO$_2$ (mmHg)', fontsize  = 14)\n",
    "plt.tick_params(axis = 'both', labelsize = 14)\n",
    "plt.title('', fontsize = 14)\n",
    "plt.grid(True)\n",
    "ax.legend().set_visible(False)\n",
    "\n",
    "# Polynomial Coefficients\n",
    "coeffs = np.polyfit(x.values.astype('float'), \n",
    "                    y.values.astype('float'), deg = 1)\n",
    "result = coeffs.tolist()\n",
    "result\n",
    "\n",
    "# Fit a trendline\n",
    "l = np.poly1d(coeffs)\n",
    "plt.plot(x,l(x),'r--')\n",
    "\n",
    "# Calculate pearson's correlation coefficient with confidence intervals, coefficiet of determination and p value\n",
    "r , lcl, ucl , r2, p = corr_pearson(x, y)\n",
    "\n",
    "# print the equation on the graph area \n",
    "text = 'y=%.2fx + %.2f\\nr=%.2f (%.2f , %.2f)\\np=%.4f' % (result[0], result[1], r, lcl, ucl, p)\n",
    "plt.text(45 , 120 ,  text, color = 'black', style='normal', fontsize = 14, \n",
    "         bbox={'facecolor':'white', 'edgecolor':'black', 'alpha':1, 'pad':10})\n",
    "\n",
    "fig.savefig('%s/%s.%s' % (DIR_WRITE, 'MVspon_pc_pCO2_after',  filetype), \n",
    "            dpi = dpi, facecolor='w', edgecolor='w',\n",
    "            orientation='portrait', papertype=None, format = filetype,\n",
    "            transparent=False, bbox_inches='tight', pad_inches=0.1);"
   ]
  },
  {
   "cell_type": "code",
   "execution_count": null,
   "metadata": {},
   "outputs": [],
   "source": [
    "dpi = 300\n",
    "filetype = 'jpg'\n",
    "\n",
    "fig = plt.figure()\n",
    "fig.set_size_inches(6, 6)\n",
    "fig.subplots_adjust(left=None, bottom=None, right=None, top=None, wspace=None, hspace=0.7)\n",
    "ax = fig.add_subplot(1,1,1);\n",
    "\n",
    "x = MV_CO2['MVspon_pc']\n",
    "y = MV_CO2['pCO2_diff']\n",
    "\n",
    "plt.scatter(x, y, color = 'black', marker = 'o', s = 30, )\n",
    "\n",
    "plt.xlim([-10, 100])\n",
    "plt.ylim([-100, 100])\n",
    "plt.xlabel('Proportion of spontaneous breathing (%)', fontsize  = 14)\n",
    "plt.ylabel('Difference in pCO2 before and after transport (mmHg)', fontsize  = 14)\n",
    "plt.tick_params(axis = 'both', labelsize = 14)\n",
    "plt.title('', fontsize = 14)\n",
    "plt.grid(True)\n",
    "ax.legend().set_visible(False)\n",
    "\n",
    "fig.savefig('%s/%s.%s' % (DIR_WRITE, 'MVspon_pc_pCO2_diff',  filetype), \n",
    "            dpi = dpi, facecolor='w', edgecolor='w',\n",
    "            orientation='portrait', papertype=None, format = filetype,\n",
    "            transparent=False, bbox_inches='tight', pad_inches=0.1,);"
   ]
  },
  {
   "cell_type": "markdown",
   "metadata": {},
   "source": [
    "### pH"
   ]
  },
  {
   "cell_type": "markdown",
   "metadata": {},
   "source": [
    "#### pH before the transport"
   ]
  },
  {
   "cell_type": "code",
   "execution_count": null,
   "metadata": {
    "scrolled": true
   },
   "outputs": [],
   "source": [
    "gases_vg['pH_before'].describe()"
   ]
  },
  {
   "cell_type": "code",
   "execution_count": null,
   "metadata": {},
   "outputs": [],
   "source": [
    "gases_novg['pH_before'].describe()"
   ]
  },
  {
   "cell_type": "code",
   "execution_count": null,
   "metadata": {},
   "outputs": [],
   "source": [
    "stats.mannwhitneyu(gases_vg['pH_before'],gases_novg['pH_before'])"
   ]
  },
  {
   "cell_type": "markdown",
   "metadata": {},
   "source": [
    "#### pH after the transport"
   ]
  },
  {
   "cell_type": "code",
   "execution_count": null,
   "metadata": {
    "scrolled": true
   },
   "outputs": [],
   "source": [
    "gases_vg['pH_after'].describe()"
   ]
  },
  {
   "cell_type": "code",
   "execution_count": null,
   "metadata": {},
   "outputs": [],
   "source": [
    "gases_novg['pH_after'].describe()"
   ]
  },
  {
   "cell_type": "code",
   "execution_count": null,
   "metadata": {},
   "outputs": [],
   "source": [
    "stats.mannwhitneyu(gases_vg['pH_after'],gases_novg['pH_after'])"
   ]
  },
  {
   "cell_type": "code",
   "execution_count": null,
   "metadata": {
    "scrolled": true
   },
   "outputs": [],
   "source": [
    "# Arrival blood gases with pH < 7.1\n",
    "gases_vg['pH_after'][gases_vg['pH_after'] < 7.1].sort_values() "
   ]
  },
  {
   "cell_type": "code",
   "execution_count": null,
   "metadata": {},
   "outputs": [],
   "source": [
    "# Arrival blood gases with pH < 7.1\n",
    "gases_novg['pH_after'][gases_novg['pH_after'] < 7.1].sort_values() "
   ]
  },
  {
   "cell_type": "markdown",
   "metadata": {},
   "source": [
    "#### Difference in pH before and after the transport"
   ]
  },
  {
   "cell_type": "code",
   "execution_count": null,
   "metadata": {},
   "outputs": [],
   "source": [
    "gases_vg.sort_values('pH_diff')"
   ]
  },
  {
   "cell_type": "code",
   "execution_count": null,
   "metadata": {},
   "outputs": [],
   "source": [
    "gases_novg.sort_values('pH_diff')"
   ]
  },
  {
   "cell_type": "code",
   "execution_count": null,
   "metadata": {},
   "outputs": [],
   "source": [
    "gases_vg['pH_diff'].describe()"
   ]
  },
  {
   "cell_type": "code",
   "execution_count": null,
   "metadata": {},
   "outputs": [],
   "source": [
    "gases_novg['pH_diff'].describe()"
   ]
  },
  {
   "cell_type": "code",
   "execution_count": null,
   "metadata": {},
   "outputs": [],
   "source": [
    "stats.mannwhitneyu(gases_vg['pH_diff'],gases_novg['pH_diff'])"
   ]
  },
  {
   "cell_type": "code",
   "execution_count": null,
   "metadata": {},
   "outputs": [],
   "source": [
    "fig, ax = plt.subplots(figsize = (5,5))\n",
    "ax.plot([1, 2], [gases_vg['pH_before'], gases_vg['pH_after']], color = 'black', marker = 'o')\n",
    "ax.set_xlim(0.5, 2.5)\n",
    "ax.set_ylim(6.3, 7.5)\n",
    "ax.set_xticks([1,2])\n",
    "ax.set_xticklabels(['before transfer', 'after transfer'], size = 14)\n",
    "ax.set_ylabel(r'pH', size = 14)\n",
    "ax.set_title('', size = 14)\n",
    "ax.grid(True)\n",
    "\n",
    "fig.savefig('%s/%s.%s' % (DIR_WRITE,'_simv_vg_pH_before_after', 'jpg'),\n",
    "    dpi = 300, facecolor='w', edgecolor='w', orientation='portrait', papertype=None, format = 'jpg',\n",
    "    transparent=False, bbox_inches= 'tight', pad_inches=0.1,);"
   ]
  },
  {
   "cell_type": "code",
   "execution_count": null,
   "metadata": {},
   "outputs": [],
   "source": [
    "fig, ax = plt.subplots(figsize = (5,5))\n",
    "ax.plot([1, 2], [gases_novg['pH_before'], gases_novg['pH_after']], color = 'black', marker = 'o')\n",
    "ax.set_xlim(0.5, 2.5)\n",
    "ax.set_ylim(6.3, 7.5)\n",
    "ax.set_xticks([1,2])\n",
    "ax.set_xticklabels(['before transfer', 'after transfer'], size = 14)\n",
    "ax.set_ylabel(r'pH', size = 14)\n",
    "ax.set_title('', size = 14)\n",
    "ax.grid(True)\n",
    "\n",
    "fig.savefig('%s/%s.%s' % (DIR_WRITE,'_simv_novg_pH_before_after', 'jpg'),\n",
    "    dpi = 300, facecolor='w', edgecolor='w', orientation='portrait', papertype=None, format = 'jpg',\n",
    "    transparent=False, bbox_inches= 'tight', pad_inches=0.1,);"
   ]
  },
  {
   "cell_type": "markdown",
   "metadata": {},
   "source": [
    "#### Consider those recordings where the average PIP is less than 10. "
   ]
  },
  {
   "cell_type": "code",
   "execution_count": null,
   "metadata": {},
   "outputs": [],
   "source": [
    "gases_low_PIP['pH_after'].describe()"
   ]
  },
  {
   "cell_type": "code",
   "execution_count": null,
   "metadata": {},
   "outputs": [],
   "source": [
    "gases_not_low_PIP['pH_after'].describe()"
   ]
  },
  {
   "cell_type": "code",
   "execution_count": null,
   "metadata": {},
   "outputs": [],
   "source": [
    "stats.mannwhitneyu(gases_low_PIP['pH_after'], gases_not_low_PIP['pH_after'])"
   ]
  },
  {
   "cell_type": "code",
   "execution_count": null,
   "metadata": {},
   "outputs": [],
   "source": [
    "fig, ax = plt.subplots(figsize = (4, 4))\n",
    "dpi = 300\n",
    "filetype = 'jpg'\n",
    "xticklabels = ['PIP <10', 'PIP >10']\n",
    "\n",
    "# Define styling for each boxplot component\n",
    "medianprops = {'color': 'black', 'linewidth': 2}\n",
    "meanpointprops = {'marker':'D', 'markeredgecolor':'black', 'markerfacecolor':'black'}\n",
    "boxprops = {'color': 'black', 'linestyle': '-'}\n",
    "whiskerprops = {'color': 'black', 'linestyle': '-'}\n",
    "capprops = {'color': 'black', 'linestyle': '-'}\n",
    "flierprops = {'color': 'black', 'marker': '.'}\n",
    "\n",
    "plt.boxplot([gases_low_PIP['pH_after'].dropna(), \n",
    "             gases_not_low_PIP['pH_after'].dropna()], widths = 0.5, whis = 'range', \n",
    "            showfliers = True, showmeans = True, medianprops=medianprops,  meanprops = meanpointprops, \n",
    "            boxprops=boxprops, whiskerprops=whiskerprops, capprops=capprops, flierprops = flierprops)\n",
    "\n",
    "plt.text(1.25, 7.38, 'p = 0.070')\n",
    "ax.set_xticklabels(xticklabels)\n",
    "ax.set_ylim(6.7, 7.45)\n",
    "ax.set_xlabel('cmH$_2$O', size = 14)\n",
    "ax.set_ylabel('pH after transport', size = 14)\n",
    "ax.tick_params(axis='both', which='major', labelsize=14)\n",
    "plt.grid(True)\n",
    "\n",
    "fig.savefig('%s/%s.%s' % (DIR_WRITE, 'low_PIP_not_low_PIP_pH_after', filetype),\n",
    "    dpi = dpi, facecolor='w', edgecolor='w', orientation='portrait', papertype=None, format = filetype,\n",
    "    transparent=False, bbox_inches='tight', pad_inches=0.1,);"
   ]
  },
  {
   "cell_type": "markdown",
   "metadata": {},
   "source": [
    "#### pH before, after and difference versus MVspon_pc"
   ]
  },
  {
   "cell_type": "code",
   "execution_count": null,
   "metadata": {},
   "outputs": [],
   "source": [
    "MVspon_pc = 100 - MVresp_simv_vg['mean']\n",
    "MV_pH = DataFrame([MVspon_pc, gases_vg['pH_before'], gases_vg['pH_after'], gases_vg['pH_diff'] ]).T\n",
    "MV_pH.columns = ['MVspon_pc', 'pH_before', 'pH_after', 'pH_diff']\n",
    "MV_pH.dropna(inplace = True)"
   ]
  },
  {
   "cell_type": "code",
   "execution_count": null,
   "metadata": {},
   "outputs": [],
   "source": [
    "MV_pH;"
   ]
  },
  {
   "cell_type": "code",
   "execution_count": null,
   "metadata": {},
   "outputs": [],
   "source": [
    "dpi = 300\n",
    "filetype = 'jpg'\n",
    "\n",
    "fig = plt.figure()\n",
    "fig.set_size_inches(6, 6)\n",
    "fig.subplots_adjust(left=None, bottom=None, right=None, top=None, wspace=None, hspace=0.7)\n",
    "ax = fig.add_subplot(1,1,1);\n",
    "\n",
    "x = MV_pH['MVspon_pc']\n",
    "y = MV_pH['pH_before']\n",
    "\n",
    "plt.scatter(x, y, color = 'black', marker = 'o', s = 30, )\n",
    "\n",
    "plt.xlim([-10, 100])\n",
    "plt.ylim([6.3, 7.7])\n",
    "plt.xlabel('Proportion of spontaneous breathing (%)', fontsize  = 14)\n",
    "plt.ylabel('pH before transport', fontsize  = 14)\n",
    "plt.tick_params(axis = 'both', labelsize = 14)\n",
    "plt.title('', fontsize = 14)\n",
    "plt.grid(True)\n",
    "ax.legend().set_visible(False)\n",
    "\n",
    "\n",
    "fig.savefig('%s/%s.%s' % (DIR_WRITE, 'MVspon_pc_pH_before',  filetype), \n",
    "            dpi = dpi, facecolor='w', edgecolor='w',\n",
    "            orientation='portrait', papertype=None, format = filetype,\n",
    "            transparent=False, bbox_inches='tight', pad_inches=0.1,);"
   ]
  },
  {
   "cell_type": "code",
   "execution_count": null,
   "metadata": {},
   "outputs": [],
   "source": [
    "dpi = 300\n",
    "filetype = 'jpg'\n",
    "\n",
    "fig = plt.figure()\n",
    "fig.set_size_inches(6, 6)\n",
    "fig.subplots_adjust(left=None, bottom=None, right=None, top=None, wspace=None, hspace=0.7)\n",
    "ax = fig.add_subplot(1,1,1);\n",
    "\n",
    "x = MV_pH['MVspon_pc']\n",
    "y = MV_pH['pH_after']\n",
    "\n",
    "plt.scatter(x, y, color = 'black', marker = 'o', s = 30, )\n",
    "\n",
    "plt.xlim([-10, 100])\n",
    "plt.ylim([6.5, 7.7])\n",
    "plt.xlabel('Proportion of spontaneous breathing (%)', fontsize  = 14)\n",
    "plt.ylabel('pH after transport', fontsize  = 14)\n",
    "plt.tick_params(axis = 'both', labelsize = 14)\n",
    "plt.title('', fontsize = 14)\n",
    "plt.grid(True)\n",
    "ax.legend().set_visible(False)\n",
    "\n",
    "\n",
    "fig.savefig('%s/%s.%s' % (DIR_WRITE, 'MVspon_pc_pH_after',  filetype), \n",
    "            dpi = dpi, facecolor='w', edgecolor='w',\n",
    "            orientation='portrait', papertype=None, format = filetype,\n",
    "            transparent=False, bbox_inches='tight', pad_inches=0.1,);"
   ]
  },
  {
   "cell_type": "code",
   "execution_count": null,
   "metadata": {},
   "outputs": [],
   "source": [
    "dpi = 300\n",
    "filetype = 'jpg'\n",
    "\n",
    "fig = plt.figure()\n",
    "fig.set_size_inches(6, 6)\n",
    "fig.subplots_adjust(left=None, bottom=None, right=None, top=None, wspace=None, hspace=0.7)\n",
    "ax = fig.add_subplot(1,1,1);\n",
    "\n",
    "x = MV_pH['MVspon_pc']\n",
    "y = MV_pH['pH_diff']\n",
    "\n",
    "plt.scatter(x, y, color = 'black', marker = 'o', s = 30, )\n",
    "\n",
    "plt.xlim([-10, 100])\n",
    "plt.ylim([-1, 1])\n",
    "plt.xlabel('Proportion of spontaneous breathing (%)', fontsize  = 14)\n",
    "plt.ylabel('pH difference before and after transport', fontsize  = 14)\n",
    "plt.tick_params(axis = 'both', labelsize = 14)\n",
    "plt.title('', fontsize = 14)\n",
    "plt.grid(True)\n",
    "ax.legend().set_visible(False)\n",
    "\n",
    "\n",
    "fig.savefig('%s/%s.%s' % (DIR_WRITE, 'MVspon_pc_pH_diff',  filetype), \n",
    "            dpi = dpi, facecolor='w', edgecolor='w',\n",
    "            orientation='portrait', papertype=None, format = filetype,\n",
    "            transparent=False, bbox_inches='tight', pad_inches=0.1,);"
   ]
  },
  {
   "cell_type": "code",
   "execution_count": null,
   "metadata": {},
   "outputs": [],
   "source": [
    "dpi = 300\n",
    "filetype = 'jpg'\n",
    "\n",
    "fig = plt.figure()\n",
    "fig.set_size_inches(6, 6)\n",
    "fig.subplots_adjust(left=None, bottom=None, right=None, top=None, wspace=None, hspace=0.7)\n",
    "ax = fig.add_subplot(1,1,1);\n",
    "\n",
    "x = MV_pH['MVspon_pc']\n",
    "y = MV_pH['pH_after']\n",
    "\n",
    "plt.scatter(x, y, color = 'black', marker = 'o', s = 30, )\n",
    "\n",
    "plt.xlim([-10, 100])\n",
    "plt.ylim([6.5, 7.7])\n",
    "plt.xlabel('Proportion of spontaneous breathing (%)', fontsize  = 14)\n",
    "plt.ylabel('pH after transport', fontsize  = 14)\n",
    "plt.tick_params(axis = 'both', labelsize = 14)\n",
    "plt.title('', fontsize = 14)\n",
    "plt.grid(True)\n",
    "ax.legend().set_visible(False)\n",
    "\n",
    "\n",
    "fig.savefig('%s/%s.%s' % (DIR_WRITE, 'MVspon_pc_pH_after',  filetype), \n",
    "            dpi = dpi, facecolor='w', edgecolor='w',\n",
    "            orientation='portrait', papertype=None, format = filetype,\n",
    "            transparent=False, bbox_inches='tight', pad_inches=0.1,);"
   ]
  },
  {
   "cell_type": "markdown",
   "metadata": {},
   "source": [
    "### Which recordings have no RR measurements?"
   ]
  },
  {
   "cell_type": "code",
   "execution_count": null,
   "metadata": {},
   "outputs": [],
   "source": [
    "RR = []\n",
    "no_RR = []\n",
    "\n",
    "\n",
    "for recording in recordings:\n",
    "    if 'RR' not in data_pars_measurements_ventilated_HIE[recording]:\n",
    "        no_RR.append(recording)\n",
    "    else:\n",
    "        RR.append(recording)"
   ]
  },
  {
   "cell_type": "code",
   "execution_count": null,
   "metadata": {},
   "outputs": [],
   "source": [
    "print(no_RR)"
   ]
  },
  {
   "cell_type": "code",
   "execution_count": null,
   "metadata": {
    "scrolled": false
   },
   "outputs": [],
   "source": [
    "vent_modes_ventilated_HIE.loc[no_RR].head()"
   ]
  },
  {
   "cell_type": "markdown",
   "metadata": {},
   "source": [
    "## Figures for paper"
   ]
  },
  {
   "cell_type": "markdown",
   "metadata": {},
   "source": [
    "### Figure 1"
   ]
  },
  {
   "cell_type": "code",
   "execution_count": null,
   "metadata": {},
   "outputs": [],
   "source": [
    "# Define resolution and file type\n",
    "dpi = 300\n",
    "filetype = 'eps'\n",
    "\n",
    "fig = plt.figure()\n",
    "fig.set_size_inches(6, 6)\n",
    "fig.subplots_adjust(left=None, bottom=None, right=None, top=None, wspace=None, hspace=0.7)\n",
    "ax = fig.add_subplot(1,1,1);\n",
    "\n",
    "x = 100 - MVresp_simv_vg['mean']\n",
    "y = PIP_simv_vg['mean']\n",
    "\n",
    "plt.scatter(x, y, color = 'black', marker = 'x', s = 30, )\n",
    "\n",
    "plt.xlim([-10, 100])\n",
    "plt.ylim([0, 40])\n",
    "plt.xlabel('Proportion of spontaneous breathing (%)', fontsize  = 14)\n",
    "plt.ylabel('PIP (cmH$_2$O)', fontsize  = 14)\n",
    "plt.tick_params(axis = 'both', labelsize = 14)\n",
    "plt.title('', fontsize = 14)\n",
    "plt.grid(True)\n",
    "ax.legend().set_visible(False)\n",
    "\n",
    "# Polynomial Coefficients\n",
    "coeffs = np.polyfit(x.values.astype('float'), \n",
    "                    y.values.astype('float'), deg = 1)\n",
    "result = coeffs.tolist()\n",
    "result\n",
    "\n",
    "# Fit a trendline\n",
    "l = np.poly1d(coeffs)\n",
    "plt.plot(x,l(x),'k--', alpha = 0.7)\n",
    "\n",
    "# Calculate pearson's correlation coefficient with confidence intervals, coefficiet of determination and p value\n",
    "r , lcl, ucl , r2, p = corr_pearson(x, y)\n",
    "\n",
    "# print the equation on the graph area \n",
    "text = 'y=%.2fx + %.2f\\nr=%.2f (%.2f - %.2f)\\np=%.4f' % (result[0], result[1], r, lcl, ucl, p)\n",
    "plt.text(45 , 33 ,  text, color = 'black', style='normal', fontsize = 14, \n",
    "         bbox={'facecolor':'white', 'edgecolor':'black', 'alpha':1, 'pad':10})\n",
    "\n",
    "fig.savefig('%s/%s.%s' % (DIR_WRITE, 'Figure_1',  filetype), \n",
    "            dpi = dpi, facecolor='w', edgecolor='w',\n",
    "            orientation='portrait', papertype=None, format = filetype,\n",
    "            transparent=False, bbox_inches='tight', pad_inches=0.1);"
   ]
  },
  {
   "cell_type": "markdown",
   "metadata": {},
   "source": [
    "### Figure 2"
   ]
  },
  {
   "cell_type": "markdown",
   "metadata": {},
   "source": [
    "#### Figure 2A"
   ]
  },
  {
   "cell_type": "code",
   "execution_count": null,
   "metadata": {},
   "outputs": [],
   "source": [
    "fig, ax = plt.subplots(figsize = (4, 4))\n",
    "dpi = 300\n",
    "filetype = 'jpg'\n",
    "xticklabels = ['PIP <10', 'PIP >10']\n",
    "\n",
    "# Define styling for each boxplot component\n",
    "medianprops = {'color': 'black', 'linewidth': 2}\n",
    "meanpointprops = {'marker':'D', 'markeredgecolor':'black', 'markerfacecolor':'black'}\n",
    "boxprops = {'color': 'black', 'linestyle': '-'}\n",
    "whiskerprops = {'color': 'black', 'linestyle': '-'}\n",
    "capprops = {'color': 'black', 'linestyle': '-'}\n",
    "flierprops = {'color': 'black', 'marker': '.'}\n",
    "\n",
    "plt.boxplot([low_PIP_stats_frame['mean']['VTemand_resp_kg'], \n",
    "             not_low_PIP_stats_frame['mean']['VTemand_resp_kg']], widths = 0.5, whis = 'range', \n",
    "            showfliers = True, showmeans = True, medianprops=medianprops,  meanprops = meanpointprops, \n",
    "            boxprops=boxprops, whiskerprops=whiskerprops, capprops=capprops, flierprops = flierprops)\n",
    "plt.text(1.25, 9, 'p = 0.006')\n",
    "\n",
    "ax.set_xticklabels(xticklabels)\n",
    "ax.set_ylim(0, 10)\n",
    "ax.set_xlabel('cmH$_2$O', size = 14)\n",
    "ax.set_ylabel('VTemand (mL/kg)', size = 14)\n",
    "ax.tick_params(axis='both', which='major', labelsize=14)\n",
    "plt.grid(True)\n",
    "\n",
    "fig.savefig('%s/%s.%s' % (DIR_WRITE, 'Figure_2A', filetype),\n",
    "    dpi = dpi, facecolor='w', edgecolor='w', orientation='portrait', papertype=None, format = filetype,\n",
    "    transparent=False, bbox_inches='tight', pad_inches=0.1, );"
   ]
  },
  {
   "cell_type": "markdown",
   "metadata": {},
   "source": [
    "#### Figure 2B"
   ]
  },
  {
   "cell_type": "code",
   "execution_count": null,
   "metadata": {},
   "outputs": [],
   "source": [
    "fig, ax = plt.subplots(figsize = (4, 4))\n",
    "dpi = 300\n",
    "filetype = 'jpg'\n",
    "xticklabels = ['PIP <10', 'PIP >10']\n",
    "\n",
    "# Define styling for each boxplot component\n",
    "medianprops = {'color': 'black', 'linewidth': 2}\n",
    "meanpointprops = {'marker':'D', 'markeredgecolor':'black', 'markerfacecolor':'black'}\n",
    "boxprops = {'color': 'black', 'linestyle': '-'}\n",
    "whiskerprops = {'color': 'black', 'linestyle': '-'}\n",
    "capprops = {'color': 'black', 'linestyle': '-'}\n",
    "flierprops = {'color': 'black', 'marker': '.'}\n",
    "\n",
    "plt.boxplot([low_PIP_stats_frame['mean']['VTdiff'], not_low_PIP_stats_frame['mean']['VTdiff']], \n",
    "            widths = 0.5, whis = 'range', \n",
    "            showfliers = True, showmeans = True, medianprops=medianprops,  meanprops = meanpointprops, \n",
    "            boxprops=boxprops, whiskerprops=whiskerprops, capprops=capprops, flierprops = flierprops)\n",
    "plt.text(1.25, 5.25, 'p < 0.0001')\n",
    "\n",
    "ax.set_xticklabels(xticklabels)\n",
    "ax.set_ylim(-1, 6)\n",
    "ax.set_xlabel('cmH$_2$O', size = 14)\n",
    "ax.set_ylabel('VTdiff (mL/kg)', size = 14)\n",
    "ax.tick_params(axis='both', which='major', labelsize=14)\n",
    "plt.grid(True)\n",
    "\n",
    "fig.savefig('%s/%s.%s' % (DIR_WRITE, 'Figure_2B', filetype),\n",
    "    dpi = dpi, facecolor='w', edgecolor='w', orientation='portrait', papertype=None, format = filetype,\n",
    "    transparent=False, bbox_inches='tight', pad_inches=0.1,);"
   ]
  },
  {
   "cell_type": "markdown",
   "metadata": {},
   "source": [
    "#### Figure 2C"
   ]
  },
  {
   "cell_type": "code",
   "execution_count": null,
   "metadata": {},
   "outputs": [],
   "source": [
    "fig, ax = plt.subplots(figsize = (4, 4))\n",
    "dpi = 300\n",
    "filetype = 'jpg'\n",
    "xticklabels = ['PIP <10', 'PIP >10']\n",
    "\n",
    "# Define styling for each boxplot component\n",
    "medianprops = {'color': 'black', 'linewidth': 2}\n",
    "meanpointprops = {'marker':'D', 'markeredgecolor':'black', 'markerfacecolor':'black'}\n",
    "boxprops = {'color': 'black', 'linestyle': '-'}\n",
    "whiskerprops = {'color': 'black', 'linestyle': '-'}\n",
    "capprops = {'color': 'black', 'linestyle': '-'}\n",
    "flierprops = {'color': 'black', 'marker': '.'}\n",
    "\n",
    "plt.boxplot([gases_low_PIP['pCO2_after'].dropna(), \n",
    "             gases_not_low_PIP['pCO2_after'].dropna()], widths = 0.5, whis = 'range', \n",
    "            showfliers = True, showmeans = True, medianprops=medianprops,  meanprops = meanpointprops, \n",
    "            boxprops=boxprops, whiskerprops=whiskerprops, capprops=capprops, flierprops = flierprops)\n",
    "plt.text(1.25, 100, 'p = 0.11')\n",
    "\n",
    "ax.set_xticklabels(xticklabels)\n",
    "ax.set_ylim(0, 110)\n",
    "ax.set_xlabel('cmH$_2$O', size = 14)\n",
    "ax.set_ylabel('pCO$_2$ after transport (mmHg)', size = 14)\n",
    "ax.tick_params(axis='both', which='major', labelsize=14)\n",
    "plt.grid(True)\n",
    "\n",
    "fig.savefig('%s/%s.%s' % (DIR_WRITE, 'Figure_2C', filetype),\n",
    "    dpi = dpi, facecolor='w', edgecolor='w', orientation='portrait', papertype=None, format = filetype,\n",
    "    transparent=False, bbox_inches='tight', pad_inches=0.1);"
   ]
  },
  {
   "cell_type": "markdown",
   "metadata": {},
   "source": [
    "#### Figure 2D"
   ]
  },
  {
   "cell_type": "code",
   "execution_count": null,
   "metadata": {},
   "outputs": [],
   "source": [
    "fig, ax = plt.subplots(figsize = (4, 4))\n",
    "dpi = 300\n",
    "filetype = 'jpg'\n",
    "xticklabels = ['PIP <10', 'PIP >10']\n",
    "\n",
    "# Define styling for each boxplot component\n",
    "medianprops = {'color': 'black', 'linewidth': 2}\n",
    "meanpointprops = {'marker':'D', 'markeredgecolor':'black', 'markerfacecolor':'black'}\n",
    "boxprops = {'color': 'black', 'linestyle': '-'}\n",
    "whiskerprops = {'color': 'black', 'linestyle': '-'}\n",
    "capprops = {'color': 'black', 'linestyle': '-'}\n",
    "flierprops = {'color': 'black', 'marker': '.'}\n",
    "\n",
    "plt.boxplot([gases_low_PIP['pH_after'].dropna(), \n",
    "             gases_not_low_PIP['pH_after'].dropna()], widths = 0.5, whis = 'range', \n",
    "            showfliers = True, showmeans = True, medianprops=medianprops,  meanprops = meanpointprops, \n",
    "            boxprops=boxprops, whiskerprops=whiskerprops, capprops=capprops, flierprops = flierprops)\n",
    "\n",
    "ax.set_xticklabels(xticklabels)\n",
    "ax.set_ylim(6.7, 7.4)\n",
    "ax.set_xlabel('cmH$_2$O', size = 14)\n",
    "ax.set_ylabel('pH after transport', size = 14)\n",
    "ax.tick_params(axis='both', which='major', labelsize=14)\n",
    "plt.grid(True)\n",
    "\n",
    "fig.savefig('%s/%s.%s' % (DIR_WRITE, 'Figure_2D', filetype),\n",
    "    dpi = dpi, facecolor='w', edgecolor='w', orientation='portrait', papertype=None, format = filetype,\n",
    "    transparent=False, bbox_inches='tight', pad_inches=0.1,);"
   ]
  },
  {
   "cell_type": "markdown",
   "metadata": {},
   "source": [
    "#### Figure 2 combined"
   ]
  },
  {
   "cell_type": "code",
   "execution_count": null,
   "metadata": {},
   "outputs": [],
   "source": [
    "# Define resolution and file type\n",
    "dpi = 300\n",
    "filetype = 'eps'\n",
    "\n",
    "# Define xticklabels\n",
    "xticklabels = ['PIP <10', 'PIP >10']\n",
    "\n",
    "# Define styling for each boxplot component\n",
    "medianprops = {'color': 'black', 'linewidth': 2}\n",
    "meanpointprops = {'marker':'D', 'markeredgecolor':'black', 'markerfacecolor':'black'}\n",
    "boxprops = {'color': 'black', 'linestyle': '-'}\n",
    "whiskerprops = {'color': 'black', 'linestyle': '-'}\n",
    "capprops = {'color': 'black', 'linestyle': '-'}\n",
    "flierprops = {'color': 'black', 'marker': '.'}\n",
    "\n",
    "fig, ax = plt.subplots(2,2, figsize = [9,9])\n",
    "fig.subplots_adjust(left=0.1, bottom=0.1, right=0.9, top=0.9, \n",
    "                                        hspace=0.3, wspace=0.3)\n",
    "\n",
    "# Figure 3A\n",
    "ax[0,0].boxplot([low_PIP_stats_frame['mean']['VTemand_resp_kg'], \n",
    "             not_low_PIP_stats_frame['mean']['VTemand_resp_kg']], widths = 0.5, whis = 'range', \n",
    "             showfliers = True, showmeans = True, medianprops=medianprops,  meanprops = meanpointprops, \n",
    "             boxprops=boxprops, whiskerprops=whiskerprops, capprops=capprops, flierprops = flierprops)\n",
    "\n",
    "ax[0,0].text(1.25, 9, 'p = 0.006')\n",
    "\n",
    "ax[0,0].set_xticklabels(xticklabels)\n",
    "ax[0,0].set_ylim(0, 10)\n",
    "ax[0,0].set_xlabel('cmH$_2$O', size = 14)\n",
    "ax[0,0].set_ylabel('VTemand (mL/kg)', size = 14, labelpad = 0)\n",
    "ax[0,0].tick_params(axis='both', which='major', labelsize=14)\n",
    "ax[0,0].grid(True)\n",
    "\n",
    "\n",
    "# Figure 3B\n",
    "ax[0,1].boxplot([low_PIP_stats_frame['mean']['VTdiff'], not_low_PIP_stats_frame['mean']['VTdiff']], \n",
    "            widths = 0.5, whis = 'range', \n",
    "            showfliers = True, showmeans = True, medianprops=medianprops,  meanprops = meanpointprops, \n",
    "            boxprops=boxprops, whiskerprops=whiskerprops, capprops=capprops, flierprops = flierprops)\n",
    "ax[0,1].text(1.25, 5.25, 'p < 0.0001')\n",
    "\n",
    "ax[0,1].set_xticklabels(xticklabels)\n",
    "ax[0,1].set_ylim(-1, 6)\n",
    "ax[0,1].set_xlabel('cmH$_2$O', size = 14)\n",
    "ax[0,1].set_ylabel('VTdiff (mL/kg)', size = 14, labelpad = 0)\n",
    "ax[0,1].tick_params(axis='both', which='major', labelsize=14)\n",
    "ax[0,1].grid(True)\n",
    "\n",
    "\n",
    "# Figure 3C\n",
    "ax[1,0].boxplot([gases_low_PIP['pCO2_after'].dropna(), \n",
    "             gases_not_low_PIP['pCO2_after'].dropna()], widths = 0.5, whis = 'range', \n",
    "            showfliers = True, showmeans = True, medianprops=medianprops,  meanprops = meanpointprops, \n",
    "            boxprops=boxprops, whiskerprops=whiskerprops, capprops=capprops, flierprops = flierprops)\n",
    "ax[1,0].text(1.25, 100, 'p = 0.11')\n",
    "\n",
    "ax[1,0].set_xticklabels(xticklabels)\n",
    "ax[1,0].set_ylim(0, 110)\n",
    "ax[1,0].set_xlabel('cmH$_2$O', size = 14)\n",
    "ax[1,0].set_ylabel('pCO$_2$ after transport (mmHg)', size = 14, labelpad = 0)\n",
    "ax[1,0].tick_params(axis='both', which='major', labelsize=14)\n",
    "ax[1,0].grid(True)\n",
    "\n",
    "# Figure 3D\n",
    "ax[1,1].boxplot([gases_low_PIP['pH_after'].dropna(), \n",
    "             gases_not_low_PIP['pH_after'].dropna()], widths = 0.5, whis = 'range', \n",
    "            showfliers = True, showmeans = True, medianprops=medianprops,  meanprops = meanpointprops, \n",
    "            boxprops=boxprops, whiskerprops=whiskerprops, capprops=capprops, flierprops = flierprops)\n",
    "\n",
    "ax[1,1].text(1.25, 7.38, 'p = 0.070')\n",
    "ax[1,1].set_xticklabels(xticklabels)\n",
    "ax[1,1].set_ylim(6.7, 7.45)\n",
    "ax[1,1].set_xlabel('cmH$_2$O', size = 14)\n",
    "ax[1,1].set_ylabel('pH after transport', size = 14, labelpad = 0)\n",
    "ax[1,1].tick_params(axis='both', which='major', labelsize=14)\n",
    "ax[1,1].grid(True)\n",
    "\n",
    "fig.text(0.04, 0.92, 'A', fontsize = 16); fig.text(0.50, 0.92, 'B', fontsize = 16)\n",
    "fig.text(0.04, 0.46, 'C', fontsize = 16); fig.text(0.50, 0.46, 'D', fontsize = 16)\n",
    "\n",
    "fig.savefig('%s/%s.%s' % (DIR_WRITE, 'Figure_2', filetype),\n",
    "    dpi = dpi, facecolor='w', edgecolor='w', orientation='portrait', papertype=None, format = filetype,\n",
    "    transparent=False, bbox_inches='tight', pad_inches=0.1, );"
   ]
  },
  {
   "cell_type": "markdown",
   "metadata": {},
   "source": [
    "### Supplementary Figure 1"
   ]
  },
  {
   "cell_type": "code",
   "execution_count": null,
   "metadata": {
    "scrolled": false
   },
   "outputs": [],
   "source": [
    "# Define resolution and file type\n",
    "dpi = 300\n",
    "filetype = 'eps'\n",
    "\n",
    "\n",
    "fig = plt.figure()\n",
    "fig.set_size_inches(6, 6)\n",
    "fig.subplots_adjust(left=None, bottom=None, right=None, top=None, wspace=None, hspace=0.7)\n",
    "ax = fig.add_subplot(1,1,1);\n",
    "\n",
    "x = MAP_simv_vg['mean']\n",
    "y = FiO2_simv_vg['mean']\n",
    "\n",
    "v = MAP_simv_novg['mean']\n",
    "w = FiO2_simv_novg['mean']\n",
    "\n",
    "plt.scatter(x, y, color = 'white', edgecolors = 'black', marker = 'o', s = 30, )\n",
    "plt.scatter(v, w, color = 'black', marker = '+', s = 40, )\n",
    "\n",
    "plt.xlim([0, 20])\n",
    "plt.ylim([0, 110])\n",
    "plt.xlabel('MAP (cmH$_2$O)', fontsize  = 14)\n",
    "plt.ylabel('FiO$_2$ (%)', fontsize  = 14)\n",
    "plt.tick_params(axis = 'both', labelsize = 14)\n",
    "plt.title('', fontsize = 14)\n",
    "plt.grid(True)\n",
    "ax.legend().set_visible(False)\n",
    "\n",
    "a = pd.concat([x, v])\n",
    "b = pd.concat([y, w])\n",
    "\n",
    "# Polynomial Coefficients\n",
    "coeffs = np.polyfit(a.values.astype('float'), \n",
    "                    b.values.astype('float'), deg = 1)\n",
    "result = coeffs.tolist()\n",
    "result\n",
    "\n",
    "# Fit a trendline\n",
    "l = np.poly1d(coeffs)\n",
    "plt.plot(a,l(a),'k--', alpha = 0.7)\n",
    "\n",
    "# Calculate pearson's correlation coefficient with confidence intervals, coefficiet of determination and p value\n",
    "r , lcl, ucl , r2, p = corr_pearson(a, b)\n",
    "\n",
    "# print the equation on the graph area \n",
    "text = 'y=%.2fx + %.2f\\nr=%.2f (%.2f - %.2f)\\np<%.3f' % (result[0], result[1], r, lcl, ucl, 0.001)\n",
    "plt.text(1 , 90 ,  text, color = 'black', style='normal', fontsize = 14, \n",
    "         bbox={'facecolor':'white', 'edgecolor':'black', 'alpha':1, 'pad':10})\n",
    "\n",
    "fig.savefig('%s/%s.%s' % (DIR_WRITE, 'Supplementary_Figure_1',  filetype), \n",
    "            dpi = dpi, facecolor='w', edgecolor='w',\n",
    "            orientation='portrait', papertype=None, format = filetype,\n",
    "            transparent=False, bbox_inches='tight', pad_inches=0.1);"
   ]
  },
  {
   "cell_type": "markdown",
   "metadata": {},
   "source": [
    "### Supplementary Figure 2"
   ]
  },
  {
   "cell_type": "markdown",
   "metadata": {},
   "source": [
    "#### Supplementary Figure 2A"
   ]
  },
  {
   "cell_type": "code",
   "execution_count": null,
   "metadata": {},
   "outputs": [],
   "source": [
    "fig, ax = plt.subplots(figsize = (5,5))\n",
    "ax.plot([1, 2], [gases_vg['pCO2_before'], gases_vg['pCO2_after']], color = 'black', marker = 'o')\n",
    "ax.set_xlim(0.5, 2.5)\n",
    "ax.set_ylim(0, 110)\n",
    "ax.set_xticks([1,2])\n",
    "ax.set_xticklabels(['before transfer', 'after transfer'], size = 14)\n",
    "ax.set_ylabel(r'pCO$_2$ (mmHg)', size = 14)\n",
    "ax.set_title('', size = 14)\n",
    "ax.grid(True)\n",
    "\n",
    "fig.savefig('%s/%s.%s' % (DIR_WRITE,'_simv_vg_CO2_before_after', 'jpg'),\n",
    "    dpi = 300, facecolor='w', edgecolor='w', orientation='portrait', papertype=None, format = 'jpg',\n",
    "    transparent=False, bbox_inches= 'tight', pad_inches=0.1);"
   ]
  },
  {
   "cell_type": "markdown",
   "metadata": {},
   "source": [
    "#### Supplementary Figure 2B"
   ]
  },
  {
   "cell_type": "code",
   "execution_count": null,
   "metadata": {},
   "outputs": [],
   "source": [
    "fig, ax = plt.subplots(figsize = (5,5))\n",
    "ax.plot([1, 2], [gases_novg['pCO2_before'], gases_novg['pCO2_after']], color = 'black', marker = 'o')\n",
    "ax.set_xlim(0.5, 2.5)\n",
    "ax.set_ylim(0, 100)\n",
    "ax.set_xticks([1,2])\n",
    "ax.set_xticklabels(['before transfer', 'after transfer'], size = 14)\n",
    "ax.set_ylabel(r'pCO$_2$ (mmHg)', size = 14)\n",
    "ax.set_title('', size = 14)\n",
    "ax.grid(True)\n",
    "\n",
    "fig.savefig('%s/%s.%s' % (DIR_WRITE,'_simv_novg_CO2_before_after', 'jpg'),\n",
    "    dpi = 300, facecolor='w', edgecolor='w', orientation='portrait', papertype=None, format = 'jpg',\n",
    "    transparent=False, bbox_inches= 'tight', pad_inches=0.1);"
   ]
  },
  {
   "cell_type": "markdown",
   "metadata": {},
   "source": [
    "#### Supplementary Figure 2 combined"
   ]
  },
  {
   "cell_type": "code",
   "execution_count": null,
   "metadata": {},
   "outputs": [],
   "source": [
    "# Define resolution and file type\n",
    "dpi = 300\n",
    "filetype = 'eps'\n",
    "\n",
    "# Define xticklabels\n",
    "xticklabels = ['before', 'after']\n",
    "\n",
    "# Define styling for each boxplot component\n",
    "medianprops = {'color': 'black', 'linewidth': 2}\n",
    "meanpointprops = {'marker':'D', 'markeredgecolor':'black', 'markerfacecolor':'black'}\n",
    "boxprops = {'color': 'black', 'linestyle': '-'}\n",
    "whiskerprops = {'color': 'black', 'linestyle': '-'}\n",
    "capprops = {'color': 'black', 'linestyle': '-'}\n",
    "flierprops = {'color': 'black', 'marker': '.'}\n",
    "\n",
    "fig, ax = plt.subplots(1,2, figsize = [8,4])\n",
    "fig.subplots_adjust(left=0.1, bottom=0.1, right=0.9, top=0.9, hspace=0.3, wspace=0.3)\n",
    "\n",
    "\n",
    "# Supplemental Figure 1A\n",
    "ax[0].plot([1, 2], [gases_vg['pCO2_before'], gases_vg['pCO2_after']], color = 'black', marker = 'o')\n",
    "ax[0].set_xlim(0.5, 2.5)\n",
    "ax[0].set_ylim(0, 110)\n",
    "ax[0].set_xticks([1,2])\n",
    "ax[0].set_xticklabels(xticklabels, size = 14)\n",
    "ax[0].set_ylabel(r'pCO$_2$ (mmHg)', size = 14)\n",
    "ax[0].set_xlabel('transfer', size = 14)\n",
    "ax[0].grid(True)\n",
    "\n",
    "# Supplemental Figure 1B\n",
    "ax[1].plot([1, 2], [gases_novg['pCO2_before'], gases_novg['pCO2_after']], color = 'black', marker = 'o')\n",
    "ax[1].set_xlim(0.5, 2.5)\n",
    "ax[1].set_ylim(0, 110)\n",
    "ax[1].set_xticks([1,2])\n",
    "ax[1].set_xticklabels(xticklabels, size = 14)\n",
    "ax[1].set_ylabel('')\n",
    "ax[1].set_xlabel('transfer', size = 14)\n",
    "ax[1].grid(True)\n",
    "\n",
    "fig.text(0.04, 0.92, 'A', fontsize = 16); fig.text(0.50, 0.92, 'B', fontsize = 16)\n",
    "\n",
    "fig.savefig('%s/%s.%s' % (DIR_WRITE,'Supplementary_Figure_2', filetype),\n",
    "    dpi = 300, facecolor='w', edgecolor='w', orientation='portrait', papertype=None, format = filetype,\n",
    "    transparent=False, bbox_inches= 'tight', pad_inches=0.1);"
   ]
  },
  {
   "cell_type": "markdown",
   "metadata": {},
   "source": [
    "### Supplementary Table 1"
   ]
  },
  {
   "cell_type": "code",
   "execution_count": null,
   "metadata": {},
   "outputs": [],
   "source": [
    "Suppl_table_1 = stats_simv_vg_selected.copy()\n",
    "\n",
    "for par in ['MVresp', 'MVspon', 'FiO2_set']:\n",
    "    Suppl_table_1[par, 'IQR'] = \\\n",
    "    stats_simv_vg_selected[par]['25pc'].apply(lambda x: str(int(round(x, 0)))) + ' - ' + \\\n",
    "    stats_simv_vg_selected[par]['75pc'].apply(lambda x: str(int(round(x, 0))))\n",
    "\n",
    "for par in ['Pdiff']:\n",
    "    Suppl_table_1[par, 'IQR'] = \\\n",
    "    stats_simv_vg_selected[par]['25pc'].apply(lambda x: str(int(round(x, 0)))) + ' - ' + \\\n",
    "    stats_simv_vg_selected[par]['75pc'].apply(lambda x: str(int(round(x, 0))))\n",
    "\n",
    "Suppl_table_1.sort_index(level = 0, axis = 1, ascending = False, inplace = True)\n",
    "\n",
    "Suppl_table_1;"
   ]
  },
  {
   "cell_type": "code",
   "execution_count": null,
   "metadata": {},
   "outputs": [],
   "source": [
    "writer = pd.ExcelWriter('%s/%s' % (DIR_WRITE, 'Supplementary_Table_1.xlsx'))\n",
    "Suppl_table_1.to_excel(writer, 'Suppl_Table_1')\n",
    "writer.save()"
   ]
  },
  {
   "cell_type": "markdown",
   "metadata": {},
   "source": [
    "### Supplementary Table 2"
   ]
  },
  {
   "cell_type": "code",
   "execution_count": null,
   "metadata": {},
   "outputs": [],
   "source": [
    "Suppl_table_2 = stats_simv_novg_selected.copy()\n",
    "\n",
    "for par in ['MVresp', 'MVspon', 'FiO2_set']:\n",
    "    Suppl_table_2[par, 'IQR'] = \\\n",
    "    stats_simv_novg_selected[par]['25pc'].apply(lambda x: str(int(round(x, 0)))) + ' - ' + \\\n",
    "    stats_simv_novg_selected[par]['75pc'].apply(lambda x: str(int(round(x, 0))))\n",
    "\n",
    "Suppl_table_2.sort_index(level = 0, axis = 1, ascending = False, inplace = True)\n",
    "\n",
    "Suppl_table_2;"
   ]
  },
  {
   "cell_type": "code",
   "execution_count": null,
   "metadata": {},
   "outputs": [],
   "source": [
    "writer = pd.ExcelWriter('%s/%s' % (DIR_WRITE, 'Supplementary_Table_2.xlsx'))\n",
    "Suppl_table_2.to_excel(writer, 'Suppl_Table_2')\n",
    "writer.save()"
   ]
  },
  {
   "cell_type": "code",
   "execution_count": null,
   "metadata": {},
   "outputs": [],
   "source": []
  }
 ],
 "metadata": {
  "anaconda-cloud": {},
  "kernelspec": {
   "display_name": "Python 3",
   "language": "python",
   "name": "python3"
  },
  "language_info": {
   "codemirror_mode": {
    "name": "ipython",
    "version": 3
   },
   "file_extension": ".py",
   "mimetype": "text/x-python",
   "name": "python",
   "nbconvert_exporter": "python",
   "pygments_lexer": "ipython3",
   "version": "3.7.4"
  }
 },
 "nbformat": 4,
 "nbformat_minor": 2
}
